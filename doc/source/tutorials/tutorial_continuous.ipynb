{
 "cells": [
  {
   "cell_type": "markdown",
   "metadata": {},
   "source": [
    "# Tutorial: optimal binning with continuous target"
   ]
  },
  {
   "cell_type": "markdown",
   "metadata": {},
   "source": [
    "## Basic"
   ]
  },
  {
   "cell_type": "markdown",
   "metadata": {},
   "source": [
    "To get us started, let's load a well-known dataset from the UCI repository and transform the data into a ``pandas.DataFrame``."
   ]
  },
  {
   "cell_type": "code",
   "execution_count": 1,
   "metadata": {},
   "outputs": [],
   "source": [
    "import matplotlib.pyplot as plt\n",
    "import numpy as np\n",
    "import pandas as pd\n",
    "\n",
    "from tests.datasets import load_boston"
   ]
  },
  {
   "cell_type": "code",
   "execution_count": 2,
   "metadata": {},
   "outputs": [],
   "source": [
    "data = load_boston()\n",
    "df = pd.DataFrame(data.data, columns=data.feature_names)"
   ]
  },
  {
   "cell_type": "markdown",
   "metadata": {},
   "source": [
    "We choose a variable to discretize and the continuous target."
   ]
  },
  {
   "cell_type": "code",
   "execution_count": 3,
   "metadata": {},
   "outputs": [],
   "source": [
    "variable = \"LSTAT\"\n",
    "x = df[variable].values\n",
    "y = data.target"
   ]
  },
  {
   "cell_type": "markdown",
   "metadata": {},
   "source": [
    "Import and instantiate an ``ContinuousOptimalBinning`` object class. We pass the variable name and its data type."
   ]
  },
  {
   "cell_type": "code",
   "execution_count": 4,
   "metadata": {},
   "outputs": [],
   "source": [
    "from optbinning import ContinuousOptimalBinning"
   ]
  },
  {
   "cell_type": "code",
   "execution_count": 5,
   "metadata": {},
   "outputs": [],
   "source": [
    "optb = ContinuousOptimalBinning(name=variable, dtype=\"numerical\")"
   ]
  },
  {
   "cell_type": "markdown",
   "metadata": {},
   "source": [
    "We fit the optimal binning object with arrays ``x`` and ``y``."
   ]
  },
  {
   "cell_type": "code",
   "execution_count": 6,
   "metadata": {},
   "outputs": [
    {
     "data": {
      "text/plain": [
       "ContinuousOptimalBinning(name='LSTAT')"
      ]
     },
     "execution_count": 6,
     "metadata": {},
     "output_type": "execute_result"
    }
   ],
   "source": [
    "optb.fit(x, y)"
   ]
  },
  {
   "cell_type": "markdown",
   "metadata": {},
   "source": [
    "You can check if an optimal solution has been found via the ``status`` attribute:"
   ]
  },
  {
   "cell_type": "code",
   "execution_count": 7,
   "metadata": {},
   "outputs": [
    {
     "data": {
      "text/plain": [
       "'OPTIMAL'"
      ]
     },
     "execution_count": 7,
     "metadata": {},
     "output_type": "execute_result"
    }
   ],
   "source": [
    "optb.status"
   ]
  },
  {
   "cell_type": "markdown",
   "metadata": {},
   "source": [
    "You can also retrieve the optimal split points via the ``splits`` attribute:"
   ]
  },
  {
   "cell_type": "code",
   "execution_count": 8,
   "metadata": {},
   "outputs": [
    {
     "data": {
      "text/plain": [
       "array([ 4.6500001 ,  5.49499989,  6.86500001,  9.7249999 , 13.0999999 ,\n",
       "       14.4000001 , 17.23999977, 19.89999962, 23.31500053])"
      ]
     },
     "execution_count": 8,
     "metadata": {},
     "output_type": "execute_result"
    }
   ],
   "source": [
    "optb.splits"
   ]
  },
  {
   "cell_type": "markdown",
   "metadata": {},
   "source": [
    "#### The binning table"
   ]
  },
  {
   "cell_type": "markdown",
   "metadata": {},
   "source": [
    "The optimal binning algorithms return a binning table; a binning table displays the binned data and several metrics for each bin. Class ``ContinuousOptimalBinning`` returns an object ``ContinuousBinningTable`` via the ``binning_table`` attribute."
   ]
  },
  {
   "cell_type": "code",
   "execution_count": 9,
   "metadata": {},
   "outputs": [],
   "source": [
    "binning_table = optb.binning_table"
   ]
  },
  {
   "cell_type": "code",
   "execution_count": 10,
   "metadata": {},
   "outputs": [
    {
     "data": {
      "text/plain": [
       "optbinning.binning.binning_statistics.ContinuousBinningTable"
      ]
     },
     "execution_count": 10,
     "metadata": {},
     "output_type": "execute_result"
    }
   ],
   "source": [
    "type(binning_table)"
   ]
  },
  {
   "cell_type": "markdown",
   "metadata": {},
   "source": [
    "The `binning_table` is instantiated, but not built. Therefore, the first step is to call the method `build`, which returns a ``pandas.DataFrame``."
   ]
  },
  {
   "cell_type": "code",
   "execution_count": 11,
   "metadata": {},
   "outputs": [
    {
     "data": {
      "text/html": [
       "<div>\n",
       "<style scoped>\n",
       "    .dataframe tbody tr th:only-of-type {\n",
       "        vertical-align: middle;\n",
       "    }\n",
       "\n",
       "    .dataframe tbody tr th {\n",
       "        vertical-align: top;\n",
       "    }\n",
       "\n",
       "    .dataframe thead th {\n",
       "        text-align: right;\n",
       "    }\n",
       "</style>\n",
       "<table border=\"1\" class=\"dataframe\">\n",
       "  <thead>\n",
       "    <tr style=\"text-align: right;\">\n",
       "      <th></th>\n",
       "      <th>Bin</th>\n",
       "      <th>Count</th>\n",
       "      <th>Count (%)</th>\n",
       "      <th>Sum</th>\n",
       "      <th>Std</th>\n",
       "      <th>Mean</th>\n",
       "      <th>Min</th>\n",
       "      <th>Max</th>\n",
       "      <th>Zeros count</th>\n",
       "      <th>WoE</th>\n",
       "      <th>IV</th>\n",
       "    </tr>\n",
       "  </thead>\n",
       "  <tbody>\n",
       "    <tr>\n",
       "      <th>0</th>\n",
       "      <td>(-inf, 4.65)</td>\n",
       "      <td>50</td>\n",
       "      <td>0.098814</td>\n",
       "      <td>1985.9</td>\n",
       "      <td>8.198651</td>\n",
       "      <td>39.718000</td>\n",
       "      <td>22.8</td>\n",
       "      <td>50.0</td>\n",
       "      <td>0</td>\n",
       "      <td>17.185194</td>\n",
       "      <td>1.698142</td>\n",
       "    </tr>\n",
       "    <tr>\n",
       "      <th>1</th>\n",
       "      <td>[4.65, 5.49)</td>\n",
       "      <td>28</td>\n",
       "      <td>0.055336</td>\n",
       "      <td>853.2</td>\n",
       "      <td>6.123541</td>\n",
       "      <td>30.471429</td>\n",
       "      <td>21.9</td>\n",
       "      <td>50.0</td>\n",
       "      <td>0</td>\n",
       "      <td>7.938622</td>\n",
       "      <td>0.439291</td>\n",
       "    </tr>\n",
       "    <tr>\n",
       "      <th>2</th>\n",
       "      <td>[5.49, 6.87)</td>\n",
       "      <td>45</td>\n",
       "      <td>0.088933</td>\n",
       "      <td>1188.6</td>\n",
       "      <td>5.136259</td>\n",
       "      <td>26.413333</td>\n",
       "      <td>20.6</td>\n",
       "      <td>48.8</td>\n",
       "      <td>0</td>\n",
       "      <td>3.880527</td>\n",
       "      <td>0.345106</td>\n",
       "    </tr>\n",
       "    <tr>\n",
       "      <th>3</th>\n",
       "      <td>[6.87, 9.72)</td>\n",
       "      <td>89</td>\n",
       "      <td>0.175889</td>\n",
       "      <td>2274.9</td>\n",
       "      <td>6.845250</td>\n",
       "      <td>25.560674</td>\n",
       "      <td>11.9</td>\n",
       "      <td>50.0</td>\n",
       "      <td>0</td>\n",
       "      <td>3.027868</td>\n",
       "      <td>0.532570</td>\n",
       "    </tr>\n",
       "    <tr>\n",
       "      <th>4</th>\n",
       "      <td>[9.72, 13.10)</td>\n",
       "      <td>84</td>\n",
       "      <td>0.166008</td>\n",
       "      <td>1755.4</td>\n",
       "      <td>2.949979</td>\n",
       "      <td>20.897619</td>\n",
       "      <td>14.5</td>\n",
       "      <td>31.0</td>\n",
       "      <td>0</td>\n",
       "      <td>-1.635187</td>\n",
       "      <td>0.271454</td>\n",
       "    </tr>\n",
       "    <tr>\n",
       "      <th>5</th>\n",
       "      <td>[13.10, 14.40)</td>\n",
       "      <td>32</td>\n",
       "      <td>0.063241</td>\n",
       "      <td>667.4</td>\n",
       "      <td>2.632482</td>\n",
       "      <td>20.856250</td>\n",
       "      <td>15.0</td>\n",
       "      <td>29.6</td>\n",
       "      <td>0</td>\n",
       "      <td>-1.676556</td>\n",
       "      <td>0.106027</td>\n",
       "    </tr>\n",
       "    <tr>\n",
       "      <th>6</th>\n",
       "      <td>[14.40, 17.24)</td>\n",
       "      <td>60</td>\n",
       "      <td>0.118577</td>\n",
       "      <td>1037.5</td>\n",
       "      <td>3.588003</td>\n",
       "      <td>17.291667</td>\n",
       "      <td>10.2</td>\n",
       "      <td>30.7</td>\n",
       "      <td>0</td>\n",
       "      <td>-5.241140</td>\n",
       "      <td>0.621479</td>\n",
       "    </tr>\n",
       "    <tr>\n",
       "      <th>7</th>\n",
       "      <td>[17.24, 19.90)</td>\n",
       "      <td>43</td>\n",
       "      <td>0.084980</td>\n",
       "      <td>714.3</td>\n",
       "      <td>4.032554</td>\n",
       "      <td>16.611628</td>\n",
       "      <td>8.3</td>\n",
       "      <td>27.5</td>\n",
       "      <td>0</td>\n",
       "      <td>-5.921178</td>\n",
       "      <td>0.503183</td>\n",
       "    </tr>\n",
       "    <tr>\n",
       "      <th>8</th>\n",
       "      <td>[19.90, 23.32)</td>\n",
       "      <td>28</td>\n",
       "      <td>0.055336</td>\n",
       "      <td>368.4</td>\n",
       "      <td>3.912839</td>\n",
       "      <td>13.157143</td>\n",
       "      <td>5.0</td>\n",
       "      <td>21.7</td>\n",
       "      <td>0</td>\n",
       "      <td>-9.375663</td>\n",
       "      <td>0.518811</td>\n",
       "    </tr>\n",
       "    <tr>\n",
       "      <th>9</th>\n",
       "      <td>[23.32, inf)</td>\n",
       "      <td>47</td>\n",
       "      <td>0.092885</td>\n",
       "      <td>556.0</td>\n",
       "      <td>4.006586</td>\n",
       "      <td>11.829787</td>\n",
       "      <td>5.0</td>\n",
       "      <td>23.7</td>\n",
       "      <td>0</td>\n",
       "      <td>-10.703019</td>\n",
       "      <td>0.994154</td>\n",
       "    </tr>\n",
       "    <tr>\n",
       "      <th>10</th>\n",
       "      <td>Special</td>\n",
       "      <td>0</td>\n",
       "      <td>0.000000</td>\n",
       "      <td>0.0</td>\n",
       "      <td>NaN</td>\n",
       "      <td>0.000000</td>\n",
       "      <td>NaN</td>\n",
       "      <td>NaN</td>\n",
       "      <td>0</td>\n",
       "      <td>-22.532806</td>\n",
       "      <td>0.000000</td>\n",
       "    </tr>\n",
       "    <tr>\n",
       "      <th>11</th>\n",
       "      <td>Missing</td>\n",
       "      <td>0</td>\n",
       "      <td>0.000000</td>\n",
       "      <td>0.0</td>\n",
       "      <td>NaN</td>\n",
       "      <td>0.000000</td>\n",
       "      <td>NaN</td>\n",
       "      <td>NaN</td>\n",
       "      <td>0</td>\n",
       "      <td>-22.532806</td>\n",
       "      <td>0.000000</td>\n",
       "    </tr>\n",
       "    <tr>\n",
       "      <th>Totals</th>\n",
       "      <td></td>\n",
       "      <td>506</td>\n",
       "      <td>1.000000</td>\n",
       "      <td>11401.6</td>\n",
       "      <td></td>\n",
       "      <td>22.532806</td>\n",
       "      <td>5.0</td>\n",
       "      <td>50.0</td>\n",
       "      <td>0</td>\n",
       "      <td>111.650568</td>\n",
       "      <td>6.030218</td>\n",
       "    </tr>\n",
       "  </tbody>\n",
       "</table>\n",
       "</div>"
      ],
      "text/plain": [
       "                   Bin  Count  Count (%)      Sum       Std       Mean   Min  \\\n",
       "0         (-inf, 4.65)     50   0.098814   1985.9  8.198651  39.718000  22.8   \n",
       "1         [4.65, 5.49)     28   0.055336    853.2  6.123541  30.471429  21.9   \n",
       "2         [5.49, 6.87)     45   0.088933   1188.6  5.136259  26.413333  20.6   \n",
       "3         [6.87, 9.72)     89   0.175889   2274.9  6.845250  25.560674  11.9   \n",
       "4        [9.72, 13.10)     84   0.166008   1755.4  2.949979  20.897619  14.5   \n",
       "5       [13.10, 14.40)     32   0.063241    667.4  2.632482  20.856250  15.0   \n",
       "6       [14.40, 17.24)     60   0.118577   1037.5  3.588003  17.291667  10.2   \n",
       "7       [17.24, 19.90)     43   0.084980    714.3  4.032554  16.611628   8.3   \n",
       "8       [19.90, 23.32)     28   0.055336    368.4  3.912839  13.157143   5.0   \n",
       "9         [23.32, inf)     47   0.092885    556.0  4.006586  11.829787   5.0   \n",
       "10             Special      0   0.000000      0.0       NaN   0.000000   NaN   \n",
       "11             Missing      0   0.000000      0.0       NaN   0.000000   NaN   \n",
       "Totals                    506   1.000000  11401.6            22.532806   5.0   \n",
       "\n",
       "         Max  Zeros count         WoE        IV  \n",
       "0       50.0            0   17.185194  1.698142  \n",
       "1       50.0            0    7.938622  0.439291  \n",
       "2       48.8            0    3.880527  0.345106  \n",
       "3       50.0            0    3.027868  0.532570  \n",
       "4       31.0            0   -1.635187  0.271454  \n",
       "5       29.6            0   -1.676556  0.106027  \n",
       "6       30.7            0   -5.241140  0.621479  \n",
       "7       27.5            0   -5.921178  0.503183  \n",
       "8       21.7            0   -9.375663  0.518811  \n",
       "9       23.7            0  -10.703019  0.994154  \n",
       "10       NaN            0  -22.532806  0.000000  \n",
       "11       NaN            0  -22.532806  0.000000  \n",
       "Totals  50.0            0  111.650568  6.030218  "
      ]
     },
     "execution_count": 11,
     "metadata": {},
     "output_type": "execute_result"
    }
   ],
   "source": [
    "binning_table.build()"
   ]
  },
  {
   "cell_type": "markdown",
   "metadata": {},
   "source": [
    "Let's describe the columns of this binning table:\n",
    "\n",
    "- Bin: the intervals delimited by the optimal split points.\n",
    "- Count: the number of records for each bin.\n",
    "- Count (%): the percentage of records for each bin.\n",
    "- Sum: the target sum for each bin.\n",
    "- Std: the target std for each bin.\n",
    "- Mean: the target mean for each bin.\n",
    "- Min: the target min value for each bin.\n",
    "- Max: the target max value for each bin.\n",
    "- Zeros count: the number of zeros for each bin.\n",
    "- WoE: Surrogate Weight-of-Evidence for each bin.\n",
    "- IV: Surrogate IV for each bin.\n",
    "\n",
    "The WoE IV for a continuous target is computed as follows:\n",
    "\n",
    "\\begin{equation}\n",
    "IV = \\sum_{i=1}^n \\text{WoE}_i \\frac{r_i}{r_T}, \\quad \\text{WoE}_i = |U_i - \\mu|,\n",
    "\\end{equation}\n",
    "\n",
    "where $U_i$ is the target mean value for each bin, $\\mu$ is the total target mean, $r_i$ is the number of records for each bin, and $r_T$ is the total number of records.\n",
    "\n",
    "The last row shows the total number of records, sum and mean."
   ]
  },
  {
   "cell_type": "markdown",
   "metadata": {},
   "source": [
    "You can use the method ``plot`` to visualize the histogram and mean curve. Note that the Bin ID corresponds to the binning table index."
   ]
  },
  {
   "cell_type": "code",
   "execution_count": 12,
   "metadata": {},
   "outputs": [
    {
     "data": {
      "image/png": "[encoded data removed]",
      "text/plain": [
       "<Figure size 432x288 with 2 Axes>"
      ]
     },
     "metadata": {
      "needs_background": "light"
     },
     "output_type": "display_data"
    }
   ],
   "source": [
    "binning_table.plot()"
   ]
  },
  {
   "cell_type": "markdown",
   "metadata": {},
   "source": [
    "Optionally, you can show the binning plot with the actual bin widths."
   ]
  },
  {
   "cell_type": "code",
   "execution_count": 13,
   "metadata": {},
   "outputs": [
    {
     "data": {
      "image/png": "[encoded data removed]",
      "text/plain": [
       "<Figure size 432x288 with 2 Axes>"
      ]
     },
     "metadata": {
      "needs_background": "light"
     },
     "output_type": "display_data"
    }
   ],
   "source": [
    "binning_table.plot(style=\"actual\")"
   ]
  },
  {
   "cell_type": "markdown",
   "metadata": {},
   "source": [
    "Or show the bin labels instead of bin ids."
   ]
  },
  {
   "cell_type": "code",
   "execution_count": 14,
   "metadata": {},
   "outputs": [
    {
     "data": {
      "image/png": "[encoded data removed]",
      "text/plain": [
       "<Figure size 432x288 with 2 Axes>"
      ]
     },
     "metadata": {
      "needs_background": "light"
     },
     "output_type": "display_data"
    }
   ],
   "source": [
    "binning_table.plot(show_bin_labels=True)"
   ]
  },
  {
   "cell_type": "markdown",
   "metadata": {},
   "source": [
    "From version 0.19.0 the parameter ``metric`` is exposed to visualize other IV and WOE"
   ]
  },
  {
   "cell_type": "code",
   "execution_count": 15,
   "metadata": {},
   "outputs": [
    {
     "data": {
      "image/png": "[encoded data removed]",
      "text/plain": [
       "<Figure size 432x288 with 2 Axes>"
      ]
     },
     "metadata": {
      "needs_background": "light"
     },
     "output_type": "display_data"
    }
   ],
   "source": [
    "binning_table.plot(metric='iv', show_bin_labels=True)"
   ]
  },
  {
   "cell_type": "markdown",
   "metadata": {},
   "source": [
    "##### Mean transformation"
   ]
  },
  {
   "cell_type": "markdown",
   "metadata": {},
   "source": [
    "Now that we have checked the binned data, we can transform our original data into mean values. You can check the correctness of the transformation using pandas ``value_counts`` method, for instance."
   ]
  },
  {
   "cell_type": "code",
   "execution_count": 16,
   "metadata": {},
   "outputs": [],
   "source": [
    "x_transform_bins = optb.transform(x, metric=\"bins\")"
   ]
  },
  {
   "cell_type": "code",
   "execution_count": 17,
   "metadata": {},
   "outputs": [
    {
     "data": {
      "text/plain": [
       "[6.87, 9.72)      89\n",
       "[9.72, 13.10)     84\n",
       "[14.40, 17.24)    60\n",
       "(-inf, 4.65)      50\n",
       "[23.32, inf)      47\n",
       "[5.49, 6.87)      45\n",
       "[17.24, 19.90)    43\n",
       "[13.10, 14.40)    32\n",
       "[19.90, 23.32)    28\n",
       "[4.65, 5.49)      28\n",
       "dtype: int64"
      ]
     },
     "execution_count": 17,
     "metadata": {},
     "output_type": "execute_result"
    }
   ],
   "source": [
    "pd.Series(x_transform_bins).value_counts()"
   ]
  },
  {
   "cell_type": "markdown",
   "metadata": {},
   "source": [
    "## Advanced"
   ]
  },
  {
   "cell_type": "markdown",
   "metadata": {},
   "source": [
    "Many of the advanced options have been covered in the previous tutorials with a binary target. **Check it out!** In this section, we focus on the mean monotonicity trend and the mean difference between bins."
   ]
  },
  {
   "cell_type": "markdown",
   "metadata": {},
   "source": [
    "#### Binning table statistical analysis"
   ]
  },
  {
   "cell_type": "markdown",
   "metadata": {},
   "source": [
    "The ``analysis`` method performs a statistical analysis of the binning table, computing the Information Value (IV), Weight of Evidence (WoE), and Herfindahl-Hirschman Index (HHI). Additionally, several statistical significance tests between consecutive bins of the contingency table are performed using the Student's t-test."
   ]
  },
  {
   "cell_type": "code",
   "execution_count": 18,
   "metadata": {},
   "outputs": [
    {
     "name": "stdout",
     "output_type": "stream",
     "text": [
      "-------------------------------------------------\n",
      "OptimalBinning: Continuous Binning Table Analysis\n",
      "-------------------------------------------------\n",
      "\n",
      "  General metrics\n",
      "\n",
      "    IV                       6.03021763\n",
      "    WoE                    111.65056765\n",
      "    WoE (normalized)         4.95502274\n",
      "    HHI                      0.11620241\n",
      "    HHI (normalized)         0.03585717\n",
      "    Quality score            0.01333978\n",
      "\n",
      "  Monotonic trend            descending\n",
      "\n",
      "  Significance tests\n",
      "\n",
      "    Bin A  Bin B  t-statistic      p-value\n",
      "        0      1     5.644492 3.313748e-07\n",
      "        1      2     2.924528 5.175586e-03\n",
      "        2      3     0.808313 4.206096e-01\n",
      "        3      4     5.874488 3.816654e-08\n",
      "        4      5     0.073112 9.419504e-01\n",
      "        5      6     5.428848 5.770714e-07\n",
      "        6      7     0.883289 3.796030e-01\n",
      "        7      8     3.591859 6.692488e-04\n",
      "        8      9     1.408305 1.643801e-01\n",
      "\n"
     ]
    }
   ],
   "source": [
    "binning_table.analysis()"
   ]
  },
  {
   "cell_type": "markdown",
   "metadata": {},
   "source": [
    "#### Mean monotonicity"
   ]
  },
  {
   "cell_type": "markdown",
   "metadata": {},
   "source": [
    "The monotonic_trend option permits forcing a monotonic trend to the mean curve. The default setting “auto” should be the preferred option, however, some business constraints might require to impose different trends. The default setting “auto” chooses the monotonic trend most likely to minimize the L1-norm from the options “ascending”, “descending”, “peak” and “valley” using a machine-learning-based classifier."
   ]
  },
  {
   "cell_type": "code",
   "execution_count": 19,
   "metadata": {},
   "outputs": [],
   "source": [
    "variable = \"INDUS\"\n",
    "x = df[variable].values"
   ]
  },
  {
   "cell_type": "code",
   "execution_count": 20,
   "metadata": {},
   "outputs": [
    {
     "data": {
      "text/plain": [
       "ContinuousOptimalBinning(name='INDUS')"
      ]
     },
     "execution_count": 20,
     "metadata": {},
     "output_type": "execute_result"
    }
   ],
   "source": [
    "optb = ContinuousOptimalBinning(name=variable, dtype=\"numerical\",\n",
    "                                monotonic_trend=\"auto\")\n",
    "optb.fit(x, y)"
   ]
  },
  {
   "cell_type": "code",
   "execution_count": 21,
   "metadata": {},
   "outputs": [
    {
     "data": {
      "text/html": [
       "<div>\n",
       "<style scoped>\n",
       "    .dataframe tbody tr th:only-of-type {\n",
       "        vertical-align: middle;\n",
       "    }\n",
       "\n",
       "    .dataframe tbody tr th {\n",
       "        vertical-align: top;\n",
       "    }\n",
       "\n",
       "    .dataframe thead th {\n",
       "        text-align: right;\n",
       "    }\n",
       "</style>\n",
       "<table border=\"1\" class=\"dataframe\">\n",
       "  <thead>\n",
       "    <tr style=\"text-align: right;\">\n",
       "      <th></th>\n",
       "      <th>Bin</th>\n",
       "      <th>Count</th>\n",
       "      <th>Count (%)</th>\n",
       "      <th>Sum</th>\n",
       "      <th>Std</th>\n",
       "      <th>Mean</th>\n",
       "      <th>Min</th>\n",
       "      <th>Max</th>\n",
       "      <th>Zeros count</th>\n",
       "      <th>WoE</th>\n",
       "      <th>IV</th>\n",
       "    </tr>\n",
       "  </thead>\n",
       "  <tbody>\n",
       "    <tr>\n",
       "      <th>0</th>\n",
       "      <td>(-inf, 3.35)</td>\n",
       "      <td>63</td>\n",
       "      <td>0.124506</td>\n",
       "      <td>1994.0</td>\n",
       "      <td>8.569841</td>\n",
       "      <td>31.650794</td>\n",
       "      <td>16.5</td>\n",
       "      <td>50.0</td>\n",
       "      <td>0</td>\n",
       "      <td>9.117987</td>\n",
       "      <td>1.135243</td>\n",
       "    </tr>\n",
       "    <tr>\n",
       "      <th>1</th>\n",
       "      <td>[3.35, 5.04)</td>\n",
       "      <td>57</td>\n",
       "      <td>0.112648</td>\n",
       "      <td>1615.2</td>\n",
       "      <td>8.072710</td>\n",
       "      <td>28.336842</td>\n",
       "      <td>17.2</td>\n",
       "      <td>50.0</td>\n",
       "      <td>0</td>\n",
       "      <td>5.804036</td>\n",
       "      <td>0.653814</td>\n",
       "    </tr>\n",
       "    <tr>\n",
       "      <th>2</th>\n",
       "      <td>[5.04, 6.66)</td>\n",
       "      <td>66</td>\n",
       "      <td>0.130435</td>\n",
       "      <td>1723.7</td>\n",
       "      <td>7.879078</td>\n",
       "      <td>26.116667</td>\n",
       "      <td>16.0</td>\n",
       "      <td>50.0</td>\n",
       "      <td>0</td>\n",
       "      <td>3.583860</td>\n",
       "      <td>0.467460</td>\n",
       "    </tr>\n",
       "    <tr>\n",
       "      <th>3</th>\n",
       "      <td>[6.66, 9.12)</td>\n",
       "      <td>64</td>\n",
       "      <td>0.126482</td>\n",
       "      <td>1292.0</td>\n",
       "      <td>4.614126</td>\n",
       "      <td>20.187500</td>\n",
       "      <td>12.7</td>\n",
       "      <td>35.2</td>\n",
       "      <td>0</td>\n",
       "      <td>-2.345306</td>\n",
       "      <td>0.296640</td>\n",
       "    </tr>\n",
       "    <tr>\n",
       "      <th>4</th>\n",
       "      <td>[9.12, 10.30)</td>\n",
       "      <td>29</td>\n",
       "      <td>0.057312</td>\n",
       "      <td>584.1</td>\n",
       "      <td>2.252281</td>\n",
       "      <td>20.141379</td>\n",
       "      <td>16.1</td>\n",
       "      <td>24.5</td>\n",
       "      <td>0</td>\n",
       "      <td>-2.391427</td>\n",
       "      <td>0.137058</td>\n",
       "    </tr>\n",
       "    <tr>\n",
       "      <th>5</th>\n",
       "      <td>[10.30, 20.73)</td>\n",
       "      <td>200</td>\n",
       "      <td>0.395257</td>\n",
       "      <td>3736.2</td>\n",
       "      <td>8.959305</td>\n",
       "      <td>18.681000</td>\n",
       "      <td>5.0</td>\n",
       "      <td>50.0</td>\n",
       "      <td>0</td>\n",
       "      <td>-3.851806</td>\n",
       "      <td>1.522453</td>\n",
       "    </tr>\n",
       "    <tr>\n",
       "      <th>6</th>\n",
       "      <td>[20.73, inf)</td>\n",
       "      <td>27</td>\n",
       "      <td>0.053360</td>\n",
       "      <td>456.4</td>\n",
       "      <td>3.690878</td>\n",
       "      <td>16.903704</td>\n",
       "      <td>7.0</td>\n",
       "      <td>23.0</td>\n",
       "      <td>0</td>\n",
       "      <td>-5.629103</td>\n",
       "      <td>0.300367</td>\n",
       "    </tr>\n",
       "    <tr>\n",
       "      <th>7</th>\n",
       "      <td>Special</td>\n",
       "      <td>0</td>\n",
       "      <td>0.000000</td>\n",
       "      <td>0.0</td>\n",
       "      <td>NaN</td>\n",
       "      <td>0.000000</td>\n",
       "      <td>NaN</td>\n",
       "      <td>NaN</td>\n",
       "      <td>0</td>\n",
       "      <td>-22.532806</td>\n",
       "      <td>0.000000</td>\n",
       "    </tr>\n",
       "    <tr>\n",
       "      <th>8</th>\n",
       "      <td>Missing</td>\n",
       "      <td>0</td>\n",
       "      <td>0.000000</td>\n",
       "      <td>0.0</td>\n",
       "      <td>NaN</td>\n",
       "      <td>0.000000</td>\n",
       "      <td>NaN</td>\n",
       "      <td>NaN</td>\n",
       "      <td>0</td>\n",
       "      <td>-22.532806</td>\n",
       "      <td>0.000000</td>\n",
       "    </tr>\n",
       "    <tr>\n",
       "      <th>Totals</th>\n",
       "      <td></td>\n",
       "      <td>506</td>\n",
       "      <td>1.000000</td>\n",
       "      <td>11401.6</td>\n",
       "      <td></td>\n",
       "      <td>22.532806</td>\n",
       "      <td>5.0</td>\n",
       "      <td>50.0</td>\n",
       "      <td>0</td>\n",
       "      <td>77.789138</td>\n",
       "      <td>4.513036</td>\n",
       "    </tr>\n",
       "  </tbody>\n",
       "</table>\n",
       "</div>"
      ],
      "text/plain": [
       "                   Bin  Count  Count (%)      Sum       Std       Mean   Min  \\\n",
       "0         (-inf, 3.35)     63   0.124506   1994.0  8.569841  31.650794  16.5   \n",
       "1         [3.35, 5.04)     57   0.112648   1615.2  8.072710  28.336842  17.2   \n",
       "2         [5.04, 6.66)     66   0.130435   1723.7  7.879078  26.116667  16.0   \n",
       "3         [6.66, 9.12)     64   0.126482   1292.0  4.614126  20.187500  12.7   \n",
       "4        [9.12, 10.30)     29   0.057312    584.1  2.252281  20.141379  16.1   \n",
       "5       [10.30, 20.73)    200   0.395257   3736.2  8.959305  18.681000   5.0   \n",
       "6         [20.73, inf)     27   0.053360    456.4  3.690878  16.903704   7.0   \n",
       "7              Special      0   0.000000      0.0       NaN   0.000000   NaN   \n",
       "8              Missing      0   0.000000      0.0       NaN   0.000000   NaN   \n",
       "Totals                    506   1.000000  11401.6            22.532806   5.0   \n",
       "\n",
       "         Max  Zeros count        WoE        IV  \n",
       "0       50.0            0   9.117987  1.135243  \n",
       "1       50.0            0   5.804036  0.653814  \n",
       "2       50.0            0   3.583860  0.467460  \n",
       "3       35.2            0  -2.345306  0.296640  \n",
       "4       24.5            0  -2.391427  0.137058  \n",
       "5       50.0            0  -3.851806  1.522453  \n",
       "6       23.0            0  -5.629103  0.300367  \n",
       "7        NaN            0 -22.532806  0.000000  \n",
       "8        NaN            0 -22.532806  0.000000  \n",
       "Totals  50.0            0  77.789138  4.513036  "
      ]
     },
     "execution_count": 21,
     "metadata": {},
     "output_type": "execute_result"
    }
   ],
   "source": [
    "binning_table = optb.binning_table\n",
    "binning_table.build()"
   ]
  },
  {
   "cell_type": "code",
   "execution_count": 22,
   "metadata": {},
   "outputs": [
    {
     "data": {
      "image/png": "[encoded data removed]",
      "text/plain": [
       "<Figure size 432x288 with 2 Axes>"
      ]
     },
     "metadata": {
      "needs_background": "light"
     },
     "output_type": "display_data"
    }
   ],
   "source": [
    "binning_table.plot()"
   ]
  },
  {
   "cell_type": "code",
   "execution_count": 23,
   "metadata": {},
   "outputs": [
    {
     "name": "stdout",
     "output_type": "stream",
     "text": [
      "optbinning (Version 0.19.0)\n",
      "Copyright (c) 2019-2024 Guillermo Navas-Palencia, Apache License 2.0\n",
      "\n",
      "  Name    : INDUS                           \n",
      "  Status  : OPTIMAL                         \n",
      "\n",
      "  Pre-binning statistics\n",
      "    Number of pre-bins                    13\n",
      "    Number of refinements                  0\n",
      "\n",
      "  Solver statistics\n",
      "    Type                                  cp\n",
      "    Number of booleans                   100\n",
      "    Number of branches                   211\n",
      "    Number of conflicts                    3\n",
      "    Objective value                 32723523\n",
      "    Best objective bound            32723523\n",
      "\n",
      "  Timing\n",
      "    Total time                          0.21 sec\n",
      "    Pre-processing                      0.00 sec   (  0.30%)\n",
      "    Pre-binning                         0.01 sec   (  3.20%)\n",
      "    Solver                              0.21 sec   ( 95.80%)\n",
      "      model generation                  0.17 sec   ( 84.80%)\n",
      "      optimizer                         0.03 sec   ( 15.20%)\n",
      "    Post-processing                     0.00 sec   (  0.18%)\n",
      "\n"
     ]
    }
   ],
   "source": [
    "optb.information()"
   ]
  },
  {
   "cell_type": "code",
   "execution_count": 24,
   "metadata": {},
   "outputs": [
    {
     "name": "stdout",
     "output_type": "stream",
     "text": [
      "-------------------------------------------------\n",
      "OptimalBinning: Continuous Binning Table Analysis\n",
      "-------------------------------------------------\n",
      "\n",
      "  General metrics\n",
      "\n",
      "    IV                       4.51303567\n",
      "    WoE                     77.78913838\n",
      "    WoE (normalized)         3.45226144\n",
      "    HHI                      0.22356231\n",
      "    HHI (normalized)         0.12650760\n",
      "    Quality score            0.02383215\n",
      "\n",
      "  Monotonic trend            descending\n",
      "\n",
      "  Significance tests\n",
      "\n",
      "    Bin A  Bin B  t-statistic      p-value\n",
      "        0      1     2.180865 3.118080e-02\n",
      "        1      2     1.537968 1.267445e-01\n",
      "        2      3     5.254539 7.781110e-07\n",
      "        3      4     0.064736 9.485275e-01\n",
      "        4      5     1.923770 5.601023e-02\n",
      "        5      6     1.867339 6.563949e-02\n",
      "\n"
     ]
    }
   ],
   "source": [
    "binning_table.analysis()"
   ]
  },
  {
   "cell_type": "markdown",
   "metadata": {},
   "source": [
    "A smoother curve, keeping the valley monotonicity, can be achieved by using ``monotonic_trend=\"convex\"``."
   ]
  },
  {
   "cell_type": "code",
   "execution_count": 25,
   "metadata": {},
   "outputs": [
    {
     "data": {
      "text/plain": [
       "ContinuousOptimalBinning(monotonic_trend='convex', name='INDUS')"
      ]
     },
     "execution_count": 25,
     "metadata": {},
     "output_type": "execute_result"
    }
   ],
   "source": [
    "optb = ContinuousOptimalBinning(name=variable, dtype=\"numerical\",\n",
    "                                monotonic_trend=\"convex\")\n",
    "optb.fit(x, y)"
   ]
  },
  {
   "cell_type": "code",
   "execution_count": 26,
   "metadata": {},
   "outputs": [
    {
     "data": {
      "text/html": [
       "<div>\n",
       "<style scoped>\n",
       "    .dataframe tbody tr th:only-of-type {\n",
       "        vertical-align: middle;\n",
       "    }\n",
       "\n",
       "    .dataframe tbody tr th {\n",
       "        vertical-align: top;\n",
       "    }\n",
       "\n",
       "    .dataframe thead th {\n",
       "        text-align: right;\n",
       "    }\n",
       "</style>\n",
       "<table border=\"1\" class=\"dataframe\">\n",
       "  <thead>\n",
       "    <tr style=\"text-align: right;\">\n",
       "      <th></th>\n",
       "      <th>Bin</th>\n",
       "      <th>Count</th>\n",
       "      <th>Count (%)</th>\n",
       "      <th>Sum</th>\n",
       "      <th>Std</th>\n",
       "      <th>Mean</th>\n",
       "      <th>Min</th>\n",
       "      <th>Max</th>\n",
       "      <th>Zeros count</th>\n",
       "      <th>WoE</th>\n",
       "      <th>IV</th>\n",
       "    </tr>\n",
       "  </thead>\n",
       "  <tbody>\n",
       "    <tr>\n",
       "      <th>0</th>\n",
       "      <td>(-inf, 3.99)</td>\n",
       "      <td>92</td>\n",
       "      <td>0.181818</td>\n",
       "      <td>2932.6</td>\n",
       "      <td>8.688703</td>\n",
       "      <td>31.876087</td>\n",
       "      <td>16.5</td>\n",
       "      <td>50.0</td>\n",
       "      <td>0</td>\n",
       "      <td>9.343281</td>\n",
       "      <td>1.698778</td>\n",
       "    </tr>\n",
       "    <tr>\n",
       "      <th>1</th>\n",
       "      <td>[3.99, 8.01)</td>\n",
       "      <td>125</td>\n",
       "      <td>0.247036</td>\n",
       "      <td>3092.3</td>\n",
       "      <td>6.644213</td>\n",
       "      <td>24.738400</td>\n",
       "      <td>14.4</td>\n",
       "      <td>50.0</td>\n",
       "      <td>0</td>\n",
       "      <td>2.205594</td>\n",
       "      <td>0.544860</td>\n",
       "    </tr>\n",
       "    <tr>\n",
       "      <th>2</th>\n",
       "      <td>[8.01, 9.12)</td>\n",
       "      <td>33</td>\n",
       "      <td>0.065217</td>\n",
       "      <td>600.0</td>\n",
       "      <td>3.614571</td>\n",
       "      <td>18.181818</td>\n",
       "      <td>12.7</td>\n",
       "      <td>27.5</td>\n",
       "      <td>0</td>\n",
       "      <td>-4.350988</td>\n",
       "      <td>0.283760</td>\n",
       "    </tr>\n",
       "    <tr>\n",
       "      <th>3</th>\n",
       "      <td>[9.12, 18.84)</td>\n",
       "      <td>199</td>\n",
       "      <td>0.393281</td>\n",
       "      <td>3610.8</td>\n",
       "      <td>7.540328</td>\n",
       "      <td>18.144724</td>\n",
       "      <td>5.0</td>\n",
       "      <td>50.0</td>\n",
       "      <td>0</td>\n",
       "      <td>-4.388083</td>\n",
       "      <td>1.725748</td>\n",
       "    </tr>\n",
       "    <tr>\n",
       "      <th>4</th>\n",
       "      <td>[18.84, inf)</td>\n",
       "      <td>57</td>\n",
       "      <td>0.112648</td>\n",
       "      <td>1165.9</td>\n",
       "      <td>9.519086</td>\n",
       "      <td>20.454386</td>\n",
       "      <td>7.0</td>\n",
       "      <td>50.0</td>\n",
       "      <td>0</td>\n",
       "      <td>-2.078420</td>\n",
       "      <td>0.234130</td>\n",
       "    </tr>\n",
       "    <tr>\n",
       "      <th>5</th>\n",
       "      <td>Special</td>\n",
       "      <td>0</td>\n",
       "      <td>0.000000</td>\n",
       "      <td>0.0</td>\n",
       "      <td>NaN</td>\n",
       "      <td>0.000000</td>\n",
       "      <td>NaN</td>\n",
       "      <td>NaN</td>\n",
       "      <td>0</td>\n",
       "      <td>-22.532806</td>\n",
       "      <td>0.000000</td>\n",
       "    </tr>\n",
       "    <tr>\n",
       "      <th>6</th>\n",
       "      <td>Missing</td>\n",
       "      <td>0</td>\n",
       "      <td>0.000000</td>\n",
       "      <td>0.0</td>\n",
       "      <td>NaN</td>\n",
       "      <td>0.000000</td>\n",
       "      <td>NaN</td>\n",
       "      <td>NaN</td>\n",
       "      <td>0</td>\n",
       "      <td>-22.532806</td>\n",
       "      <td>0.000000</td>\n",
       "    </tr>\n",
       "    <tr>\n",
       "      <th>Totals</th>\n",
       "      <td></td>\n",
       "      <td>506</td>\n",
       "      <td>1.000000</td>\n",
       "      <td>11401.6</td>\n",
       "      <td></td>\n",
       "      <td>22.532806</td>\n",
       "      <td>5.0</td>\n",
       "      <td>50.0</td>\n",
       "      <td>0</td>\n",
       "      <td>67.431978</td>\n",
       "      <td>4.487277</td>\n",
       "    </tr>\n",
       "  </tbody>\n",
       "</table>\n",
       "</div>"
      ],
      "text/plain": [
       "                  Bin  Count  Count (%)      Sum       Std       Mean   Min  \\\n",
       "0        (-inf, 3.99)     92   0.181818   2932.6  8.688703  31.876087  16.5   \n",
       "1        [3.99, 8.01)    125   0.247036   3092.3  6.644213  24.738400  14.4   \n",
       "2        [8.01, 9.12)     33   0.065217    600.0  3.614571  18.181818  12.7   \n",
       "3       [9.12, 18.84)    199   0.393281   3610.8  7.540328  18.144724   5.0   \n",
       "4        [18.84, inf)     57   0.112648   1165.9  9.519086  20.454386   7.0   \n",
       "5             Special      0   0.000000      0.0       NaN   0.000000   NaN   \n",
       "6             Missing      0   0.000000      0.0       NaN   0.000000   NaN   \n",
       "Totals                   506   1.000000  11401.6            22.532806   5.0   \n",
       "\n",
       "         Max  Zeros count        WoE        IV  \n",
       "0       50.0            0   9.343281  1.698778  \n",
       "1       50.0            0   2.205594  0.544860  \n",
       "2       27.5            0  -4.350988  0.283760  \n",
       "3       50.0            0  -4.388083  1.725748  \n",
       "4       50.0            0  -2.078420  0.234130  \n",
       "5        NaN            0 -22.532806  0.000000  \n",
       "6        NaN            0 -22.532806  0.000000  \n",
       "Totals  50.0            0  67.431978  4.487277  "
      ]
     },
     "execution_count": 26,
     "metadata": {},
     "output_type": "execute_result"
    }
   ],
   "source": [
    "binning_table = optb.binning_table\n",
    "binning_table.build()"
   ]
  },
  {
   "cell_type": "code",
   "execution_count": 27,
   "metadata": {},
   "outputs": [
    {
     "data": {
      "image/png": "[encoded data removed]",
      "text/plain": [
       "<Figure size 432x288 with 2 Axes>"
      ]
     },
     "metadata": {
      "needs_background": "light"
     },
     "output_type": "display_data"
    }
   ],
   "source": [
    "binning_table.plot()"
   ]
  },
  {
   "cell_type": "code",
   "execution_count": 28,
   "metadata": {},
   "outputs": [
    {
     "name": "stdout",
     "output_type": "stream",
     "text": [
      "-------------------------------------------------\n",
      "OptimalBinning: Continuous Binning Table Analysis\n",
      "-------------------------------------------------\n",
      "\n",
      "  General metrics\n",
      "\n",
      "    IV                       4.48727679\n",
      "    WoE                     67.43197816\n",
      "    WoE (normalized)         2.99261340\n",
      "    HHI                      0.26569701\n",
      "    HHI (normalized)         0.14331318\n",
      "    Quality score            0.01843250\n",
      "\n",
      "  Monotonic trend       valley (convex)\n",
      "\n",
      "  Significance tests\n",
      "\n",
      "    Bin A  Bin B  t-statistic      p-value\n",
      "        0      1     6.588254 5.789868e-10\n",
      "        1      2     7.575550 2.331580e-11\n",
      "        2      3     0.044930 9.642654e-01\n",
      "        3      4    -1.686553 9.572501e-02\n",
      "\n"
     ]
    }
   ],
   "source": [
    "binning_table.analysis()"
   ]
  },
  {
   "cell_type": "markdown",
   "metadata": {},
   "source": [
    "For example, we can force the variable INDUS (proportion of non-retail business acres per town) to be monotonically descending with respect to the house-pric and satisfy a max p-value constraint."
   ]
  },
  {
   "cell_type": "code",
   "execution_count": 29,
   "metadata": {},
   "outputs": [
    {
     "data": {
      "text/plain": [
       "ContinuousOptimalBinning(max_pvalue=0.05, monotonic_trend='descending',\n",
       "                         name='INDUS')"
      ]
     },
     "execution_count": 29,
     "metadata": {},
     "output_type": "execute_result"
    }
   ],
   "source": [
    "optb = ContinuousOptimalBinning(name=variable, dtype=\"numerical\",\n",
    "                                monotonic_trend=\"descending\",\n",
    "                                max_pvalue=0.05)\n",
    "optb.fit(x, y)"
   ]
  },
  {
   "cell_type": "code",
   "execution_count": 30,
   "metadata": {},
   "outputs": [
    {
     "data": {
      "text/html": [
       "<div>\n",
       "<style scoped>\n",
       "    .dataframe tbody tr th:only-of-type {\n",
       "        vertical-align: middle;\n",
       "    }\n",
       "\n",
       "    .dataframe tbody tr th {\n",
       "        vertical-align: top;\n",
       "    }\n",
       "\n",
       "    .dataframe thead th {\n",
       "        text-align: right;\n",
       "    }\n",
       "</style>\n",
       "<table border=\"1\" class=\"dataframe\">\n",
       "  <thead>\n",
       "    <tr style=\"text-align: right;\">\n",
       "      <th></th>\n",
       "      <th>Bin</th>\n",
       "      <th>Count</th>\n",
       "      <th>Count (%)</th>\n",
       "      <th>Sum</th>\n",
       "      <th>Std</th>\n",
       "      <th>Mean</th>\n",
       "      <th>Min</th>\n",
       "      <th>Max</th>\n",
       "      <th>Zeros count</th>\n",
       "      <th>WoE</th>\n",
       "      <th>IV</th>\n",
       "    </tr>\n",
       "  </thead>\n",
       "  <tbody>\n",
       "    <tr>\n",
       "      <th>0</th>\n",
       "      <td>(-inf, 3.35)</td>\n",
       "      <td>63</td>\n",
       "      <td>0.124506</td>\n",
       "      <td>1994.0</td>\n",
       "      <td>8.569841</td>\n",
       "      <td>31.650794</td>\n",
       "      <td>16.5</td>\n",
       "      <td>50.0</td>\n",
       "      <td>0</td>\n",
       "      <td>9.117987</td>\n",
       "      <td>1.135243</td>\n",
       "    </tr>\n",
       "    <tr>\n",
       "      <th>1</th>\n",
       "      <td>[3.35, 5.04)</td>\n",
       "      <td>57</td>\n",
       "      <td>0.112648</td>\n",
       "      <td>1615.2</td>\n",
       "      <td>8.072710</td>\n",
       "      <td>28.336842</td>\n",
       "      <td>17.2</td>\n",
       "      <td>50.0</td>\n",
       "      <td>0</td>\n",
       "      <td>5.804036</td>\n",
       "      <td>0.653814</td>\n",
       "    </tr>\n",
       "    <tr>\n",
       "      <th>2</th>\n",
       "      <td>[5.04, 8.01)</td>\n",
       "      <td>97</td>\n",
       "      <td>0.191700</td>\n",
       "      <td>2415.7</td>\n",
       "      <td>7.221288</td>\n",
       "      <td>24.904124</td>\n",
       "      <td>14.4</td>\n",
       "      <td>50.0</td>\n",
       "      <td>0</td>\n",
       "      <td>2.371317</td>\n",
       "      <td>0.454581</td>\n",
       "    </tr>\n",
       "    <tr>\n",
       "      <th>3</th>\n",
       "      <td>[8.01, 20.73)</td>\n",
       "      <td>262</td>\n",
       "      <td>0.517787</td>\n",
       "      <td>4920.3</td>\n",
       "      <td>7.983667</td>\n",
       "      <td>18.779771</td>\n",
       "      <td>5.0</td>\n",
       "      <td>50.0</td>\n",
       "      <td>0</td>\n",
       "      <td>-3.753035</td>\n",
       "      <td>1.943271</td>\n",
       "    </tr>\n",
       "    <tr>\n",
       "      <th>4</th>\n",
       "      <td>[20.73, inf)</td>\n",
       "      <td>27</td>\n",
       "      <td>0.053360</td>\n",
       "      <td>456.4</td>\n",
       "      <td>3.690878</td>\n",
       "      <td>16.903704</td>\n",
       "      <td>7.0</td>\n",
       "      <td>23.0</td>\n",
       "      <td>0</td>\n",
       "      <td>-5.629103</td>\n",
       "      <td>0.300367</td>\n",
       "    </tr>\n",
       "    <tr>\n",
       "      <th>5</th>\n",
       "      <td>Special</td>\n",
       "      <td>0</td>\n",
       "      <td>0.000000</td>\n",
       "      <td>0.0</td>\n",
       "      <td>NaN</td>\n",
       "      <td>0.000000</td>\n",
       "      <td>NaN</td>\n",
       "      <td>NaN</td>\n",
       "      <td>0</td>\n",
       "      <td>-22.532806</td>\n",
       "      <td>0.000000</td>\n",
       "    </tr>\n",
       "    <tr>\n",
       "      <th>6</th>\n",
       "      <td>Missing</td>\n",
       "      <td>0</td>\n",
       "      <td>0.000000</td>\n",
       "      <td>0.0</td>\n",
       "      <td>NaN</td>\n",
       "      <td>0.000000</td>\n",
       "      <td>NaN</td>\n",
       "      <td>NaN</td>\n",
       "      <td>0</td>\n",
       "      <td>-22.532806</td>\n",
       "      <td>0.000000</td>\n",
       "    </tr>\n",
       "    <tr>\n",
       "      <th>Totals</th>\n",
       "      <td></td>\n",
       "      <td>506</td>\n",
       "      <td>1.000000</td>\n",
       "      <td>11401.6</td>\n",
       "      <td></td>\n",
       "      <td>22.532806</td>\n",
       "      <td>5.0</td>\n",
       "      <td>50.0</td>\n",
       "      <td>0</td>\n",
       "      <td>71.741091</td>\n",
       "      <td>4.487277</td>\n",
       "    </tr>\n",
       "  </tbody>\n",
       "</table>\n",
       "</div>"
      ],
      "text/plain": [
       "                  Bin  Count  Count (%)      Sum       Std       Mean   Min  \\\n",
       "0        (-inf, 3.35)     63   0.124506   1994.0  8.569841  31.650794  16.5   \n",
       "1        [3.35, 5.04)     57   0.112648   1615.2  8.072710  28.336842  17.2   \n",
       "2        [5.04, 8.01)     97   0.191700   2415.7  7.221288  24.904124  14.4   \n",
       "3       [8.01, 20.73)    262   0.517787   4920.3  7.983667  18.779771   5.0   \n",
       "4        [20.73, inf)     27   0.053360    456.4  3.690878  16.903704   7.0   \n",
       "5             Special      0   0.000000      0.0       NaN   0.000000   NaN   \n",
       "6             Missing      0   0.000000      0.0       NaN   0.000000   NaN   \n",
       "Totals                   506   1.000000  11401.6            22.532806   5.0   \n",
       "\n",
       "         Max  Zeros count        WoE        IV  \n",
       "0       50.0            0   9.117987  1.135243  \n",
       "1       50.0            0   5.804036  0.653814  \n",
       "2       50.0            0   2.371317  0.454581  \n",
       "3       50.0            0  -3.753035  1.943271  \n",
       "4       23.0            0  -5.629103  0.300367  \n",
       "5        NaN            0 -22.532806  0.000000  \n",
       "6        NaN            0 -22.532806  0.000000  \n",
       "Totals  50.0            0  71.741091  4.487277  "
      ]
     },
     "execution_count": 30,
     "metadata": {},
     "output_type": "execute_result"
    }
   ],
   "source": [
    "binning_table = optb.binning_table\n",
    "binning_table.build()"
   ]
  },
  {
   "cell_type": "code",
   "execution_count": 31,
   "metadata": {
    "scrolled": true
   },
   "outputs": [
    {
     "data": {
      "image/png": "[encoded data removed]",
      "text/plain": [
       "<Figure size 432x288 with 2 Axes>"
      ]
     },
     "metadata": {
      "needs_background": "light"
     },
     "output_type": "display_data"
    }
   ],
   "source": [
    "binning_table.plot()"
   ]
  },
  {
   "cell_type": "code",
   "execution_count": 32,
   "metadata": {},
   "outputs": [
    {
     "name": "stdout",
     "output_type": "stream",
     "text": [
      "-------------------------------------------------\n",
      "OptimalBinning: Continuous Binning Table Analysis\n",
      "-------------------------------------------------\n",
      "\n",
      "  General metrics\n",
      "\n",
      "    IV                       4.48727679\n",
      "    WoE                     71.74109110\n",
      "    WoE (normalized)         3.18385070\n",
      "    HHI                      0.33589027\n",
      "    HHI (normalized)         0.22520531\n",
      "    Quality score            0.49256380\n",
      "\n",
      "  Monotonic trend            descending\n",
      "\n",
      "  Significance tests\n",
      "\n",
      "    Bin A  Bin B  t-statistic      p-value\n",
      "        0      1     2.180865 3.118080e-02\n",
      "        1      2     2.647685 9.326789e-03\n",
      "        2      3     6.930572 6.470796e-11\n",
      "        3      4     2.169454 3.432174e-02\n",
      "\n"
     ]
    }
   ],
   "source": [
    "binning_table.analysis()"
   ]
  },
  {
   "cell_type": "markdown",
   "metadata": {},
   "source": [
    "#### Mininum mean difference between consecutive bins"
   ]
  },
  {
   "cell_type": "markdown",
   "metadata": {},
   "source": [
    "Now, we note that the mean difference between consecutive bins is not significant enough. Therefore, we decide to set ``min_mean_diff=1.0``:"
   ]
  },
  {
   "cell_type": "code",
   "execution_count": 33,
   "metadata": {},
   "outputs": [
    {
     "data": {
      "text/plain": [
       "ContinuousOptimalBinning(min_mean_diff=1.0, monotonic_trend='descending',\n",
       "                         name='INDUS')"
      ]
     },
     "execution_count": 33,
     "metadata": {},
     "output_type": "execute_result"
    }
   ],
   "source": [
    "optb = ContinuousOptimalBinning(name=variable, dtype=\"numerical\",\n",
    "                                monotonic_trend=\"descending\", min_mean_diff=1.0)\n",
    "optb.fit(x, y)"
   ]
  },
  {
   "cell_type": "code",
   "execution_count": 34,
   "metadata": {},
   "outputs": [
    {
     "data": {
      "text/html": [
       "<div>\n",
       "<style scoped>\n",
       "    .dataframe tbody tr th:only-of-type {\n",
       "        vertical-align: middle;\n",
       "    }\n",
       "\n",
       "    .dataframe tbody tr th {\n",
       "        vertical-align: top;\n",
       "    }\n",
       "\n",
       "    .dataframe thead th {\n",
       "        text-align: right;\n",
       "    }\n",
       "</style>\n",
       "<table border=\"1\" class=\"dataframe\">\n",
       "  <thead>\n",
       "    <tr style=\"text-align: right;\">\n",
       "      <th></th>\n",
       "      <th>Bin</th>\n",
       "      <th>Count</th>\n",
       "      <th>Count (%)</th>\n",
       "      <th>Sum</th>\n",
       "      <th>Std</th>\n",
       "      <th>Mean</th>\n",
       "      <th>Min</th>\n",
       "      <th>Max</th>\n",
       "      <th>Zeros count</th>\n",
       "      <th>WoE</th>\n",
       "      <th>IV</th>\n",
       "    </tr>\n",
       "  </thead>\n",
       "  <tbody>\n",
       "    <tr>\n",
       "      <th>0</th>\n",
       "      <td>(-inf, 3.35)</td>\n",
       "      <td>63</td>\n",
       "      <td>0.124506</td>\n",
       "      <td>1994.0</td>\n",
       "      <td>8.569841</td>\n",
       "      <td>31.650794</td>\n",
       "      <td>16.5</td>\n",
       "      <td>50.0</td>\n",
       "      <td>0</td>\n",
       "      <td>9.117987</td>\n",
       "      <td>1.135243</td>\n",
       "    </tr>\n",
       "    <tr>\n",
       "      <th>1</th>\n",
       "      <td>[3.35, 5.04)</td>\n",
       "      <td>57</td>\n",
       "      <td>0.112648</td>\n",
       "      <td>1615.2</td>\n",
       "      <td>8.072710</td>\n",
       "      <td>28.336842</td>\n",
       "      <td>17.2</td>\n",
       "      <td>50.0</td>\n",
       "      <td>0</td>\n",
       "      <td>5.804036</td>\n",
       "      <td>0.653814</td>\n",
       "    </tr>\n",
       "    <tr>\n",
       "      <th>2</th>\n",
       "      <td>[5.04, 6.66)</td>\n",
       "      <td>66</td>\n",
       "      <td>0.130435</td>\n",
       "      <td>1723.7</td>\n",
       "      <td>7.879078</td>\n",
       "      <td>26.116667</td>\n",
       "      <td>16.0</td>\n",
       "      <td>50.0</td>\n",
       "      <td>0</td>\n",
       "      <td>3.583860</td>\n",
       "      <td>0.467460</td>\n",
       "    </tr>\n",
       "    <tr>\n",
       "      <th>3</th>\n",
       "      <td>[6.66, 10.30)</td>\n",
       "      <td>93</td>\n",
       "      <td>0.183794</td>\n",
       "      <td>1876.1</td>\n",
       "      <td>4.029092</td>\n",
       "      <td>20.173118</td>\n",
       "      <td>12.7</td>\n",
       "      <td>35.2</td>\n",
       "      <td>0</td>\n",
       "      <td>-2.359688</td>\n",
       "      <td>0.433698</td>\n",
       "    </tr>\n",
       "    <tr>\n",
       "      <th>4</th>\n",
       "      <td>[10.30, 20.73)</td>\n",
       "      <td>200</td>\n",
       "      <td>0.395257</td>\n",
       "      <td>3736.2</td>\n",
       "      <td>8.959305</td>\n",
       "      <td>18.681000</td>\n",
       "      <td>5.0</td>\n",
       "      <td>50.0</td>\n",
       "      <td>0</td>\n",
       "      <td>-3.851806</td>\n",
       "      <td>1.522453</td>\n",
       "    </tr>\n",
       "    <tr>\n",
       "      <th>5</th>\n",
       "      <td>[20.73, inf)</td>\n",
       "      <td>27</td>\n",
       "      <td>0.053360</td>\n",
       "      <td>456.4</td>\n",
       "      <td>3.690878</td>\n",
       "      <td>16.903704</td>\n",
       "      <td>7.0</td>\n",
       "      <td>23.0</td>\n",
       "      <td>0</td>\n",
       "      <td>-5.629103</td>\n",
       "      <td>0.300367</td>\n",
       "    </tr>\n",
       "    <tr>\n",
       "      <th>6</th>\n",
       "      <td>Special</td>\n",
       "      <td>0</td>\n",
       "      <td>0.000000</td>\n",
       "      <td>0.0</td>\n",
       "      <td>NaN</td>\n",
       "      <td>0.000000</td>\n",
       "      <td>NaN</td>\n",
       "      <td>NaN</td>\n",
       "      <td>0</td>\n",
       "      <td>-22.532806</td>\n",
       "      <td>0.000000</td>\n",
       "    </tr>\n",
       "    <tr>\n",
       "      <th>7</th>\n",
       "      <td>Missing</td>\n",
       "      <td>0</td>\n",
       "      <td>0.000000</td>\n",
       "      <td>0.0</td>\n",
       "      <td>NaN</td>\n",
       "      <td>0.000000</td>\n",
       "      <td>NaN</td>\n",
       "      <td>NaN</td>\n",
       "      <td>0</td>\n",
       "      <td>-22.532806</td>\n",
       "      <td>0.000000</td>\n",
       "    </tr>\n",
       "    <tr>\n",
       "      <th>Totals</th>\n",
       "      <td></td>\n",
       "      <td>506</td>\n",
       "      <td>1.000000</td>\n",
       "      <td>11401.6</td>\n",
       "      <td></td>\n",
       "      <td>22.532806</td>\n",
       "      <td>5.0</td>\n",
       "      <td>50.0</td>\n",
       "      <td>0</td>\n",
       "      <td>75.412093</td>\n",
       "      <td>4.513036</td>\n",
       "    </tr>\n",
       "  </tbody>\n",
       "</table>\n",
       "</div>"
      ],
      "text/plain": [
       "                   Bin  Count  Count (%)      Sum       Std       Mean   Min  \\\n",
       "0         (-inf, 3.35)     63   0.124506   1994.0  8.569841  31.650794  16.5   \n",
       "1         [3.35, 5.04)     57   0.112648   1615.2  8.072710  28.336842  17.2   \n",
       "2         [5.04, 6.66)     66   0.130435   1723.7  7.879078  26.116667  16.0   \n",
       "3        [6.66, 10.30)     93   0.183794   1876.1  4.029092  20.173118  12.7   \n",
       "4       [10.30, 20.73)    200   0.395257   3736.2  8.959305  18.681000   5.0   \n",
       "5         [20.73, inf)     27   0.053360    456.4  3.690878  16.903704   7.0   \n",
       "6              Special      0   0.000000      0.0       NaN   0.000000   NaN   \n",
       "7              Missing      0   0.000000      0.0       NaN   0.000000   NaN   \n",
       "Totals                    506   1.000000  11401.6            22.532806   5.0   \n",
       "\n",
       "         Max  Zeros count        WoE        IV  \n",
       "0       50.0            0   9.117987  1.135243  \n",
       "1       50.0            0   5.804036  0.653814  \n",
       "2       50.0            0   3.583860  0.467460  \n",
       "3       35.2            0  -2.359688  0.433698  \n",
       "4       50.0            0  -3.851806  1.522453  \n",
       "5       23.0            0  -5.629103  0.300367  \n",
       "6        NaN            0 -22.532806  0.000000  \n",
       "7        NaN            0 -22.532806  0.000000  \n",
       "Totals  50.0            0  75.412093  4.513036  "
      ]
     },
     "execution_count": 34,
     "metadata": {},
     "output_type": "execute_result"
    }
   ],
   "source": [
    "binning_table = optb.binning_table\n",
    "binning_table.build()"
   ]
  },
  {
   "cell_type": "code",
   "execution_count": 35,
   "metadata": {},
   "outputs": [
    {
     "data": {
      "image/png": "[encoded data removed]",
      "text/plain": [
       "<Figure size 432x288 with 2 Axes>"
      ]
     },
     "metadata": {
      "needs_background": "light"
     },
     "output_type": "display_data"
    }
   ],
   "source": [
    "binning_table.plot(show_bin_labels=True)"
   ]
  },
  {
   "cell_type": "code",
   "execution_count": 36,
   "metadata": {},
   "outputs": [
    {
     "name": "stdout",
     "output_type": "stream",
     "text": [
      "-------------------------------------------------\n",
      "OptimalBinning: Continuous Binning Table Analysis\n",
      "-------------------------------------------------\n",
      "\n",
      "  General metrics\n",
      "\n",
      "    IV                       4.51303567\n",
      "    WoE                     75.41209309\n",
      "    WoE (normalized)         3.34676880\n",
      "    HHI                      0.23806027\n",
      "    HHI (normalized)         0.12921174\n",
      "    Quality score            0.45843318\n",
      "\n",
      "  Monotonic trend            descending\n",
      "\n",
      "  Significance tests\n",
      "\n",
      "    Bin A  Bin B  t-statistic      p-value\n",
      "        0      1     2.180865 3.118080e-02\n",
      "        1      2     1.537968 1.267445e-01\n",
      "        2      3     5.628303 2.077284e-07\n",
      "        3      4     1.966209 5.022562e-02\n",
      "        4      5     1.867339 6.563949e-02\n",
      "\n"
     ]
    }
   ],
   "source": [
    "binning_table.analysis()"
   ]
  },
  {
   "cell_type": "markdown",
   "metadata": {},
   "source": [
    "#### Handle outliers"
   ]
  },
  {
   "cell_type": "markdown",
   "metadata": {},
   "source": [
    "Version 0.16.1 introduced the outlier detector ``YQuantileDetector``, specially designed to remove outliers for the ``ContinuousOptimalBinning`` algorithm. The application of this detector permits obtaining mean values per bin more similar to those obtained with more robust statistics (e.g., the median)."
   ]
  },
  {
   "cell_type": "code",
   "execution_count": 37,
   "metadata": {},
   "outputs": [],
   "source": [
    "from optbinning.binning.outlier import YQuantileDetector"
   ]
  },
  {
   "cell_type": "code",
   "execution_count": 38,
   "metadata": {},
   "outputs": [],
   "source": [
    "variable = \"LSTAT\"\n",
    "x = df[variable].values"
   ]
  },
  {
   "cell_type": "code",
   "execution_count": 39,
   "metadata": {},
   "outputs": [
    {
     "data": {
      "text/plain": [
       "YQuantileDetector(n_bins=10, outlier_detector='range',\n",
       "                  outlier_params={'method': 'HDI'})"
      ]
     },
     "execution_count": 39,
     "metadata": {},
     "output_type": "execute_result"
    }
   ],
   "source": [
    "detector = YQuantileDetector(n_bins=10, outlier_detector=\"range\",\n",
    "                             outlier_params={'method': 'HDI'})\n",
    "detector.fit(x, y)"
   ]
  },
  {
   "cell_type": "code",
   "execution_count": 40,
   "metadata": {},
   "outputs": [
    {
     "data": {
      "image/png": "[encoded data removed]",
      "text/plain": [
       "<Figure size 432x288 with 1 Axes>"
      ]
     },
     "metadata": {
      "needs_background": "light"
     },
     "output_type": "display_data"
    }
   ],
   "source": [
    "plt.scatter(x, y)\n",
    "\n",
    "mask = detector.get_support()\n",
    "plt.scatter(x[mask], y[mask], color='r', label=f\"outliers ({np.count_nonzero(mask)})\")\n",
    "\n",
    "plt.xlabel(variable)\n",
    "plt.ylabel(\"target\")\n",
    "\n",
    "plt.legend()\n",
    "plt.show()"
   ]
  },
  {
   "cell_type": "code",
   "execution_count": 41,
   "metadata": {},
   "outputs": [
    {
     "name": "stdout",
     "output_type": "stream",
     "text": [
      "2024-01-15 00:07:47,337 | INFO : Optimal binning started.\n",
      "2024-01-15 00:07:47,339 | INFO : Options: check parameters.\n",
      "2024-01-15 00:07:47,340 | INFO : Pre-processing started.\n",
      "2024-01-15 00:07:47,341 | INFO : Pre-processing: number of samples: 506\n",
      "2024-01-15 00:07:47,345 | INFO : Pre-processing: number of clean samples: 467\n",
      "2024-01-15 00:07:47,346 | INFO : Pre-processing: number of missing samples: 0\n",
      "2024-01-15 00:07:47,347 | INFO : Pre-processing: number of special samples: 0\n",
      "2024-01-15 00:07:47,348 | INFO : Pre-processing: number of outlier samples: 39\n",
      "2024-01-15 00:07:47,349 | INFO : Pre-processing terminated. Time: 0.0034s\n",
      "2024-01-15 00:07:47,350 | INFO : Pre-binning started.\n",
      "2024-01-15 00:07:47,357 | INFO : Pre-binning: number of prebins: 14\n",
      "2024-01-15 00:07:47,359 | INFO : Pre-binning terminated. Time: 0.0059s\n",
      "2024-01-15 00:07:47,360 | INFO : Optimizer started.\n",
      "2024-01-15 00:07:47,361 | INFO : Optimizer: monotonic trend set to descending.\n",
      "2024-01-15 00:07:47,362 | INFO : Optimizer: build model...\n",
      "2024-01-15 00:07:47,498 | INFO : Optimizer: solve...\n",
      "2024-01-15 00:07:47,526 | INFO : Optimizer terminated. Time: 0.1650s\n",
      "2024-01-15 00:07:47,528 | INFO : Post-processing started.\n",
      "2024-01-15 00:07:47,529 | INFO : Post-processing: compute binning information.\n",
      "2024-01-15 00:07:47,532 | INFO : Post-processing terminated. Time: 0.0020s\n",
      "2024-01-15 00:07:47,533 | INFO : Optimal binning terminated. Status: OPTIMAL. Time: 0.1960s\n"
     ]
    },
    {
     "data": {
      "text/plain": [
       "ContinuousOptimalBinning(monotonic_trend='descending', name='LSTAT',\n",
       "                         outlier_detector='yquantile',\n",
       "                         outlier_params={'n_bins': 10,\n",
       "                                         'outlier_detector': 'range',\n",
       "                                         'outlier_params': {'method': 'HDI'}},\n",
       "                         verbose=True)"
      ]
     },
     "execution_count": 41,
     "metadata": {},
     "output_type": "execute_result"
    }
   ],
   "source": [
    "optb = ContinuousOptimalBinning(name=variable, dtype=\"numerical\",\n",
    "                                monotonic_trend=\"descending\",\n",
    "                                outlier_detector=\"yquantile\",\n",
    "                                outlier_params={\n",
    "                                    'n_bins': 10,\n",
    "                                    'outlier_detector': 'range',\n",
    "                                    'outlier_params': {'method': 'HDI'}\n",
    "                                },\n",
    "                               verbose=True)\n",
    "optb.fit(x, y)"
   ]
  },
  {
   "cell_type": "code",
   "execution_count": 42,
   "metadata": {},
   "outputs": [
    {
     "data": {
      "text/html": [
       "<div>\n",
       "<style scoped>\n",
       "    .dataframe tbody tr th:only-of-type {\n",
       "        vertical-align: middle;\n",
       "    }\n",
       "\n",
       "    .dataframe tbody tr th {\n",
       "        vertical-align: top;\n",
       "    }\n",
       "\n",
       "    .dataframe thead th {\n",
       "        text-align: right;\n",
       "    }\n",
       "</style>\n",
       "<table border=\"1\" class=\"dataframe\">\n",
       "  <thead>\n",
       "    <tr style=\"text-align: right;\">\n",
       "      <th></th>\n",
       "      <th>Bin</th>\n",
       "      <th>Count</th>\n",
       "      <th>Count (%)</th>\n",
       "      <th>Sum</th>\n",
       "      <th>Std</th>\n",
       "      <th>Mean</th>\n",
       "      <th>Min</th>\n",
       "      <th>Max</th>\n",
       "      <th>Zeros count</th>\n",
       "      <th>WoE</th>\n",
       "      <th>IV</th>\n",
       "    </tr>\n",
       "  </thead>\n",
       "  <tbody>\n",
       "    <tr>\n",
       "      <th>0</th>\n",
       "      <td>(-inf, 4.15)</td>\n",
       "      <td>36</td>\n",
       "      <td>0.077088</td>\n",
       "      <td>1495.8</td>\n",
       "      <td>7.729866</td>\n",
       "      <td>41.550000</td>\n",
       "      <td>24.8</td>\n",
       "      <td>50.0</td>\n",
       "      <td>0</td>\n",
       "      <td>19.824732</td>\n",
       "      <td>1.528245</td>\n",
       "    </tr>\n",
       "    <tr>\n",
       "      <th>1</th>\n",
       "      <td>[4.15, 5.49)</td>\n",
       "      <td>39</td>\n",
       "      <td>0.083512</td>\n",
       "      <td>1218.2</td>\n",
       "      <td>6.428482</td>\n",
       "      <td>31.235897</td>\n",
       "      <td>21.9</td>\n",
       "      <td>50.0</td>\n",
       "      <td>0</td>\n",
       "      <td>9.510630</td>\n",
       "      <td>0.794250</td>\n",
       "    </tr>\n",
       "    <tr>\n",
       "      <th>2</th>\n",
       "      <td>[5.49, 6.57)</td>\n",
       "      <td>29</td>\n",
       "      <td>0.062099</td>\n",
       "      <td>735.1</td>\n",
       "      <td>3.174426</td>\n",
       "      <td>25.348276</td>\n",
       "      <td>20.6</td>\n",
       "      <td>33.2</td>\n",
       "      <td>0</td>\n",
       "      <td>3.623008</td>\n",
       "      <td>0.224983</td>\n",
       "    </tr>\n",
       "    <tr>\n",
       "      <th>3</th>\n",
       "      <td>[6.57, 7.68)</td>\n",
       "      <td>29</td>\n",
       "      <td>0.062099</td>\n",
       "      <td>705.8</td>\n",
       "      <td>2.035786</td>\n",
       "      <td>24.337931</td>\n",
       "      <td>20.7</td>\n",
       "      <td>29.1</td>\n",
       "      <td>0</td>\n",
       "      <td>2.612663</td>\n",
       "      <td>0.162242</td>\n",
       "    </tr>\n",
       "    <tr>\n",
       "      <th>4</th>\n",
       "      <td>[7.68, 9.95)</td>\n",
       "      <td>59</td>\n",
       "      <td>0.126338</td>\n",
       "      <td>1341.0</td>\n",
       "      <td>3.012688</td>\n",
       "      <td>22.728814</td>\n",
       "      <td>16.5</td>\n",
       "      <td>30.3</td>\n",
       "      <td>0</td>\n",
       "      <td>1.003546</td>\n",
       "      <td>0.126786</td>\n",
       "    </tr>\n",
       "    <tr>\n",
       "      <th>5</th>\n",
       "      <td>[9.95, 11.67)</td>\n",
       "      <td>42</td>\n",
       "      <td>0.089936</td>\n",
       "      <td>884.4</td>\n",
       "      <td>2.257068</td>\n",
       "      <td>21.057143</td>\n",
       "      <td>15.0</td>\n",
       "      <td>24.7</td>\n",
       "      <td>0</td>\n",
       "      <td>-0.668125</td>\n",
       "      <td>0.060088</td>\n",
       "    </tr>\n",
       "    <tr>\n",
       "      <th>6</th>\n",
       "      <td>[11.67, 13.74)</td>\n",
       "      <td>49</td>\n",
       "      <td>0.104925</td>\n",
       "      <td>982.4</td>\n",
       "      <td>2.119503</td>\n",
       "      <td>20.048980</td>\n",
       "      <td>15.0</td>\n",
       "      <td>24.5</td>\n",
       "      <td>0</td>\n",
       "      <td>-1.676288</td>\n",
       "      <td>0.175885</td>\n",
       "    </tr>\n",
       "    <tr>\n",
       "      <th>7</th>\n",
       "      <td>[13.74, 15.00)</td>\n",
       "      <td>28</td>\n",
       "      <td>0.059957</td>\n",
       "      <td>550.2</td>\n",
       "      <td>2.143012</td>\n",
       "      <td>19.650000</td>\n",
       "      <td>16.0</td>\n",
       "      <td>24.4</td>\n",
       "      <td>0</td>\n",
       "      <td>-2.075268</td>\n",
       "      <td>0.124427</td>\n",
       "    </tr>\n",
       "    <tr>\n",
       "      <th>8</th>\n",
       "      <td>[15.00, 17.11)</td>\n",
       "      <td>37</td>\n",
       "      <td>0.079229</td>\n",
       "      <td>632.6</td>\n",
       "      <td>2.794830</td>\n",
       "      <td>17.097297</td>\n",
       "      <td>10.2</td>\n",
       "      <td>22.4</td>\n",
       "      <td>0</td>\n",
       "      <td>-4.627970</td>\n",
       "      <td>0.366670</td>\n",
       "    </tr>\n",
       "    <tr>\n",
       "      <th>9</th>\n",
       "      <td>[17.11, 18.93)</td>\n",
       "      <td>38</td>\n",
       "      <td>0.081370</td>\n",
       "      <td>607.3</td>\n",
       "      <td>2.970810</td>\n",
       "      <td>15.981579</td>\n",
       "      <td>9.6</td>\n",
       "      <td>23.1</td>\n",
       "      <td>0</td>\n",
       "      <td>-5.743689</td>\n",
       "      <td>0.467367</td>\n",
       "    </tr>\n",
       "    <tr>\n",
       "      <th>10</th>\n",
       "      <td>[18.93, 21.95)</td>\n",
       "      <td>26</td>\n",
       "      <td>0.055675</td>\n",
       "      <td>350.5</td>\n",
       "      <td>3.532271</td>\n",
       "      <td>13.480769</td>\n",
       "      <td>7.2</td>\n",
       "      <td>21.7</td>\n",
       "      <td>0</td>\n",
       "      <td>-8.244498</td>\n",
       "      <td>0.459008</td>\n",
       "    </tr>\n",
       "    <tr>\n",
       "      <th>11</th>\n",
       "      <td>[21.95, 26.44)</td>\n",
       "      <td>27</td>\n",
       "      <td>0.057816</td>\n",
       "      <td>332.0</td>\n",
       "      <td>3.524148</td>\n",
       "      <td>12.296296</td>\n",
       "      <td>5.0</td>\n",
       "      <td>20.0</td>\n",
       "      <td>0</td>\n",
       "      <td>-9.428971</td>\n",
       "      <td>0.545144</td>\n",
       "    </tr>\n",
       "    <tr>\n",
       "      <th>12</th>\n",
       "      <td>[26.44, inf)</td>\n",
       "      <td>28</td>\n",
       "      <td>0.059957</td>\n",
       "      <td>310.4</td>\n",
       "      <td>3.754589</td>\n",
       "      <td>11.085714</td>\n",
       "      <td>5.0</td>\n",
       "      <td>17.9</td>\n",
       "      <td>0</td>\n",
       "      <td>-10.639553</td>\n",
       "      <td>0.637918</td>\n",
       "    </tr>\n",
       "    <tr>\n",
       "      <th>13</th>\n",
       "      <td>Special</td>\n",
       "      <td>0</td>\n",
       "      <td>0.000000</td>\n",
       "      <td>0.0</td>\n",
       "      <td>NaN</td>\n",
       "      <td>0.000000</td>\n",
       "      <td>NaN</td>\n",
       "      <td>NaN</td>\n",
       "      <td>0</td>\n",
       "      <td>-21.725268</td>\n",
       "      <td>0.000000</td>\n",
       "    </tr>\n",
       "    <tr>\n",
       "      <th>14</th>\n",
       "      <td>Missing</td>\n",
       "      <td>0</td>\n",
       "      <td>0.000000</td>\n",
       "      <td>0.0</td>\n",
       "      <td>NaN</td>\n",
       "      <td>0.000000</td>\n",
       "      <td>NaN</td>\n",
       "      <td>NaN</td>\n",
       "      <td>0</td>\n",
       "      <td>-21.725268</td>\n",
       "      <td>0.000000</td>\n",
       "    </tr>\n",
       "    <tr>\n",
       "      <th>Totals</th>\n",
       "      <td></td>\n",
       "      <td>467</td>\n",
       "      <td>1.000000</td>\n",
       "      <td>10145.7</td>\n",
       "      <td></td>\n",
       "      <td>21.725268</td>\n",
       "      <td>5.0</td>\n",
       "      <td>50.0</td>\n",
       "      <td>0</td>\n",
       "      <td>123.129478</td>\n",
       "      <td>5.673013</td>\n",
       "    </tr>\n",
       "  </tbody>\n",
       "</table>\n",
       "</div>"
      ],
      "text/plain": [
       "                   Bin  Count  Count (%)      Sum       Std       Mean   Min  \\\n",
       "0         (-inf, 4.15)     36   0.077088   1495.8  7.729866  41.550000  24.8   \n",
       "1         [4.15, 5.49)     39   0.083512   1218.2  6.428482  31.235897  21.9   \n",
       "2         [5.49, 6.57)     29   0.062099    735.1  3.174426  25.348276  20.6   \n",
       "3         [6.57, 7.68)     29   0.062099    705.8  2.035786  24.337931  20.7   \n",
       "4         [7.68, 9.95)     59   0.126338   1341.0  3.012688  22.728814  16.5   \n",
       "5        [9.95, 11.67)     42   0.089936    884.4  2.257068  21.057143  15.0   \n",
       "6       [11.67, 13.74)     49   0.104925    982.4  2.119503  20.048980  15.0   \n",
       "7       [13.74, 15.00)     28   0.059957    550.2  2.143012  19.650000  16.0   \n",
       "8       [15.00, 17.11)     37   0.079229    632.6  2.794830  17.097297  10.2   \n",
       "9       [17.11, 18.93)     38   0.081370    607.3  2.970810  15.981579   9.6   \n",
       "10      [18.93, 21.95)     26   0.055675    350.5  3.532271  13.480769   7.2   \n",
       "11      [21.95, 26.44)     27   0.057816    332.0  3.524148  12.296296   5.0   \n",
       "12        [26.44, inf)     28   0.059957    310.4  3.754589  11.085714   5.0   \n",
       "13             Special      0   0.000000      0.0       NaN   0.000000   NaN   \n",
       "14             Missing      0   0.000000      0.0       NaN   0.000000   NaN   \n",
       "Totals                    467   1.000000  10145.7            21.725268   5.0   \n",
       "\n",
       "         Max  Zeros count         WoE        IV  \n",
       "0       50.0            0   19.824732  1.528245  \n",
       "1       50.0            0    9.510630  0.794250  \n",
       "2       33.2            0    3.623008  0.224983  \n",
       "3       29.1            0    2.612663  0.162242  \n",
       "4       30.3            0    1.003546  0.126786  \n",
       "5       24.7            0   -0.668125  0.060088  \n",
       "6       24.5            0   -1.676288  0.175885  \n",
       "7       24.4            0   -2.075268  0.124427  \n",
       "8       22.4            0   -4.627970  0.366670  \n",
       "9       23.1            0   -5.743689  0.467367  \n",
       "10      21.7            0   -8.244498  0.459008  \n",
       "11      20.0            0   -9.428971  0.545144  \n",
       "12      17.9            0  -10.639553  0.637918  \n",
       "13       NaN            0  -21.725268  0.000000  \n",
       "14       NaN            0  -21.725268  0.000000  \n",
       "Totals  50.0            0  123.129478  5.673013  "
      ]
     },
     "execution_count": 42,
     "metadata": {},
     "output_type": "execute_result"
    }
   ],
   "source": [
    "optb.binning_table.build()"
   ]
  },
  {
   "cell_type": "code",
   "execution_count": 43,
   "metadata": {},
   "outputs": [
    {
     "data": {
      "image/png": "[encoded data removed]",
      "text/plain": [
       "<Figure size 432x288 with 2 Axes>"
      ]
     },
     "metadata": {
      "needs_background": "light"
     },
     "output_type": "display_data"
    }
   ],
   "source": [
    "optb.binning_table.plot()"
   ]
  },
  {
   "cell_type": "markdown",
   "metadata": {},
   "source": [
    "As observed in the logs, 39 outliers were removed during preprocessing. Compared to the standard binning, the resulting binning after removing outliers returns more bins (13 vs 10) and higher objective function (total WoE)."
   ]
  },
  {
   "cell_type": "markdown",
   "metadata": {},
   "source": [
    "#### Sample weights"
   ]
  },
  {
   "cell_type": "markdown",
   "metadata": {},
   "source": [
    "Finally, version 0.17.0 added support to sample weights. As an example, let's increase the weights for values < 10."
   ]
  },
  {
   "cell_type": "code",
   "execution_count": 44,
   "metadata": {},
   "outputs": [],
   "source": [
    "sample_weight = np.ones(len(x))\n",
    "sample_weight[x < 10] = 5"
   ]
  },
  {
   "cell_type": "code",
   "execution_count": 45,
   "metadata": {},
   "outputs": [
    {
     "data": {
      "text/plain": [
       "ContinuousOptimalBinning(monotonic_trend='descending', name='LSTAT')"
      ]
     },
     "execution_count": 45,
     "metadata": {},
     "output_type": "execute_result"
    }
   ],
   "source": [
    "optb = ContinuousOptimalBinning(name=variable, dtype=\"numerical\",\n",
    "                                monotonic_trend=\"descending\")\n",
    "optb.fit(x, y, sample_weight=sample_weight)"
   ]
  },
  {
   "cell_type": "code",
   "execution_count": 46,
   "metadata": {},
   "outputs": [
    {
     "data": {
      "text/html": [
       "<div>\n",
       "<style scoped>\n",
       "    .dataframe tbody tr th:only-of-type {\n",
       "        vertical-align: middle;\n",
       "    }\n",
       "\n",
       "    .dataframe tbody tr th {\n",
       "        vertical-align: top;\n",
       "    }\n",
       "\n",
       "    .dataframe thead th {\n",
       "        text-align: right;\n",
       "    }\n",
       "</style>\n",
       "<table border=\"1\" class=\"dataframe\">\n",
       "  <thead>\n",
       "    <tr style=\"text-align: right;\">\n",
       "      <th></th>\n",
       "      <th>Bin</th>\n",
       "      <th>Count</th>\n",
       "      <th>Count (%)</th>\n",
       "      <th>Sum</th>\n",
       "      <th>Std</th>\n",
       "      <th>Mean</th>\n",
       "      <th>Min</th>\n",
       "      <th>Max</th>\n",
       "      <th>Zeros count</th>\n",
       "      <th>WoE</th>\n",
       "      <th>IV</th>\n",
       "    </tr>\n",
       "  </thead>\n",
       "  <tbody>\n",
       "    <tr>\n",
       "      <th>0</th>\n",
       "      <td>(-inf, 4.15)</td>\n",
       "      <td>180</td>\n",
       "      <td>0.130246</td>\n",
       "      <td>7479.0</td>\n",
       "      <td>84.878526</td>\n",
       "      <td>41.550000</td>\n",
       "      <td>124.0</td>\n",
       "      <td>250.0</td>\n",
       "      <td>0</td>\n",
       "      <td>14.617149</td>\n",
       "      <td>1.903825</td>\n",
       "    </tr>\n",
       "    <tr>\n",
       "      <th>1</th>\n",
       "      <td>[4.15, 5.15)</td>\n",
       "      <td>155</td>\n",
       "      <td>0.112156</td>\n",
       "      <td>5135.0</td>\n",
       "      <td>68.222852</td>\n",
       "      <td>33.129032</td>\n",
       "      <td>112.5</td>\n",
       "      <td>250.0</td>\n",
       "      <td>0</td>\n",
       "      <td>6.196181</td>\n",
       "      <td>0.694941</td>\n",
       "    </tr>\n",
       "    <tr>\n",
       "      <th>2</th>\n",
       "      <td>[5.15, 6.06)</td>\n",
       "      <td>140</td>\n",
       "      <td>0.101302</td>\n",
       "      <td>3850.5</td>\n",
       "      <td>56.552267</td>\n",
       "      <td>27.503571</td>\n",
       "      <td>103.0</td>\n",
       "      <td>244.0</td>\n",
       "      <td>0</td>\n",
       "      <td>0.570720</td>\n",
       "      <td>0.057815</td>\n",
       "    </tr>\n",
       "    <tr>\n",
       "      <th>3</th>\n",
       "      <td>[6.06, 6.87)</td>\n",
       "      <td>140</td>\n",
       "      <td>0.101302</td>\n",
       "      <td>3674.0</td>\n",
       "      <td>53.287277</td>\n",
       "      <td>26.242857</td>\n",
       "      <td>103.5</td>\n",
       "      <td>176.0</td>\n",
       "      <td>0</td>\n",
       "      <td>-0.689994</td>\n",
       "      <td>0.069898</td>\n",
       "    </tr>\n",
       "    <tr>\n",
       "      <th>4</th>\n",
       "      <td>[6.87, 8.85)</td>\n",
       "      <td>285</td>\n",
       "      <td>0.206223</td>\n",
       "      <td>7275.0</td>\n",
       "      <td>53.081171</td>\n",
       "      <td>25.526316</td>\n",
       "      <td>59.5</td>\n",
       "      <td>250.0</td>\n",
       "      <td>0</td>\n",
       "      <td>-1.406535</td>\n",
       "      <td>0.290060</td>\n",
       "    </tr>\n",
       "    <tr>\n",
       "      <th>5</th>\n",
       "      <td>[8.85, 9.95)</td>\n",
       "      <td>185</td>\n",
       "      <td>0.133864</td>\n",
       "      <td>4663.0</td>\n",
       "      <td>52.840208</td>\n",
       "      <td>25.205405</td>\n",
       "      <td>93.5</td>\n",
       "      <td>250.0</td>\n",
       "      <td>0</td>\n",
       "      <td>-1.727446</td>\n",
       "      <td>0.231243</td>\n",
       "    </tr>\n",
       "    <tr>\n",
       "      <th>6</th>\n",
       "      <td>[9.95, 11.67)</td>\n",
       "      <td>52</td>\n",
       "      <td>0.037627</td>\n",
       "      <td>1103.6</td>\n",
       "      <td>17.592652</td>\n",
       "      <td>21.223077</td>\n",
       "      <td>15.0</td>\n",
       "      <td>101.5</td>\n",
       "      <td>0</td>\n",
       "      <td>-5.709774</td>\n",
       "      <td>0.214840</td>\n",
       "    </tr>\n",
       "    <tr>\n",
       "      <th>7</th>\n",
       "      <td>[11.67, 14.40)</td>\n",
       "      <td>67</td>\n",
       "      <td>0.048480</td>\n",
       "      <td>1364.9</td>\n",
       "      <td>2.652276</td>\n",
       "      <td>20.371642</td>\n",
       "      <td>14.5</td>\n",
       "      <td>29.6</td>\n",
       "      <td>0</td>\n",
       "      <td>-6.561209</td>\n",
       "      <td>0.318090</td>\n",
       "    </tr>\n",
       "    <tr>\n",
       "      <th>8</th>\n",
       "      <td>[14.40, 17.24)</td>\n",
       "      <td>60</td>\n",
       "      <td>0.043415</td>\n",
       "      <td>1037.5</td>\n",
       "      <td>3.588003</td>\n",
       "      <td>17.291667</td>\n",
       "      <td>10.2</td>\n",
       "      <td>30.7</td>\n",
       "      <td>0</td>\n",
       "      <td>-9.641184</td>\n",
       "      <td>0.418575</td>\n",
       "    </tr>\n",
       "    <tr>\n",
       "      <th>9</th>\n",
       "      <td>[17.24, 19.90)</td>\n",
       "      <td>43</td>\n",
       "      <td>0.031114</td>\n",
       "      <td>714.3</td>\n",
       "      <td>4.032554</td>\n",
       "      <td>16.611628</td>\n",
       "      <td>8.3</td>\n",
       "      <td>27.5</td>\n",
       "      <td>0</td>\n",
       "      <td>-10.321223</td>\n",
       "      <td>0.321138</td>\n",
       "    </tr>\n",
       "    <tr>\n",
       "      <th>10</th>\n",
       "      <td>[19.90, 23.32)</td>\n",
       "      <td>28</td>\n",
       "      <td>0.020260</td>\n",
       "      <td>368.4</td>\n",
       "      <td>3.912839</td>\n",
       "      <td>13.157143</td>\n",
       "      <td>5.0</td>\n",
       "      <td>21.7</td>\n",
       "      <td>0</td>\n",
       "      <td>-13.775708</td>\n",
       "      <td>0.279103</td>\n",
       "    </tr>\n",
       "    <tr>\n",
       "      <th>11</th>\n",
       "      <td>[23.32, inf)</td>\n",
       "      <td>47</td>\n",
       "      <td>0.034009</td>\n",
       "      <td>556.0</td>\n",
       "      <td>4.006586</td>\n",
       "      <td>11.829787</td>\n",
       "      <td>5.0</td>\n",
       "      <td>23.7</td>\n",
       "      <td>0</td>\n",
       "      <td>-15.103064</td>\n",
       "      <td>0.513635</td>\n",
       "    </tr>\n",
       "    <tr>\n",
       "      <th>12</th>\n",
       "      <td>Special</td>\n",
       "      <td>0</td>\n",
       "      <td>0.000000</td>\n",
       "      <td>0.0</td>\n",
       "      <td>NaN</td>\n",
       "      <td>0.000000</td>\n",
       "      <td>NaN</td>\n",
       "      <td>NaN</td>\n",
       "      <td>0</td>\n",
       "      <td>-26.932851</td>\n",
       "      <td>0.000000</td>\n",
       "    </tr>\n",
       "    <tr>\n",
       "      <th>13</th>\n",
       "      <td>Missing</td>\n",
       "      <td>0</td>\n",
       "      <td>0.000000</td>\n",
       "      <td>0.0</td>\n",
       "      <td>NaN</td>\n",
       "      <td>0.000000</td>\n",
       "      <td>NaN</td>\n",
       "      <td>NaN</td>\n",
       "      <td>0</td>\n",
       "      <td>-26.932851</td>\n",
       "      <td>0.000000</td>\n",
       "    </tr>\n",
       "    <tr>\n",
       "      <th>Totals</th>\n",
       "      <td></td>\n",
       "      <td>1382</td>\n",
       "      <td>1.000000</td>\n",
       "      <td>37221.2</td>\n",
       "      <td></td>\n",
       "      <td>26.932851</td>\n",
       "      <td>5.0</td>\n",
       "      <td>250.0</td>\n",
       "      <td>0</td>\n",
       "      <td>140.185889</td>\n",
       "      <td>5.313163</td>\n",
       "    </tr>\n",
       "  </tbody>\n",
       "</table>\n",
       "</div>"
      ],
      "text/plain": [
       "                   Bin  Count  Count (%)      Sum        Std       Mean  \\\n",
       "0         (-inf, 4.15)    180   0.130246   7479.0  84.878526  41.550000   \n",
       "1         [4.15, 5.15)    155   0.112156   5135.0  68.222852  33.129032   \n",
       "2         [5.15, 6.06)    140   0.101302   3850.5  56.552267  27.503571   \n",
       "3         [6.06, 6.87)    140   0.101302   3674.0  53.287277  26.242857   \n",
       "4         [6.87, 8.85)    285   0.206223   7275.0  53.081171  25.526316   \n",
       "5         [8.85, 9.95)    185   0.133864   4663.0  52.840208  25.205405   \n",
       "6        [9.95, 11.67)     52   0.037627   1103.6  17.592652  21.223077   \n",
       "7       [11.67, 14.40)     67   0.048480   1364.9   2.652276  20.371642   \n",
       "8       [14.40, 17.24)     60   0.043415   1037.5   3.588003  17.291667   \n",
       "9       [17.24, 19.90)     43   0.031114    714.3   4.032554  16.611628   \n",
       "10      [19.90, 23.32)     28   0.020260    368.4   3.912839  13.157143   \n",
       "11        [23.32, inf)     47   0.034009    556.0   4.006586  11.829787   \n",
       "12             Special      0   0.000000      0.0        NaN   0.000000   \n",
       "13             Missing      0   0.000000      0.0        NaN   0.000000   \n",
       "Totals                   1382   1.000000  37221.2             26.932851   \n",
       "\n",
       "          Min    Max  Zeros count         WoE        IV  \n",
       "0       124.0  250.0            0   14.617149  1.903825  \n",
       "1       112.5  250.0            0    6.196181  0.694941  \n",
       "2       103.0  244.0            0    0.570720  0.057815  \n",
       "3       103.5  176.0            0   -0.689994  0.069898  \n",
       "4        59.5  250.0            0   -1.406535  0.290060  \n",
       "5        93.5  250.0            0   -1.727446  0.231243  \n",
       "6        15.0  101.5            0   -5.709774  0.214840  \n",
       "7        14.5   29.6            0   -6.561209  0.318090  \n",
       "8        10.2   30.7            0   -9.641184  0.418575  \n",
       "9         8.3   27.5            0  -10.321223  0.321138  \n",
       "10        5.0   21.7            0  -13.775708  0.279103  \n",
       "11        5.0   23.7            0  -15.103064  0.513635  \n",
       "12        NaN    NaN            0  -26.932851  0.000000  \n",
       "13        NaN    NaN            0  -26.932851  0.000000  \n",
       "Totals    5.0  250.0            0  140.185889  5.313163  "
      ]
     },
     "execution_count": 46,
     "metadata": {},
     "output_type": "execute_result"
    }
   ],
   "source": [
    "optb.binning_table.build()"
   ]
  },
  {
   "cell_type": "markdown",
   "metadata": {},
   "source": [
    "Note the count increase in the first bins."
   ]
  },
  {
   "cell_type": "code",
   "execution_count": 47,
   "metadata": {},
   "outputs": [
    {
     "data": {
      "image/png": "[encoded data removed]",
      "text/plain": [
       "<Figure size 432x288 with 2 Axes>"
      ]
     },
     "metadata": {
      "needs_background": "light"
     },
     "output_type": "display_data"
    }
   ],
   "source": [
    "optb.binning_table.plot()"
   ]
  }
 ],
 "metadata": {
  "kernelspec": {
   "display_name": "Python 3",
   "language": "python",
   "name": "python3"
  },
  "language_info": {
   "codemirror_mode": {
    "name": "ipython",
    "version": 3
   },
   "file_extension": ".py",
   "mimetype": "text/x-python",
   "name": "python",
   "nbconvert_exporter": "python",
   "pygments_lexer": "ipython3",
   "version": "3.7.4"
  }
 },
 "nbformat": 4,
 "nbformat_minor": 2
}
