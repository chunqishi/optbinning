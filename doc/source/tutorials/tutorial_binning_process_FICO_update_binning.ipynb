{
 "cells": [
  {
   "cell_type": "markdown",
   "metadata": {},
   "source": [
    "# Tutorial: FICO Explainable Machine Learning Challenge - Updating Binning"
   ]
  },
  {
   "cell_type": "markdown",
   "metadata": {},
   "source": [
    "In this tutorial, we extend the previous tutorial using the FICO dataset by replacing the usual binning with a piecewise continuous binning. The piecewise continuous binning uses a Gradient Boosting Tree (GBT) as an estimator."
   ]
  },
  {
   "cell_type": "code",
   "execution_count": 1,
   "metadata": {},
   "outputs": [],
   "source": [
    "import matplotlib.pyplot as plt\n",
    "import numpy as np\n",
    "import pandas as pd"
   ]
  },
  {
   "cell_type": "code",
   "execution_count": 2,
   "metadata": {},
   "outputs": [],
   "source": [
    "from lightgbm import LGBMClassifier\n",
    "\n",
    "from optbinning import BinningProcess\n",
    "from optbinning import OptimalPWBinning\n",
    "\n",
    "from sklearn.linear_model import LogisticRegression\n",
    "from sklearn.ensemble import GradientBoostingClassifier\n",
    "from sklearn.metrics import classification_report\n",
    "from sklearn.metrics import auc, roc_auc_score, roc_curve\n",
    "from sklearn.model_selection import train_test_split"
   ]
  },
  {
   "cell_type": "markdown",
   "metadata": {},
   "source": [
    "Download the dataset from the link above and load it: https://community.fico.com/s/explainable-machine-learning-challenge."
   ]
  },
  {
   "cell_type": "code",
   "execution_count": 3,
   "metadata": {},
   "outputs": [],
   "source": [
    "df = pd.read_csv(\"data/FICO_challenge/heloc_dataset_v1.csv\", sep=\",\")\n",
    "\n",
    "variable_names = list(df.columns[1:])\n",
    "\n",
    "X = df[variable_names]"
   ]
  },
  {
   "cell_type": "markdown",
   "metadata": {},
   "source": [
    "Transform the categorical dichotomic target variable into numerical."
   ]
  },
  {
   "cell_type": "code",
   "execution_count": 4,
   "metadata": {},
   "outputs": [],
   "source": [
    "y = df.RiskPerformance.values\n",
    "mask = y == \"Bad\"\n",
    "y[mask] = 1\n",
    "y[~mask] = 0\n",
    "y = y.astype(int)"
   ]
  },
  {
   "cell_type": "markdown",
   "metadata": {},
   "source": [
    "#### Modeling"
   ]
  },
  {
   "cell_type": "markdown",
   "metadata": {},
   "source": [
    "The data dictionary of this challenge includes three special values/codes:\n",
    "    \n",
    "* -9 No Bureau Record or No Investigation\n",
    "* -8 No Usable/Valid Trades or Inquiries\n",
    "* -7 Condition not Met (e.g. No Inquiries, No Delinquencies)"
   ]
  },
  {
   "cell_type": "code",
   "execution_count": 5,
   "metadata": {},
   "outputs": [],
   "source": [
    "special_codes = [-9, -8, -7]"
   ]
  },
  {
   "cell_type": "markdown",
   "metadata": {},
   "source": [
    "This challenge imposes monotonicity constraints with respect to the probability of a bad target for many of the variables. We apply these rules by passing the following dictionary of parameters for these variables involved."
   ]
  },
  {
   "cell_type": "code",
   "execution_count": 6,
   "metadata": {},
   "outputs": [],
   "source": [
    "binning_fit_params = {\n",
    "    \"ExternalRiskEstimate\": {\"monotonic_trend\": \"descending\"},\n",
    "    \"MSinceOldestTradeOpen\": {\"monotonic_trend\": \"descending\"},\n",
    "    \"MSinceMostRecentTradeOpen\": {\"monotonic_trend\": \"descending\"},\n",
    "    \"AverageMInFile\": {\"monotonic_trend\": \"descending\"},\n",
    "    \"NumSatisfactoryTrades\": {\"monotonic_trend\": \"descending\"},\n",
    "    \"NumTrades60Ever2DerogPubRec\": {\"monotonic_trend\": \"ascending\"},\n",
    "    \"NumTrades90Ever2DerogPubRec\": {\"monotonic_trend\": \"ascending\"},\n",
    "    \"PercentTradesNeverDelq\": {\"monotonic_trend\": \"descending\"},\n",
    "    \"MSinceMostRecentDelq\": {\"monotonic_trend\": \"descending\"},\n",
    "    \"NumTradesOpeninLast12M\": {\"monotonic_trend\": \"ascending\"},\n",
    "    \"MSinceMostRecentInqexcl7days\": {\"monotonic_trend\": \"descending\"},\n",
    "    \"NumInqLast6M\": {\"monotonic_trend\": \"ascending\"},\n",
    "    \"NumInqLast6Mexcl7days\": {\"monotonic_trend\": \"ascending\"},\n",
    "    \"NetFractionRevolvingBurden\": {\"monotonic_trend\": \"ascending\"},\n",
    "    \"NetFractionInstallBurden\": {\"monotonic_trend\": \"ascending\"},\n",
    "    \"NumBank2NatlTradesWHighUtilization\": {\"monotonic_trend\": \"ascending\"}\n",
    "}"
   ]
  },
  {
   "cell_type": "markdown",
   "metadata": {},
   "source": [
    "Instantiate a ``BinningProcess`` object class with variable names, special codes and dictionary of binning parameters. Choose a logistic regression as a classifier."
   ]
  },
  {
   "cell_type": "code",
   "execution_count": 7,
   "metadata": {},
   "outputs": [],
   "source": [
    "binning_process = BinningProcess(variable_names, special_codes=special_codes,\n",
    "                                 binning_fit_params=binning_fit_params)"
   ]
  },
  {
   "cell_type": "code",
   "execution_count": 8,
   "metadata": {},
   "outputs": [],
   "source": [
    "clf = LogisticRegression(solver=\"lbfgs\")"
   ]
  },
  {
   "cell_type": "markdown",
   "metadata": {},
   "source": [
    "Split dataset into train and test. Fit pipelines with training data, then generate classification reports to show the main classification metrics."
   ]
  },
  {
   "cell_type": "code",
   "execution_count": 9,
   "metadata": {},
   "outputs": [],
   "source": [
    "X_train, X_test, y_train, y_test = train_test_split(X, y, test_size=0.2, random_state=42)"
   ]
  },
  {
   "cell_type": "code",
   "execution_count": 10,
   "metadata": {},
   "outputs": [
    {
     "data": {
      "text/plain": [
       "BinningProcess(binning_fit_params={'AverageMInFile': {'monotonic_trend': 'descending'},\n",
       "                                   'ExternalRiskEstimate': {'monotonic_trend': 'descending'},\n",
       "                                   'MSinceMostRecentDelq': {'monotonic_trend': 'descending'},\n",
       "                                   'MSinceMostRecentInqexcl7days': {'monotonic_trend': 'descending'},\n",
       "                                   'MSinceMostRecentTradeOpen': {'monotonic_trend': 'descending'},\n",
       "                                   'MSinceOldestTradeOpen': {'mo...\n",
       "                               'MaxDelq2PublicRecLast12M', 'MaxDelqEver',\n",
       "                               'NumTotalTrades', 'NumTradesOpeninLast12M',\n",
       "                               'PercentInstallTrades',\n",
       "                               'MSinceMostRecentInqexcl7days', 'NumInqLast6M',\n",
       "                               'NumInqLast6Mexcl7days',\n",
       "                               'NetFractionRevolvingBurden',\n",
       "                               'NetFractionInstallBurden',\n",
       "                               'NumRevolvingTradesWBalance',\n",
       "                               'NumInstallTradesWBalance',\n",
       "                               'NumBank2NatlTradesWHighUtilization',\n",
       "                               'PercentTradesWBalance'])"
      ]
     },
     "execution_count": 10,
     "metadata": {},
     "output_type": "execute_result"
    }
   ],
   "source": [
    "binning_process.fit(X_train, y_train)"
   ]
  },
  {
   "cell_type": "markdown",
   "metadata": {},
   "source": [
    "Now, we replace the usual binning of a few numerical variables with a piecewise continuous binning. Since version 0.9.2, the binning process includes the method ``update_binned_variable`` which allows updating an optimal binning without the need of re-processing the rest of the variables."
   ]
  },
  {
   "cell_type": "code",
   "execution_count": 11,
   "metadata": {},
   "outputs": [],
   "source": [
    "update_variables = [\"ExternalRiskEstimate\", \"MSinceOldestTradeOpen\", \"PercentTradesWBalance\"]\n",
    "\n",
    "for variable in update_variables:\n",
    "    optb = OptimalPWBinning(estimator=LGBMClassifier(),\n",
    "                            name=variable, objective=\"l1\")\n",
    "    optb.fit(X_train[variable], y_train, lb=0.001, ub=0.999)\n",
    "    binning_process.update_binned_variable(name=variable, optb=optb)"
   ]
  },
  {
   "cell_type": "markdown",
   "metadata": {},
   "source": [
    "#### Performance"
   ]
  },
  {
   "cell_type": "code",
   "execution_count": 12,
   "metadata": {},
   "outputs": [
    {
     "name": "stderr",
     "output_type": "stream",
     "text": [
      "/home/gui/projects/github/top/optbinning/optbinning/binning/transformations.py:38: RuntimeWarning: invalid value encountered in log\n",
      "  return np.log((1. / event_rate - 1) * n_event / n_nonevent)\n"
     ]
    },
    {
     "data": {
      "text/plain": [
       "LogisticRegression()"
      ]
     },
     "execution_count": 12,
     "metadata": {},
     "output_type": "execute_result"
    }
   ],
   "source": [
    "clf.fit(binning_process.transform(X_train), y_train)"
   ]
  },
  {
   "cell_type": "code",
   "execution_count": 13,
   "metadata": {},
   "outputs": [
    {
     "name": "stdout",
     "output_type": "stream",
     "text": [
      "              precision    recall  f1-score   support\n",
      "\n",
      "           0       0.71      0.67      0.69      1004\n",
      "           1       0.71      0.74      0.73      1088\n",
      "\n",
      "    accuracy                           0.71      2092\n",
      "   macro avg       0.71      0.71      0.71      2092\n",
      "weighted avg       0.71      0.71      0.71      2092\n",
      "\n"
     ]
    },
    {
     "name": "stderr",
     "output_type": "stream",
     "text": [
      "/home/gui/projects/github/top/optbinning/optbinning/binning/transformations.py:38: RuntimeWarning: invalid value encountered in log\n",
      "  return np.log((1. / event_rate - 1) * n_event / n_nonevent)\n"
     ]
    }
   ],
   "source": [
    "y_pred = clf.predict(binning_process.transform(X_test))\n",
    "print(classification_report(y_test, y_pred))"
   ]
  },
  {
   "cell_type": "markdown",
   "metadata": {},
   "source": [
    "If we compare with the results from the previous tutorial, we observe a slight improvement in all three metrics."
   ]
  },
  {
   "cell_type": "code",
   "execution_count": 14,
   "metadata": {},
   "outputs": [
    {
     "name": "stderr",
     "output_type": "stream",
     "text": [
      "/home/gui/projects/github/top/optbinning/optbinning/binning/transformations.py:38: RuntimeWarning: invalid value encountered in log\n",
      "  return np.log((1. / event_rate - 1) * n_event / n_nonevent)\n"
     ]
    }
   ],
   "source": [
    "probs = clf.predict_proba(binning_process.transform(X_test))\n",
    "preds = probs[:,1]\n",
    "fpr1, tpr1, threshold = roc_curve(y_test, preds)\n",
    "roc_auc1 = auc(fpr1, tpr1)"
   ]
  },
  {
   "cell_type": "code",
   "execution_count": 15,
   "metadata": {},
   "outputs": [
    {
     "data": {
      "image/png": "[encoded data removed]",
      "text/plain": [
       "<Figure size 432x288 with 1 Axes>"
      ]
     },
     "metadata": {
      "needs_background": "light"
     },
     "output_type": "display_data"
    }
   ],
   "source": [
    "plt.title('Receiver Operating Characteristic')\n",
    "plt.plot(fpr1, tpr1, 'b', label='Binning+LR: AUC = {0:.4f}'.format(roc_auc1))\n",
    "plt.legend(loc='lower right')\n",
    "plt.plot([0, 1], [0, 1],'k--')\n",
    "plt.xlim([0, 1])\n",
    "plt.ylim([0, 1])\n",
    "plt.ylabel('True Positive Rate')\n",
    "plt.xlabel('False Positive Rate')\n",
    "plt.show()"
   ]
  },
  {
   "cell_type": "markdown",
   "metadata": {},
   "source": [
    "Finally, let's check the piecewise continuous binning for one of the variables with more importance."
   ]
  },
  {
   "cell_type": "code",
   "execution_count": 16,
   "metadata": {},
   "outputs": [
    {
     "data": {
      "text/html": [
       "<div>\n",
       "<style scoped>\n",
       "    .dataframe tbody tr th:only-of-type {\n",
       "        vertical-align: middle;\n",
       "    }\n",
       "\n",
       "    .dataframe tbody tr th {\n",
       "        vertical-align: top;\n",
       "    }\n",
       "\n",
       "    .dataframe thead th {\n",
       "        text-align: right;\n",
       "    }\n",
       "</style>\n",
       "<table border=\"1\" class=\"dataframe\">\n",
       "  <thead>\n",
       "    <tr style=\"text-align: right;\">\n",
       "      <th></th>\n",
       "      <th>Bin</th>\n",
       "      <th>Count</th>\n",
       "      <th>Count (%)</th>\n",
       "      <th>Non-event</th>\n",
       "      <th>Event</th>\n",
       "      <th>c0</th>\n",
       "      <th>c1</th>\n",
       "    </tr>\n",
       "  </thead>\n",
       "  <tbody>\n",
       "    <tr>\n",
       "      <th>0</th>\n",
       "      <td>(-inf, 63.50)</td>\n",
       "      <td>2213</td>\n",
       "      <td>0.264491</td>\n",
       "      <td>510</td>\n",
       "      <td>1703</td>\n",
       "      <td>0.799992</td>\n",
       "      <td>-0.000000</td>\n",
       "    </tr>\n",
       "    <tr>\n",
       "      <th>1</th>\n",
       "      <td>[63.50, 65.50)</td>\n",
       "      <td>563</td>\n",
       "      <td>0.067288</td>\n",
       "      <td>153</td>\n",
       "      <td>410</td>\n",
       "      <td>4.297026</td>\n",
       "      <td>-0.055071</td>\n",
       "    </tr>\n",
       "    <tr>\n",
       "      <th>2</th>\n",
       "      <td>[65.50, 67.50)</td>\n",
       "      <td>516</td>\n",
       "      <td>0.061671</td>\n",
       "      <td>157</td>\n",
       "      <td>359</td>\n",
       "      <td>1.785820</td>\n",
       "      <td>-0.016732</td>\n",
       "    </tr>\n",
       "    <tr>\n",
       "      <th>3</th>\n",
       "      <td>[67.50, 70.50)</td>\n",
       "      <td>824</td>\n",
       "      <td>0.098482</td>\n",
       "      <td>307</td>\n",
       "      <td>517</td>\n",
       "      <td>2.741859</td>\n",
       "      <td>-0.030896</td>\n",
       "    </tr>\n",
       "    <tr>\n",
       "      <th>4</th>\n",
       "      <td>[70.50, 72.50)</td>\n",
       "      <td>530</td>\n",
       "      <td>0.063344</td>\n",
       "      <td>258</td>\n",
       "      <td>272</td>\n",
       "      <td>2.295900</td>\n",
       "      <td>-0.024570</td>\n",
       "    </tr>\n",
       "    <tr>\n",
       "      <th>5</th>\n",
       "      <td>[72.50, 74.50)</td>\n",
       "      <td>530</td>\n",
       "      <td>0.063344</td>\n",
       "      <td>265</td>\n",
       "      <td>265</td>\n",
       "      <td>2.285756</td>\n",
       "      <td>-0.024430</td>\n",
       "    </tr>\n",
       "    <tr>\n",
       "      <th>6</th>\n",
       "      <td>[74.50, 77.50)</td>\n",
       "      <td>709</td>\n",
       "      <td>0.084738</td>\n",
       "      <td>423</td>\n",
       "      <td>286</td>\n",
       "      <td>3.568860</td>\n",
       "      <td>-0.041653</td>\n",
       "    </tr>\n",
       "    <tr>\n",
       "      <th>7</th>\n",
       "      <td>[77.50, 81.50)</td>\n",
       "      <td>864</td>\n",
       "      <td>0.103263</td>\n",
       "      <td>600</td>\n",
       "      <td>264</td>\n",
       "      <td>1.746868</td>\n",
       "      <td>-0.018144</td>\n",
       "    </tr>\n",
       "    <tr>\n",
       "      <th>8</th>\n",
       "      <td>[81.50, 84.50)</td>\n",
       "      <td>602</td>\n",
       "      <td>0.071949</td>\n",
       "      <td>461</td>\n",
       "      <td>141</td>\n",
       "      <td>2.452263</td>\n",
       "      <td>-0.026799</td>\n",
       "    </tr>\n",
       "    <tr>\n",
       "      <th>9</th>\n",
       "      <td>[84.50, 87.50)</td>\n",
       "      <td>518</td>\n",
       "      <td>0.061910</td>\n",
       "      <td>437</td>\n",
       "      <td>81</td>\n",
       "      <td>1.635270</td>\n",
       "      <td>-0.017130</td>\n",
       "    </tr>\n",
       "    <tr>\n",
       "      <th>10</th>\n",
       "      <td>[87.50, inf)</td>\n",
       "      <td>498</td>\n",
       "      <td>0.059520</td>\n",
       "      <td>425</td>\n",
       "      <td>73</td>\n",
       "      <td>0.136375</td>\n",
       "      <td>0.000000</td>\n",
       "    </tr>\n",
       "    <tr>\n",
       "      <th>11</th>\n",
       "      <td>Special</td>\n",
       "      <td>0</td>\n",
       "      <td>0.000000</td>\n",
       "      <td>0</td>\n",
       "      <td>0</td>\n",
       "      <td>0.000000</td>\n",
       "      <td>0.000000</td>\n",
       "    </tr>\n",
       "    <tr>\n",
       "      <th>12</th>\n",
       "      <td>Missing</td>\n",
       "      <td>0</td>\n",
       "      <td>0.000000</td>\n",
       "      <td>0</td>\n",
       "      <td>0</td>\n",
       "      <td>0.000000</td>\n",
       "      <td>0.000000</td>\n",
       "    </tr>\n",
       "    <tr>\n",
       "      <th>Totals</th>\n",
       "      <td></td>\n",
       "      <td>8367</td>\n",
       "      <td>1.000000</td>\n",
       "      <td>3996</td>\n",
       "      <td>4371</td>\n",
       "      <td>-</td>\n",
       "      <td>-</td>\n",
       "    </tr>\n",
       "  </tbody>\n",
       "</table>\n",
       "</div>"
      ],
      "text/plain": [
       "                   Bin  Count  Count (%)  Non-event  Event        c0        c1\n",
       "0        (-inf, 63.50)   2213   0.264491        510   1703  0.799992 -0.000000\n",
       "1       [63.50, 65.50)    563   0.067288        153    410  4.297026 -0.055071\n",
       "2       [65.50, 67.50)    516   0.061671        157    359  1.785820 -0.016732\n",
       "3       [67.50, 70.50)    824   0.098482        307    517  2.741859 -0.030896\n",
       "4       [70.50, 72.50)    530   0.063344        258    272  2.295900 -0.024570\n",
       "5       [72.50, 74.50)    530   0.063344        265    265  2.285756 -0.024430\n",
       "6       [74.50, 77.50)    709   0.084738        423    286  3.568860 -0.041653\n",
       "7       [77.50, 81.50)    864   0.103263        600    264  1.746868 -0.018144\n",
       "8       [81.50, 84.50)    602   0.071949        461    141  2.452263 -0.026799\n",
       "9       [84.50, 87.50)    518   0.061910        437     81  1.635270 -0.017130\n",
       "10        [87.50, inf)    498   0.059520        425     73  0.136375  0.000000\n",
       "11             Special      0   0.000000          0      0  0.000000  0.000000\n",
       "12             Missing      0   0.000000          0      0  0.000000  0.000000\n",
       "Totals                   8367   1.000000       3996   4371         -         -"
      ]
     },
     "execution_count": 16,
     "metadata": {},
     "output_type": "execute_result"
    }
   ],
   "source": [
    "optb = binning_process.get_binned_variable(\"ExternalRiskEstimate\")\n",
    "optb.binning_table.build()"
   ]
  },
  {
   "cell_type": "code",
   "execution_count": 17,
   "metadata": {},
   "outputs": [
    {
     "name": "stdout",
     "output_type": "stream",
     "text": [
      "---------------------------------------------\n",
      "OptimalBinning: Binary Binning Table Analysis\n",
      "---------------------------------------------\n",
      "\n",
      "  General metrics\n",
      "\n",
      "    Gini index               0.49858632\n",
      "    IV (Jeffrey)             1.02947580\n",
      "    JS (Jensen-Shannon)      0.11880544\n",
      "    Hellinger                0.12345593\n",
      "    Triangular               0.44355312\n",
      "    KS                       0.40217895\n",
      "    Avg precision            0.69910615\n",
      "    Brier score              0.19906996\n",
      "    HHI                      0.12640619\n",
      "    HHI (normalized)         0.05360671\n",
      "    Cramer's V               0.45085066\n",
      "    Quality score            0.01103754\n",
      "\n",
      "  Significance tests\n",
      "\n",
      "    Bin A  Bin B  t-statistic  p-value  P[A > B]  P[B > A]\n",
      "        0      1     4.273551 0.038710  0.979402  0.020598\n",
      "        1      2     1.388516 0.238656  0.880875  0.119125\n",
      "        2      3     6.506519 0.010748  0.995084  0.004916\n",
      "        3      4    17.292596 0.000032  0.999996  0.000004\n",
      "        4      5     0.184590 0.667458  0.666430  0.333570\n",
      "        5      6    11.450667 0.000715  0.999713  0.000287\n",
      "        6      7    16.377781 0.000052  0.999986  0.000014\n",
      "        7      8     8.982480 0.002726  0.999028  0.000972\n",
      "        8      9    10.554598 0.001159  0.999629  0.000371\n",
      "        9     10     0.186908 0.665503  0.667979  0.332021\n",
      "\n"
     ]
    }
   ],
   "source": [
    "optb.binning_table.analysis()"
   ]
  },
  {
   "cell_type": "code",
   "execution_count": 18,
   "metadata": {},
   "outputs": [
    {
     "data": {
      "image/png": "[encoded data removed]",
      "text/plain": [
       "<Figure size 432x288 with 2 Axes>"
      ]
     },
     "metadata": {
      "needs_background": "light"
     },
     "output_type": "display_data"
    }
   ],
   "source": [
    "optb.binning_table.plot(metric=\"event_rate\")"
   ]
  },
  {
   "cell_type": "code",
   "execution_count": 19,
   "metadata": {},
   "outputs": [
    {
     "data": {
      "text/html": [
       "<div>\n",
       "<style scoped>\n",
       "    .dataframe tbody tr th:only-of-type {\n",
       "        vertical-align: middle;\n",
       "    }\n",
       "\n",
       "    .dataframe tbody tr th {\n",
       "        vertical-align: top;\n",
       "    }\n",
       "\n",
       "    .dataframe thead th {\n",
       "        text-align: right;\n",
       "    }\n",
       "</style>\n",
       "<table border=\"1\" class=\"dataframe\">\n",
       "  <thead>\n",
       "    <tr style=\"text-align: right;\">\n",
       "      <th></th>\n",
       "      <th>name</th>\n",
       "      <th>dtype</th>\n",
       "      <th>status</th>\n",
       "      <th>selected</th>\n",
       "      <th>n_bins</th>\n",
       "      <th>iv</th>\n",
       "      <th>js</th>\n",
       "      <th>gini</th>\n",
       "      <th>quality_score</th>\n",
       "    </tr>\n",
       "  </thead>\n",
       "  <tbody>\n",
       "    <tr>\n",
       "      <th>0</th>\n",
       "      <td>ExternalRiskEstimate</td>\n",
       "      <td>numerical</td>\n",
       "      <td>OPTIMAL</td>\n",
       "      <td>True</td>\n",
       "      <td>11</td>\n",
       "      <td>1.029476</td>\n",
       "      <td>0.118805</td>\n",
       "      <td>0.498586</td>\n",
       "      <td>0.011038</td>\n",
       "    </tr>\n",
       "    <tr>\n",
       "      <th>1</th>\n",
       "      <td>MSinceOldestTradeOpen</td>\n",
       "      <td>numerical</td>\n",
       "      <td>OPTIMAL</td>\n",
       "      <td>True</td>\n",
       "      <td>10</td>\n",
       "      <td>0.228822</td>\n",
       "      <td>0.028029</td>\n",
       "      <td>0.241497</td>\n",
       "      <td>0.013902</td>\n",
       "    </tr>\n",
       "    <tr>\n",
       "      <th>2</th>\n",
       "      <td>MSinceMostRecentTradeOpen</td>\n",
       "      <td>numerical</td>\n",
       "      <td>OPTIMAL</td>\n",
       "      <td>True</td>\n",
       "      <td>6</td>\n",
       "      <td>0.019086</td>\n",
       "      <td>0.002377</td>\n",
       "      <td>0.065597</td>\n",
       "      <td>0.000556</td>\n",
       "    </tr>\n",
       "    <tr>\n",
       "      <th>3</th>\n",
       "      <td>AverageMInFile</td>\n",
       "      <td>numerical</td>\n",
       "      <td>OPTIMAL</td>\n",
       "      <td>True</td>\n",
       "      <td>10</td>\n",
       "      <td>0.319379</td>\n",
       "      <td>0.038458</td>\n",
       "      <td>0.304157</td>\n",
       "      <td>0.128082</td>\n",
       "    </tr>\n",
       "    <tr>\n",
       "      <th>4</th>\n",
       "      <td>NumSatisfactoryTrades</td>\n",
       "      <td>numerical</td>\n",
       "      <td>OPTIMAL</td>\n",
       "      <td>True</td>\n",
       "      <td>10</td>\n",
       "      <td>0.126726</td>\n",
       "      <td>0.015424</td>\n",
       "      <td>0.180888</td>\n",
       "      <td>0.001210</td>\n",
       "    </tr>\n",
       "    <tr>\n",
       "      <th>5</th>\n",
       "      <td>NumTrades60Ever2DerogPubRec</td>\n",
       "      <td>numerical</td>\n",
       "      <td>OPTIMAL</td>\n",
       "      <td>True</td>\n",
       "      <td>4</td>\n",
       "      <td>0.178710</td>\n",
       "      <td>0.021915</td>\n",
       "      <td>0.200184</td>\n",
       "      <td>0.201631</td>\n",
       "    </tr>\n",
       "    <tr>\n",
       "      <th>6</th>\n",
       "      <td>NumTrades90Ever2DerogPubRec</td>\n",
       "      <td>numerical</td>\n",
       "      <td>OPTIMAL</td>\n",
       "      <td>True</td>\n",
       "      <td>3</td>\n",
       "      <td>0.133485</td>\n",
       "      <td>0.016301</td>\n",
       "      <td>0.155193</td>\n",
       "      <td>0.286527</td>\n",
       "    </tr>\n",
       "    <tr>\n",
       "      <th>7</th>\n",
       "      <td>PercentTradesNeverDelq</td>\n",
       "      <td>numerical</td>\n",
       "      <td>OPTIMAL</td>\n",
       "      <td>True</td>\n",
       "      <td>8</td>\n",
       "      <td>0.377803</td>\n",
       "      <td>0.045428</td>\n",
       "      <td>0.316946</td>\n",
       "      <td>0.101421</td>\n",
       "    </tr>\n",
       "    <tr>\n",
       "      <th>8</th>\n",
       "      <td>MSinceMostRecentDelq</td>\n",
       "      <td>numerical</td>\n",
       "      <td>OPTIMAL</td>\n",
       "      <td>True</td>\n",
       "      <td>7</td>\n",
       "      <td>0.289526</td>\n",
       "      <td>0.035246</td>\n",
       "      <td>0.272229</td>\n",
       "      <td>0.239494</td>\n",
       "    </tr>\n",
       "    <tr>\n",
       "      <th>9</th>\n",
       "      <td>MaxDelq2PublicRecLast12M</td>\n",
       "      <td>numerical</td>\n",
       "      <td>OPTIMAL</td>\n",
       "      <td>True</td>\n",
       "      <td>3</td>\n",
       "      <td>0.330280</td>\n",
       "      <td>0.040250</td>\n",
       "      <td>0.301670</td>\n",
       "      <td>0.833712</td>\n",
       "    </tr>\n",
       "    <tr>\n",
       "      <th>10</th>\n",
       "      <td>MaxDelqEver</td>\n",
       "      <td>numerical</td>\n",
       "      <td>OPTIMAL</td>\n",
       "      <td>True</td>\n",
       "      <td>4</td>\n",
       "      <td>0.236098</td>\n",
       "      <td>0.029129</td>\n",
       "      <td>0.257314</td>\n",
       "      <td>0.667940</td>\n",
       "    </tr>\n",
       "    <tr>\n",
       "      <th>11</th>\n",
       "      <td>NumTotalTrades</td>\n",
       "      <td>numerical</td>\n",
       "      <td>OPTIMAL</td>\n",
       "      <td>True</td>\n",
       "      <td>8</td>\n",
       "      <td>0.064716</td>\n",
       "      <td>0.008027</td>\n",
       "      <td>0.138545</td>\n",
       "      <td>0.011755</td>\n",
       "    </tr>\n",
       "    <tr>\n",
       "      <th>12</th>\n",
       "      <td>NumTradesOpeninLast12M</td>\n",
       "      <td>numerical</td>\n",
       "      <td>OPTIMAL</td>\n",
       "      <td>True</td>\n",
       "      <td>6</td>\n",
       "      <td>0.023530</td>\n",
       "      <td>0.002936</td>\n",
       "      <td>0.083770</td>\n",
       "      <td>0.007932</td>\n",
       "    </tr>\n",
       "    <tr>\n",
       "      <th>13</th>\n",
       "      <td>PercentInstallTrades</td>\n",
       "      <td>numerical</td>\n",
       "      <td>OPTIMAL</td>\n",
       "      <td>True</td>\n",
       "      <td>8</td>\n",
       "      <td>0.098610</td>\n",
       "      <td>0.012107</td>\n",
       "      <td>0.159569</td>\n",
       "      <td>0.077405</td>\n",
       "    </tr>\n",
       "    <tr>\n",
       "      <th>14</th>\n",
       "      <td>MSinceMostRecentInqexcl7days</td>\n",
       "      <td>numerical</td>\n",
       "      <td>OPTIMAL</td>\n",
       "      <td>True</td>\n",
       "      <td>4</td>\n",
       "      <td>0.166538</td>\n",
       "      <td>0.020460</td>\n",
       "      <td>0.211639</td>\n",
       "      <td>0.531041</td>\n",
       "    </tr>\n",
       "    <tr>\n",
       "      <th>15</th>\n",
       "      <td>NumInqLast6M</td>\n",
       "      <td>numerical</td>\n",
       "      <td>OPTIMAL</td>\n",
       "      <td>True</td>\n",
       "      <td>4</td>\n",
       "      <td>0.089956</td>\n",
       "      <td>0.011127</td>\n",
       "      <td>0.159369</td>\n",
       "      <td>0.323780</td>\n",
       "    </tr>\n",
       "    <tr>\n",
       "      <th>16</th>\n",
       "      <td>NumInqLast6Mexcl7days</td>\n",
       "      <td>numerical</td>\n",
       "      <td>OPTIMAL</td>\n",
       "      <td>True</td>\n",
       "      <td>5</td>\n",
       "      <td>0.083992</td>\n",
       "      <td>0.010394</td>\n",
       "      <td>0.153641</td>\n",
       "      <td>0.036291</td>\n",
       "    </tr>\n",
       "    <tr>\n",
       "      <th>17</th>\n",
       "      <td>NetFractionRevolvingBurden</td>\n",
       "      <td>numerical</td>\n",
       "      <td>OPTIMAL</td>\n",
       "      <td>True</td>\n",
       "      <td>9</td>\n",
       "      <td>0.574686</td>\n",
       "      <td>0.068232</td>\n",
       "      <td>0.410605</td>\n",
       "      <td>0.343593</td>\n",
       "    </tr>\n",
       "    <tr>\n",
       "      <th>18</th>\n",
       "      <td>NetFractionInstallBurden</td>\n",
       "      <td>numerical</td>\n",
       "      <td>OPTIMAL</td>\n",
       "      <td>True</td>\n",
       "      <td>5</td>\n",
       "      <td>0.037879</td>\n",
       "      <td>0.004724</td>\n",
       "      <td>0.105916</td>\n",
       "      <td>0.053723</td>\n",
       "    </tr>\n",
       "    <tr>\n",
       "      <th>19</th>\n",
       "      <td>NumRevolvingTradesWBalance</td>\n",
       "      <td>numerical</td>\n",
       "      <td>OPTIMAL</td>\n",
       "      <td>True</td>\n",
       "      <td>7</td>\n",
       "      <td>0.093376</td>\n",
       "      <td>0.011578</td>\n",
       "      <td>0.162108</td>\n",
       "      <td>0.011291</td>\n",
       "    </tr>\n",
       "    <tr>\n",
       "      <th>20</th>\n",
       "      <td>NumInstallTradesWBalance</td>\n",
       "      <td>numerical</td>\n",
       "      <td>OPTIMAL</td>\n",
       "      <td>True</td>\n",
       "      <td>5</td>\n",
       "      <td>0.014121</td>\n",
       "      <td>0.001762</td>\n",
       "      <td>0.059437</td>\n",
       "      <td>0.010423</td>\n",
       "    </tr>\n",
       "    <tr>\n",
       "      <th>21</th>\n",
       "      <td>NumBank2NatlTradesWHighUtilization</td>\n",
       "      <td>numerical</td>\n",
       "      <td>OPTIMAL</td>\n",
       "      <td>True</td>\n",
       "      <td>5</td>\n",
       "      <td>0.334853</td>\n",
       "      <td>0.041017</td>\n",
       "      <td>0.308402</td>\n",
       "      <td>0.222126</td>\n",
       "    </tr>\n",
       "    <tr>\n",
       "      <th>22</th>\n",
       "      <td>PercentTradesWBalance</td>\n",
       "      <td>numerical</td>\n",
       "      <td>OPTIMAL</td>\n",
       "      <td>True</td>\n",
       "      <td>13</td>\n",
       "      <td>0.379001</td>\n",
       "      <td>0.045810</td>\n",
       "      <td>0.333979</td>\n",
       "      <td>0.018258</td>\n",
       "    </tr>\n",
       "  </tbody>\n",
       "</table>\n",
       "</div>"
      ],
      "text/plain": [
       "                                  name      dtype   status  selected n_bins  \\\n",
       "0                 ExternalRiskEstimate  numerical  OPTIMAL      True     11   \n",
       "1                MSinceOldestTradeOpen  numerical  OPTIMAL      True     10   \n",
       "2            MSinceMostRecentTradeOpen  numerical  OPTIMAL      True      6   \n",
       "3                       AverageMInFile  numerical  OPTIMAL      True     10   \n",
       "4                NumSatisfactoryTrades  numerical  OPTIMAL      True     10   \n",
       "5          NumTrades60Ever2DerogPubRec  numerical  OPTIMAL      True      4   \n",
       "6          NumTrades90Ever2DerogPubRec  numerical  OPTIMAL      True      3   \n",
       "7               PercentTradesNeverDelq  numerical  OPTIMAL      True      8   \n",
       "8                 MSinceMostRecentDelq  numerical  OPTIMAL      True      7   \n",
       "9             MaxDelq2PublicRecLast12M  numerical  OPTIMAL      True      3   \n",
       "10                         MaxDelqEver  numerical  OPTIMAL      True      4   \n",
       "11                      NumTotalTrades  numerical  OPTIMAL      True      8   \n",
       "12              NumTradesOpeninLast12M  numerical  OPTIMAL      True      6   \n",
       "13                PercentInstallTrades  numerical  OPTIMAL      True      8   \n",
       "14        MSinceMostRecentInqexcl7days  numerical  OPTIMAL      True      4   \n",
       "15                        NumInqLast6M  numerical  OPTIMAL      True      4   \n",
       "16               NumInqLast6Mexcl7days  numerical  OPTIMAL      True      5   \n",
       "17          NetFractionRevolvingBurden  numerical  OPTIMAL      True      9   \n",
       "18            NetFractionInstallBurden  numerical  OPTIMAL      True      5   \n",
       "19          NumRevolvingTradesWBalance  numerical  OPTIMAL      True      7   \n",
       "20            NumInstallTradesWBalance  numerical  OPTIMAL      True      5   \n",
       "21  NumBank2NatlTradesWHighUtilization  numerical  OPTIMAL      True      5   \n",
       "22               PercentTradesWBalance  numerical  OPTIMAL      True     13   \n",
       "\n",
       "          iv        js      gini quality_score  \n",
       "0   1.029476  0.118805  0.498586      0.011038  \n",
       "1   0.228822  0.028029  0.241497      0.013902  \n",
       "2   0.019086  0.002377  0.065597      0.000556  \n",
       "3   0.319379  0.038458  0.304157      0.128082  \n",
       "4   0.126726  0.015424  0.180888      0.001210  \n",
       "5   0.178710  0.021915  0.200184      0.201631  \n",
       "6   0.133485  0.016301  0.155193      0.286527  \n",
       "7   0.377803  0.045428  0.316946      0.101421  \n",
       "8   0.289526  0.035246  0.272229      0.239494  \n",
       "9   0.330280  0.040250  0.301670      0.833712  \n",
       "10  0.236098  0.029129  0.257314      0.667940  \n",
       "11  0.064716  0.008027  0.138545      0.011755  \n",
       "12  0.023530  0.002936  0.083770      0.007932  \n",
       "13  0.098610  0.012107  0.159569      0.077405  \n",
       "14  0.166538  0.020460  0.211639      0.531041  \n",
       "15  0.089956  0.011127  0.159369      0.323780  \n",
       "16  0.083992  0.010394  0.153641      0.036291  \n",
       "17  0.574686  0.068232  0.410605      0.343593  \n",
       "18  0.037879  0.004724  0.105916      0.053723  \n",
       "19  0.093376  0.011578  0.162108      0.011291  \n",
       "20  0.014121  0.001762  0.059437      0.010423  \n",
       "21  0.334853  0.041017  0.308402      0.222126  \n",
       "22  0.379001  0.045810  0.333979      0.018258  "
      ]
     },
     "execution_count": 19,
     "metadata": {},
     "output_type": "execute_result"
    }
   ],
   "source": [
    "binning_process.summary()"
   ]
  }
 ],
 "metadata": {
  "kernelspec": {
   "display_name": "Python 3",
   "language": "python",
   "name": "python3"
  },
  "language_info": {
   "codemirror_mode": {
    "name": "ipython",
    "version": 3
   },
   "file_extension": ".py",
   "mimetype": "text/x-python",
   "name": "python",
   "nbconvert_exporter": "python",
   "pygments_lexer": "ipython3",
   "version": "3.7.4"
  }
 },
 "nbformat": 4,
 "nbformat_minor": 2
}
