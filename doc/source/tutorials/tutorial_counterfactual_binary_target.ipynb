{
 "cells": [
  {
   "cell_type": "markdown",
   "metadata": {},
   "source": [
    "# Tutorial: Counterfactual explanations for scorecard with binary target"
   ]
  },
  {
   "cell_type": "markdown",
   "metadata": {},
   "source": [
    "Counterfactual explanations is one of the post-hoc methods used to provide explainability to\n",
    "machine learning models. In this tutorial, we show how to generate optimal counterfactual explanations for scorecard models."
   ]
  },
  {
   "cell_type": "code",
   "execution_count": 1,
   "metadata": {},
   "outputs": [],
   "source": [
    "import numpy as np\n",
    "import pandas as pd\n",
    "\n",
    "from sklearn.linear_model import LogisticRegression\n",
    "\n",
    "from optbinning import BinningProcess\n",
    "from optbinning import Scorecard\n",
    "from optbinning.scorecard import Counterfactual"
   ]
  },
  {
   "cell_type": "markdown",
   "metadata": {},
   "source": [
    "We load the adult income dataset from the UCI repository (https://archive.ics.uci.edu/ml/datasets/adult). For this example, we select 8 features. The target \"income\" is transformed to binary (0: low-income, <=50K) and (1: high-income, >50K)."
   ]
  },
  {
   "cell_type": "code",
   "execution_count": 2,
   "metadata": {},
   "outputs": [],
   "source": [
    "df = pd.read_csv(\"data/adult.data\", sep=\",\", header=None)\n",
    "\n",
    "columns = [\"age\", \"workclass\", \"fnlwgt\", \"education\", \"education-num\",\n",
    "           \"marital-status\", \"occupation\", \"relationship\", \"race\", \"sex\",\n",
    "           \"capital-gain\", \"capital-loss\", \"hours-per-week\",\"native-country\",\n",
    "           \"income\"]\n",
    "\n",
    "target = \"income\"\n",
    "\n",
    "variable_names = [\"age\", \"workclass\", \"education\", \"marital-status\",\n",
    "                  \"occupation\", \"race\", \"sex\", \"hours-per-week\"]\n",
    "\n",
    "df.columns = columns\n",
    "X = df[variable_names]\n",
    "y = (df[target].values == ' >50K').astype(int)"
   ]
  },
  {
   "cell_type": "markdown",
   "metadata": {},
   "source": [
    "#### Scorecard model"
   ]
  },
  {
   "cell_type": "markdown",
   "metadata": {},
   "source": [
    "First, we require a scorecard model. As shown in previous tutorials, we need a binning process and an estimator."
   ]
  },
  {
   "cell_type": "code",
   "execution_count": 3,
   "metadata": {},
   "outputs": [
    {
     "data": {
      "text/plain": [
       "Scorecard(binning_process=BinningProcess(variable_names=['age', 'workclass',\n",
       "                                                         'education',\n",
       "                                                         'marital-status',\n",
       "                                                         'occupation', 'race',\n",
       "                                                         'sex',\n",
       "                                                         'hours-per-week']),\n",
       "          estimator=LogisticRegression(class_weight='balanced'),\n",
       "          scaling_method='min_max',\n",
       "          scaling_method_params={'max': 850, 'min': 300})"
      ]
     },
     "execution_count": 3,
     "metadata": {},
     "output_type": "execute_result"
    }
   ],
   "source": [
    "binning_process = BinningProcess(variable_names)\n",
    "\n",
    "estimator = LogisticRegression(solver=\"lbfgs\", class_weight=\"balanced\")\n",
    "\n",
    "scorecard = Scorecard(binning_process=binning_process,\n",
    "                      estimator=estimator, scaling_method=\"min_max\",\n",
    "                      scaling_method_params={\"min\": 300, \"max\": 850})\n",
    "\n",
    "scorecard.fit(X, y)"
   ]
  },
  {
   "cell_type": "markdown",
   "metadata": {},
   "source": [
    "#### Generating counterfactual explanations - binary outcome"
   ]
  },
  {
   "cell_type": "markdown",
   "metadata": {},
   "source": [
    "Having fitted the scorecard model, we can start generating counterfactual explanations."
   ]
  },
  {
   "cell_type": "markdown",
   "metadata": {},
   "source": [
    "##### Single counterfactual"
   ]
  },
  {
   "cell_type": "markdown",
   "metadata": {},
   "source": [
    "As an input data point or query, we choose the sample with the lowest probability of having a high income."
   ]
  },
  {
   "cell_type": "code",
   "execution_count": 4,
   "metadata": {},
   "outputs": [],
   "source": [
    "idx_lowest = np.argmin(scorecard.predict_proba(df)[:, 1])\n",
    "query = X.iloc[idx_lowest, :].to_dict()"
   ]
  },
  {
   "cell_type": "code",
   "execution_count": 5,
   "metadata": {},
   "outputs": [
    {
     "data": {
      "text/plain": [
       "{'age': 17,\n",
       " 'workclass': ' Private',\n",
       " 'education': ' 11th',\n",
       " 'marital-status': ' Never-married',\n",
       " 'occupation': ' Other-service',\n",
       " 'race': ' Black',\n",
       " 'sex': ' Female',\n",
       " 'hours-per-week': 25}"
      ]
     },
     "execution_count": 5,
     "metadata": {},
     "output_type": "execute_result"
    }
   ],
   "source": [
    "query"
   ]
  },
  {
   "cell_type": "markdown",
   "metadata": {},
   "source": [
    "A counterfactual class can simply be instantiated with a scorecard model. The first step is to fit the counterfactual with the data used to develop the scorecard. This allows computing problem data required for the integer programming formulation. This method must be called once before generating counterfactual explanations."
   ]
  },
  {
   "cell_type": "code",
   "execution_count": 6,
   "metadata": {},
   "outputs": [],
   "source": [
    "cf = Counterfactual(scorecard=scorecard)"
   ]
  },
  {
   "cell_type": "code",
   "execution_count": 7,
   "metadata": {},
   "outputs": [
    {
     "data": {
      "text/plain": [
       "Counterfactual(scorecard=Scorecard(binning_process=BinningProcess(variable_names=['age',\n",
       "                                                                                  'workclass',\n",
       "                                                                                  'education',\n",
       "                                                                                  'marital-status',\n",
       "                                                                                  'occupation',\n",
       "                                                                                  'race',\n",
       "                                                                                  'sex',\n",
       "                                                                                  'hours-per-week']),\n",
       "                                   estimator=LogisticRegression(class_weight='balanced'),\n",
       "                                   scaling_method='min_max',\n",
       "                                   scaling_method_params={'max': 850,\n",
       "                                                          'min': 300}))"
      ]
     },
     "execution_count": 7,
     "metadata": {},
     "output_type": "execute_result"
    }
   ],
   "source": [
    "cf.fit(X)"
   ]
  },
  {
   "cell_type": "markdown",
   "metadata": {},
   "source": [
    "The minimum parameters required to generate counterfactuals are a ``query``, the desired target outcome ``y``, the outcome type, and the number of counterfactuals ``n_cf``. Other parameters such as the maximum number of changes ``max_changes`` can be specified."
   ]
  },
  {
   "cell_type": "code",
   "execution_count": 8,
   "metadata": {
    "scrolled": false
   },
   "outputs": [
    {
     "data": {
      "text/plain": [
       "Counterfactual(scorecard=Scorecard(binning_process=BinningProcess(variable_names=['age',\n",
       "                                                                                  'workclass',\n",
       "                                                                                  'education',\n",
       "                                                                                  'marital-status',\n",
       "                                                                                  'occupation',\n",
       "                                                                                  'race',\n",
       "                                                                                  'sex',\n",
       "                                                                                  'hours-per-week']),\n",
       "                                   estimator=LogisticRegression(class_weight='balanced'),\n",
       "                                   scaling_method='min_max',\n",
       "                                   scaling_method_params={'max': 850,\n",
       "                                                          'min': 300}))"
      ]
     },
     "execution_count": 8,
     "metadata": {},
     "output_type": "execute_result"
    }
   ],
   "source": [
    "cf.generate(query=query, y=1, outcome_type=\"binary\", n_cf=1, max_changes=3)"
   ]
  },
  {
   "cell_type": "markdown",
   "metadata": {},
   "source": [
    "The property ``status`` retrieves the status of the optimization solver. Additional information is retrieved by using the ``information`` method, showing three sections:\n",
    "\n",
    "- Solver statistics: number of variables and constraints, and objective value.\n",
    "- Objectives: value of the objectives functions, by default proximity and closeness.\n",
    "- Timing: time statistics."
   ]
  },
  {
   "cell_type": "code",
   "execution_count": 9,
   "metadata": {},
   "outputs": [
    {
     "data": {
      "text/plain": [
       "'OPTIMAL'"
      ]
     },
     "execution_count": 9,
     "metadata": {},
     "output_type": "execute_result"
    }
   ],
   "source": [
    "cf.status"
   ]
  },
  {
   "cell_type": "code",
   "execution_count": 10,
   "metadata": {},
   "outputs": [
    {
     "name": "stdout",
     "output_type": "stream",
     "text": [
      "optbinning (Version 0.19.0)\n",
      "Copyright (c) 2019-2024 Guillermo Navas-Palencia, Apache License 2.0\n",
      "\n",
      "  Begin options\n",
      "    scorecard                            yes   * U\n",
      "    special_missing                    False   * d\n",
      "    n_jobs                                 1   * d\n",
      "    verbose                            False   * d\n",
      "  End options\n",
      "\n",
      "  Status  : OPTIMAL                         \n",
      "\n",
      "  Solver statistics\n",
      "    Type                                 mip\n",
      "    Number of variables                   42\n",
      "    Number of constraints                 95\n",
      "    Objective value                  16.1490\n",
      "    Best objective bound             16.1490\n",
      "\n",
      "  Objectives\n",
      "    proximity                         3.7558\n",
      "    closeness                        12.3932\n",
      "\n",
      "  Timing\n",
      "    Total time                          0.22 sec\n",
      "    Fit                                 0.13 sec   ( 60.81%)\n",
      "    Solver                              0.08 sec   ( 36.29%)\n",
      "    Post-processing                     0.01 sec   (  7.99%)\n",
      "\n"
     ]
    }
   ],
   "source": [
    "cf.information(print_level=2)"
   ]
  },
  {
   "cell_type": "markdown",
   "metadata": {},
   "source": [
    "The resulting optimal counterfactual explanation can be shown using ``display`` method. By default, all feature values are displayed. We might prefer to only observe the changes from the query, then set parameter ``show_only_changes`` to True. In addition, to add the counterfactual outcome, set parameter ``show_outcome`` to True."
   ]
  },
  {
   "cell_type": "code",
   "execution_count": 11,
   "metadata": {},
   "outputs": [
    {
     "data": {
      "text/html": [
       "<div>\n",
       "<style scoped>\n",
       "    .dataframe tbody tr th:only-of-type {\n",
       "        vertical-align: middle;\n",
       "    }\n",
       "\n",
       "    .dataframe tbody tr th {\n",
       "        vertical-align: top;\n",
       "    }\n",
       "\n",
       "    .dataframe thead th {\n",
       "        text-align: right;\n",
       "    }\n",
       "</style>\n",
       "<table border=\"1\" class=\"dataframe\">\n",
       "  <thead>\n",
       "    <tr style=\"text-align: right;\">\n",
       "      <th></th>\n",
       "      <th>age</th>\n",
       "      <th>workclass</th>\n",
       "      <th>education</th>\n",
       "      <th>marital-status</th>\n",
       "      <th>occupation</th>\n",
       "      <th>race</th>\n",
       "      <th>sex</th>\n",
       "      <th>hours-per-week</th>\n",
       "    </tr>\n",
       "  </thead>\n",
       "  <tbody>\n",
       "    <tr>\n",
       "      <th>0</th>\n",
       "      <td>[33.50, 35.50)</td>\n",
       "      <td>Private</td>\n",
       "      <td>[ Masters,  Prof-school,  Doctorate]</td>\n",
       "      <td>[ Married-AF-spouse,  Married-civ-spouse]</td>\n",
       "      <td>Other-service</td>\n",
       "      <td>Black</td>\n",
       "      <td>Female</td>\n",
       "      <td>25</td>\n",
       "    </tr>\n",
       "  </tbody>\n",
       "</table>\n",
       "</div>"
      ],
      "text/plain": [
       "              age workclass                             education  \\\n",
       "0  [33.50, 35.50)   Private  [ Masters,  Prof-school,  Doctorate]   \n",
       "\n",
       "                              marital-status      occupation    race      sex  \\\n",
       "0  [ Married-AF-spouse,  Married-civ-spouse]   Other-service   Black   Female   \n",
       "\n",
       "  hours-per-week  \n",
       "0             25  "
      ]
     },
     "execution_count": 11,
     "metadata": {},
     "output_type": "execute_result"
    }
   ],
   "source": [
    "cf.display()"
   ]
  },
  {
   "cell_type": "code",
   "execution_count": 12,
   "metadata": {},
   "outputs": [
    {
     "data": {
      "text/html": [
       "<div>\n",
       "<style scoped>\n",
       "    .dataframe tbody tr th:only-of-type {\n",
       "        vertical-align: middle;\n",
       "    }\n",
       "\n",
       "    .dataframe tbody tr th {\n",
       "        vertical-align: top;\n",
       "    }\n",
       "\n",
       "    .dataframe thead th {\n",
       "        text-align: right;\n",
       "    }\n",
       "</style>\n",
       "<table border=\"1\" class=\"dataframe\">\n",
       "  <thead>\n",
       "    <tr style=\"text-align: right;\">\n",
       "      <th></th>\n",
       "      <th>age</th>\n",
       "      <th>workclass</th>\n",
       "      <th>education</th>\n",
       "      <th>marital-status</th>\n",
       "      <th>occupation</th>\n",
       "      <th>race</th>\n",
       "      <th>sex</th>\n",
       "      <th>hours-per-week</th>\n",
       "    </tr>\n",
       "  </thead>\n",
       "  <tbody>\n",
       "    <tr>\n",
       "      <th>0</th>\n",
       "      <td>[33.50, 35.50)</td>\n",
       "      <td>-</td>\n",
       "      <td>[ Masters,  Prof-school,  Doctorate]</td>\n",
       "      <td>[ Married-AF-spouse,  Married-civ-spouse]</td>\n",
       "      <td>-</td>\n",
       "      <td>-</td>\n",
       "      <td>-</td>\n",
       "      <td>-</td>\n",
       "    </tr>\n",
       "  </tbody>\n",
       "</table>\n",
       "</div>"
      ],
      "text/plain": [
       "              age workclass                             education  \\\n",
       "0  [33.50, 35.50)         -  [ Masters,  Prof-school,  Doctorate]   \n",
       "\n",
       "                              marital-status occupation race sex  \\\n",
       "0  [ Married-AF-spouse,  Married-civ-spouse]          -    -   -   \n",
       "\n",
       "  hours-per-week  \n",
       "0              -  "
      ]
     },
     "execution_count": 12,
     "metadata": {},
     "output_type": "execute_result"
    }
   ],
   "source": [
    "cf.display(show_only_changes=True)"
   ]
  },
  {
   "cell_type": "code",
   "execution_count": 13,
   "metadata": {},
   "outputs": [
    {
     "data": {
      "text/html": [
       "<div>\n",
       "<style scoped>\n",
       "    .dataframe tbody tr th:only-of-type {\n",
       "        vertical-align: middle;\n",
       "    }\n",
       "\n",
       "    .dataframe tbody tr th {\n",
       "        vertical-align: top;\n",
       "    }\n",
       "\n",
       "    .dataframe thead th {\n",
       "        text-align: right;\n",
       "    }\n",
       "</style>\n",
       "<table border=\"1\" class=\"dataframe\">\n",
       "  <thead>\n",
       "    <tr style=\"text-align: right;\">\n",
       "      <th></th>\n",
       "      <th>age</th>\n",
       "      <th>workclass</th>\n",
       "      <th>education</th>\n",
       "      <th>marital-status</th>\n",
       "      <th>occupation</th>\n",
       "      <th>race</th>\n",
       "      <th>sex</th>\n",
       "      <th>hours-per-week</th>\n",
       "      <th>outcome</th>\n",
       "    </tr>\n",
       "  </thead>\n",
       "  <tbody>\n",
       "    <tr>\n",
       "      <th>0</th>\n",
       "      <td>[33.50, 35.50)</td>\n",
       "      <td>-</td>\n",
       "      <td>[ Masters,  Prof-school,  Doctorate]</td>\n",
       "      <td>[ Married-AF-spouse,  Married-civ-spouse]</td>\n",
       "      <td>-</td>\n",
       "      <td>-</td>\n",
       "      <td>-</td>\n",
       "      <td>-</td>\n",
       "      <td>0.505995</td>\n",
       "    </tr>\n",
       "  </tbody>\n",
       "</table>\n",
       "</div>"
      ],
      "text/plain": [
       "              age workclass                             education  \\\n",
       "0  [33.50, 35.50)         -  [ Masters,  Prof-school,  Doctorate]   \n",
       "\n",
       "                              marital-status occupation race sex  \\\n",
       "0  [ Married-AF-spouse,  Married-civ-spouse]          -    -   -   \n",
       "\n",
       "  hours-per-week   outcome  \n",
       "0              -  0.505995  "
      ]
     },
     "execution_count": 13,
     "metadata": {},
     "output_type": "execute_result"
    }
   ],
   "source": [
    "cf.display(show_only_changes=True, show_outcome=True)"
   ]
  },
  {
   "cell_type": "markdown",
   "metadata": {},
   "source": [
    "##### Actionable features"
   ]
  },
  {
   "cell_type": "markdown",
   "metadata": {},
   "source": [
    "Note that, in general, a scorecard includes features that are not mutable or that should not be actionable. For example, we might exclude marital status by choosing only those actionable features using the parameter ``actionable_features``."
   ]
  },
  {
   "cell_type": "code",
   "execution_count": 14,
   "metadata": {},
   "outputs": [
    {
     "data": {
      "text/html": [
       "<div>\n",
       "<style scoped>\n",
       "    .dataframe tbody tr th:only-of-type {\n",
       "        vertical-align: middle;\n",
       "    }\n",
       "\n",
       "    .dataframe tbody tr th {\n",
       "        vertical-align: top;\n",
       "    }\n",
       "\n",
       "    .dataframe thead th {\n",
       "        text-align: right;\n",
       "    }\n",
       "</style>\n",
       "<table border=\"1\" class=\"dataframe\">\n",
       "  <thead>\n",
       "    <tr style=\"text-align: right;\">\n",
       "      <th></th>\n",
       "      <th>age</th>\n",
       "      <th>workclass</th>\n",
       "      <th>education</th>\n",
       "      <th>marital-status</th>\n",
       "      <th>occupation</th>\n",
       "      <th>race</th>\n",
       "      <th>sex</th>\n",
       "      <th>hours-per-week</th>\n",
       "      <th>outcome</th>\n",
       "    </tr>\n",
       "  </thead>\n",
       "  <tbody>\n",
       "    <tr>\n",
       "      <th>0</th>\n",
       "      <td>[43.50, 49.50)</td>\n",
       "      <td>-</td>\n",
       "      <td>[ Masters,  Prof-school,  Doctorate]</td>\n",
       "      <td>-</td>\n",
       "      <td>[ Tech-support,  Protective-serv,  Prof-specia...</td>\n",
       "      <td>-</td>\n",
       "      <td>-</td>\n",
       "      <td>[39.50, 41.50)</td>\n",
       "      <td>0.503416</td>\n",
       "    </tr>\n",
       "  </tbody>\n",
       "</table>\n",
       "</div>"
      ],
      "text/plain": [
       "              age workclass                             education  \\\n",
       "0  [43.50, 49.50)         -  [ Masters,  Prof-school,  Doctorate]   \n",
       "\n",
       "  marital-status                                         occupation race sex  \\\n",
       "0              -  [ Tech-support,  Protective-serv,  Prof-specia...    -   -   \n",
       "\n",
       "   hours-per-week   outcome  \n",
       "0  [39.50, 41.50)  0.503416  "
      ]
     },
     "execution_count": 14,
     "metadata": {},
     "output_type": "execute_result"
    }
   ],
   "source": [
    "cf.generate(query=query, y=1, outcome_type=\"binary\", n_cf=1, max_changes=4,\n",
    "            actionable_features=[\"age\", \"workclass\", \"education\", \"occupation\",\n",
    "                                 \"hours-per-week\"]\n",
    "           ).display(show_only_changes=True, show_outcome=True)"
   ]
  },
  {
   "cell_type": "markdown",
   "metadata": {},
   "source": [
    "##### Weighted vs hierarchical method"
   ]
  },
  {
   "cell_type": "markdown",
   "metadata": {},
   "source": [
    "Currently, there are two methods (weighted and hierarchical) supported to handle multiple objectives functions. By default, ``method`` is set to \"weighted\", due to having an inferior computational cost."
   ]
  },
  {
   "cell_type": "code",
   "execution_count": 15,
   "metadata": {},
   "outputs": [
    {
     "data": {
      "text/html": [
       "<div>\n",
       "<style scoped>\n",
       "    .dataframe tbody tr th:only-of-type {\n",
       "        vertical-align: middle;\n",
       "    }\n",
       "\n",
       "    .dataframe tbody tr th {\n",
       "        vertical-align: top;\n",
       "    }\n",
       "\n",
       "    .dataframe thead th {\n",
       "        text-align: right;\n",
       "    }\n",
       "</style>\n",
       "<table border=\"1\" class=\"dataframe\">\n",
       "  <thead>\n",
       "    <tr style=\"text-align: right;\">\n",
       "      <th></th>\n",
       "      <th>age</th>\n",
       "      <th>workclass</th>\n",
       "      <th>education</th>\n",
       "      <th>marital-status</th>\n",
       "      <th>occupation</th>\n",
       "      <th>race</th>\n",
       "      <th>sex</th>\n",
       "      <th>hours-per-week</th>\n",
       "    </tr>\n",
       "  </thead>\n",
       "  <tbody>\n",
       "    <tr>\n",
       "      <th>0</th>\n",
       "      <td>[37.50, 40.50)</td>\n",
       "      <td>Private</td>\n",
       "      <td>[ Bachelors]</td>\n",
       "      <td>[ Married-AF-spouse,  Married-civ-spouse]</td>\n",
       "      <td>[ ?,  Armed-Forces,  Farming-fishing]</td>\n",
       "      <td>Black</td>\n",
       "      <td>Female</td>\n",
       "      <td>25</td>\n",
       "    </tr>\n",
       "  </tbody>\n",
       "</table>\n",
       "</div>"
      ],
      "text/plain": [
       "              age workclass     education  \\\n",
       "0  [37.50, 40.50)   Private  [ Bachelors]   \n",
       "\n",
       "                              marital-status  \\\n",
       "0  [ Married-AF-spouse,  Married-civ-spouse]   \n",
       "\n",
       "                              occupation    race      sex hours-per-week  \n",
       "0  [ ?,  Armed-Forces,  Farming-fishing]   Black   Female             25  "
      ]
     },
     "execution_count": 15,
     "metadata": {},
     "output_type": "execute_result"
    }
   ],
   "source": [
    "cf.generate(query=query, y=1, outcome_type=\"binary\", n_cf=1,\n",
    "            method=\"weighted\", max_changes=4).display()"
   ]
  },
  {
   "cell_type": "code",
   "execution_count": 16,
   "metadata": {},
   "outputs": [
    {
     "name": "stdout",
     "output_type": "stream",
     "text": [
      "optbinning (Version 0.19.0)\n",
      "Copyright (c) 2019-2024 Guillermo Navas-Palencia, Apache License 2.0\n",
      "\n",
      "  Status  : OPTIMAL                         \n",
      "\n",
      "  Solver statistics\n",
      "    Type                                 mip\n",
      "    Number of variables                   42\n",
      "    Number of constraints                 95\n",
      "    Objective value                  14.0037\n",
      "    Best objective bound             14.0037\n",
      "\n",
      "  Objectives\n",
      "    proximity                         4.1646\n",
      "    closeness                         9.8391\n",
      "\n",
      "  Timing\n",
      "    Total time                          0.38 sec\n",
      "    Fit                                 0.13 sec   ( 35.64%)\n",
      "    Solver                              0.23 sec   ( 61.28%)\n",
      "    Post-processing                     0.01 sec   (  5.02%)\n",
      "\n"
     ]
    }
   ],
   "source": [
    "cf.information()"
   ]
  },
  {
   "cell_type": "markdown",
   "metadata": {},
   "source": [
    "When generating counterfactuals the objectives are passed as a dictionary. If ``method=\"weighted\"``, the dictionary values represent the assigned weight to each objective, whereas if ``method=\"hierarchical\"``, the dictionary values represent the priority of each objective. In the following example, we assign a higher weight to closeness, reducing the objective value compared to the previous one, where both weights are set to 1."
   ]
  },
  {
   "cell_type": "code",
   "execution_count": 17,
   "metadata": {},
   "outputs": [
    {
     "data": {
      "text/html": [
       "<div>\n",
       "<style scoped>\n",
       "    .dataframe tbody tr th:only-of-type {\n",
       "        vertical-align: middle;\n",
       "    }\n",
       "\n",
       "    .dataframe tbody tr th {\n",
       "        vertical-align: top;\n",
       "    }\n",
       "\n",
       "    .dataframe thead th {\n",
       "        text-align: right;\n",
       "    }\n",
       "</style>\n",
       "<table border=\"1\" class=\"dataframe\">\n",
       "  <thead>\n",
       "    <tr style=\"text-align: right;\">\n",
       "      <th></th>\n",
       "      <th>age</th>\n",
       "      <th>workclass</th>\n",
       "      <th>education</th>\n",
       "      <th>marital-status</th>\n",
       "      <th>occupation</th>\n",
       "      <th>race</th>\n",
       "      <th>sex</th>\n",
       "      <th>hours-per-week</th>\n",
       "    </tr>\n",
       "  </thead>\n",
       "  <tbody>\n",
       "    <tr>\n",
       "      <th>0</th>\n",
       "      <td>[43.50, 49.50)</td>\n",
       "      <td>Private</td>\n",
       "      <td>[ Masters,  Prof-school,  Doctorate]</td>\n",
       "      <td>Never-married</td>\n",
       "      <td>[ Tech-support,  Protective-serv,  Prof-specia...</td>\n",
       "      <td>Black</td>\n",
       "      <td>Female</td>\n",
       "      <td>[39.50, 41.50)</td>\n",
       "    </tr>\n",
       "  </tbody>\n",
       "</table>\n",
       "</div>"
      ],
      "text/plain": [
       "              age workclass                             education  \\\n",
       "0  [43.50, 49.50)   Private  [ Masters,  Prof-school,  Doctorate]   \n",
       "\n",
       "   marital-status                                         occupation    race  \\\n",
       "0   Never-married  [ Tech-support,  Protective-serv,  Prof-specia...   Black   \n",
       "\n",
       "       sex  hours-per-week  \n",
       "0   Female  [39.50, 41.50)  "
      ]
     },
     "execution_count": 17,
     "metadata": {},
     "output_type": "execute_result"
    }
   ],
   "source": [
    "cf.generate(query=query, y=1, outcome_type=\"binary\", n_cf=1,\n",
    "            method=\"weighted\", objectives={\"proximity\": 0.1, \"closeness\": 0.9},\n",
    "            max_changes=4\n",
    "           ).display()"
   ]
  },
  {
   "cell_type": "code",
   "execution_count": 18,
   "metadata": {},
   "outputs": [
    {
     "name": "stdout",
     "output_type": "stream",
     "text": [
      "optbinning (Version 0.19.0)\n",
      "Copyright (c) 2019-2024 Guillermo Navas-Palencia, Apache License 2.0\n",
      "\n",
      "  Status  : OPTIMAL                         \n",
      "\n",
      "  Solver statistics\n",
      "    Type                                 mip\n",
      "    Number of variables                   42\n",
      "    Number of constraints                 95\n",
      "    Objective value                   9.0395\n",
      "    Best objective bound              9.0395\n",
      "\n",
      "  Objectives\n",
      "    proximity                         5.5872\n",
      "    closeness                         9.4231\n",
      "\n",
      "  Timing\n",
      "    Total time                          0.36 sec\n",
      "    Fit                                 0.13 sec   ( 36.87%)\n",
      "    Solver                              0.22 sec   ( 61.00%)\n",
      "    Post-processing                     0.01 sec   (  3.50%)\n",
      "\n"
     ]
    }
   ],
   "source": [
    "cf.information()"
   ]
  },
  {
   "cell_type": "markdown",
   "metadata": {},
   "source": [
    "Considering the hierarchical method, the highest priority is assigned to proximity, therefore, we get the minimum objective value with a small degradation (``\"priority_tol\"=0.1``)."
   ]
  },
  {
   "cell_type": "code",
   "execution_count": 19,
   "metadata": {},
   "outputs": [
    {
     "data": {
      "text/html": [
       "<div>\n",
       "<style scoped>\n",
       "    .dataframe tbody tr th:only-of-type {\n",
       "        vertical-align: middle;\n",
       "    }\n",
       "\n",
       "    .dataframe tbody tr th {\n",
       "        vertical-align: top;\n",
       "    }\n",
       "\n",
       "    .dataframe thead th {\n",
       "        text-align: right;\n",
       "    }\n",
       "</style>\n",
       "<table border=\"1\" class=\"dataframe\">\n",
       "  <thead>\n",
       "    <tr style=\"text-align: right;\">\n",
       "      <th></th>\n",
       "      <th>age</th>\n",
       "      <th>workclass</th>\n",
       "      <th>education</th>\n",
       "      <th>marital-status</th>\n",
       "      <th>occupation</th>\n",
       "      <th>race</th>\n",
       "      <th>sex</th>\n",
       "      <th>hours-per-week</th>\n",
       "    </tr>\n",
       "  </thead>\n",
       "  <tbody>\n",
       "    <tr>\n",
       "      <th>0</th>\n",
       "      <td>[35.50, 37.50)</td>\n",
       "      <td>Private</td>\n",
       "      <td>[ Masters,  Prof-school,  Doctorate]</td>\n",
       "      <td>[ Married-AF-spouse,  Married-civ-spouse]</td>\n",
       "      <td>Other-service</td>\n",
       "      <td>Black</td>\n",
       "      <td>Female</td>\n",
       "      <td>[25.50, 34.50)</td>\n",
       "    </tr>\n",
       "  </tbody>\n",
       "</table>\n",
       "</div>"
      ],
      "text/plain": [
       "              age workclass                             education  \\\n",
       "0  [35.50, 37.50)   Private  [ Masters,  Prof-school,  Doctorate]   \n",
       "\n",
       "                              marital-status      occupation    race      sex  \\\n",
       "0  [ Married-AF-spouse,  Married-civ-spouse]   Other-service   Black   Female   \n",
       "\n",
       "   hours-per-week  \n",
       "0  [25.50, 34.50)  "
      ]
     },
     "execution_count": 19,
     "metadata": {},
     "output_type": "execute_result"
    }
   ],
   "source": [
    "cf.generate(query=query, y=1, outcome_type=\"binary\", n_cf=1,\n",
    "            method=\"hierarchical\", max_changes=4\n",
    "           ).display()"
   ]
  },
  {
   "cell_type": "code",
   "execution_count": 20,
   "metadata": {},
   "outputs": [
    {
     "name": "stdout",
     "output_type": "stream",
     "text": [
      "optbinning (Version 0.19.0)\n",
      "Copyright (c) 2019-2024 Guillermo Navas-Palencia, Apache License 2.0\n",
      "\n",
      "  Status  : OPTIMAL                         \n",
      "\n",
      "  Solver statistics\n",
      "    Type                                 mip\n",
      "    Number of variables                   44\n",
      "    Number of constraints                 97\n",
      "    Objective value                  12.0849\n",
      "    Best objective bound             12.0849\n",
      "\n",
      "  Objectives\n",
      "    proximity                         3.9645\n",
      "    closeness                        12.0849\n",
      "\n",
      "  Timing\n",
      "    Total time                          0.23 sec\n",
      "    Fit                                 0.13 sec   ( 58.51%)\n",
      "    Solver                              0.09 sec   ( 38.33%)\n",
      "    Post-processing                     0.01 sec   (  8.23%)\n",
      "\n"
     ]
    }
   ],
   "source": [
    "cf.information()"
   ]
  },
  {
   "cell_type": "markdown",
   "metadata": {},
   "source": [
    "On the contrary, if we switch priorities and reduce the priority degradation, we obtain the same closeness objective value as the one generated with the weight ``\"closeness\": 0.9``."
   ]
  },
  {
   "cell_type": "code",
   "execution_count": 21,
   "metadata": {},
   "outputs": [
    {
     "data": {
      "text/html": [
       "<div>\n",
       "<style scoped>\n",
       "    .dataframe tbody tr th:only-of-type {\n",
       "        vertical-align: middle;\n",
       "    }\n",
       "\n",
       "    .dataframe tbody tr th {\n",
       "        vertical-align: top;\n",
       "    }\n",
       "\n",
       "    .dataframe thead th {\n",
       "        text-align: right;\n",
       "    }\n",
       "</style>\n",
       "<table border=\"1\" class=\"dataframe\">\n",
       "  <thead>\n",
       "    <tr style=\"text-align: right;\">\n",
       "      <th></th>\n",
       "      <th>age</th>\n",
       "      <th>workclass</th>\n",
       "      <th>education</th>\n",
       "      <th>marital-status</th>\n",
       "      <th>occupation</th>\n",
       "      <th>race</th>\n",
       "      <th>sex</th>\n",
       "      <th>hours-per-week</th>\n",
       "    </tr>\n",
       "  </thead>\n",
       "  <tbody>\n",
       "    <tr>\n",
       "      <th>0</th>\n",
       "      <td>[43.50, 49.50)</td>\n",
       "      <td>Private</td>\n",
       "      <td>[ Masters,  Prof-school,  Doctorate]</td>\n",
       "      <td>Never-married</td>\n",
       "      <td>[ Tech-support,  Protective-serv,  Prof-specia...</td>\n",
       "      <td>Black</td>\n",
       "      <td>Female</td>\n",
       "      <td>[39.50, 41.50)</td>\n",
       "    </tr>\n",
       "  </tbody>\n",
       "</table>\n",
       "</div>"
      ],
      "text/plain": [
       "              age workclass                             education  \\\n",
       "0  [43.50, 49.50)   Private  [ Masters,  Prof-school,  Doctorate]   \n",
       "\n",
       "   marital-status                                         occupation    race  \\\n",
       "0   Never-married  [ Tech-support,  Protective-serv,  Prof-specia...   Black   \n",
       "\n",
       "       sex  hours-per-week  \n",
       "0   Female  [39.50, 41.50)  "
      ]
     },
     "execution_count": 21,
     "metadata": {},
     "output_type": "execute_result"
    }
   ],
   "source": [
    "cf.generate(query=query, y=1, outcome_type=\"binary\", n_cf=1,\n",
    "            method=\"hierarchical\", objectives={\"proximity\": 1, \"closeness\": 2},\n",
    "            priority_tol=0.001,\n",
    "            max_changes=4\n",
    "           ).display()"
   ]
  },
  {
   "cell_type": "code",
   "execution_count": 22,
   "metadata": {},
   "outputs": [
    {
     "name": "stdout",
     "output_type": "stream",
     "text": [
      "optbinning (Version 0.19.0)\n",
      "Copyright (c) 2019-2024 Guillermo Navas-Palencia, Apache License 2.0\n",
      "\n",
      "  Status  : OPTIMAL                         \n",
      "\n",
      "  Solver statistics\n",
      "    Type                                 mip\n",
      "    Number of variables                   44\n",
      "    Number of constraints                 97\n",
      "    Objective value                   5.5872\n",
      "    Best objective bound              5.5872\n",
      "\n",
      "  Objectives\n",
      "    closeness                         9.4231\n",
      "    proximity                         5.5872\n",
      "\n",
      "  Timing\n",
      "    Total time                          0.74 sec\n",
      "    Fit                                 0.13 sec   ( 18.17%)\n",
      "    Solver                              0.60 sec   ( 80.79%)\n",
      "    Post-processing                     0.01 sec   (  1.29%)\n",
      "\n"
     ]
    }
   ],
   "source": [
    "cf.information()"
   ]
  },
  {
   "cell_type": "markdown",
   "metadata": {},
   "source": [
    "The hierarchical method becomes more interesting when several objectives come into play, as shown going forward."
   ]
  },
  {
   "cell_type": "markdown",
   "metadata": {},
   "source": [
    "##### Multiple counterfactuals"
   ]
  },
  {
   "cell_type": "markdown",
   "metadata": {},
   "source": [
    "Now, let's focus on the generation of multiple counterfactual explanations for a single input data point. The present implementation is able to generate ``n_cf`` counterfactuals simultaneously while imposing diversity constraints."
   ]
  },
  {
   "cell_type": "markdown",
   "metadata": {},
   "source": [
    "For example, we generate three counterfactuals such that a maximum of four features can be changed and enforcing (hard constraint) a diversity of features. The diversity of features to change guarantees different combinations of changed features for each counterfactual."
   ]
  },
  {
   "cell_type": "code",
   "execution_count": 23,
   "metadata": {},
   "outputs": [
    {
     "data": {
      "text/html": [
       "<div>\n",
       "<style scoped>\n",
       "    .dataframe tbody tr th:only-of-type {\n",
       "        vertical-align: middle;\n",
       "    }\n",
       "\n",
       "    .dataframe tbody tr th {\n",
       "        vertical-align: top;\n",
       "    }\n",
       "\n",
       "    .dataframe thead th {\n",
       "        text-align: right;\n",
       "    }\n",
       "</style>\n",
       "<table border=\"1\" class=\"dataframe\">\n",
       "  <thead>\n",
       "    <tr style=\"text-align: right;\">\n",
       "      <th></th>\n",
       "      <th>age</th>\n",
       "      <th>workclass</th>\n",
       "      <th>education</th>\n",
       "      <th>marital-status</th>\n",
       "      <th>occupation</th>\n",
       "      <th>race</th>\n",
       "      <th>sex</th>\n",
       "      <th>hours-per-week</th>\n",
       "      <th>outcome</th>\n",
       "    </tr>\n",
       "  </thead>\n",
       "  <tbody>\n",
       "    <tr>\n",
       "      <th>0</th>\n",
       "      <td>[37.50, 40.50)</td>\n",
       "      <td>-</td>\n",
       "      <td>[ Bachelors]</td>\n",
       "      <td>[ Married-AF-spouse,  Married-civ-spouse]</td>\n",
       "      <td>[ ?,  Armed-Forces,  Farming-fishing]</td>\n",
       "      <td>-</td>\n",
       "      <td>-</td>\n",
       "      <td>-</td>\n",
       "      <td>0.508597</td>\n",
       "    </tr>\n",
       "    <tr>\n",
       "      <th>0</th>\n",
       "      <td>[40.50, 43.50)</td>\n",
       "      <td>-</td>\n",
       "      <td>[ Bachelors]</td>\n",
       "      <td>[ Married-AF-spouse,  Married-civ-spouse]</td>\n",
       "      <td>-</td>\n",
       "      <td>-</td>\n",
       "      <td>-</td>\n",
       "      <td>[34.50, 39.50)</td>\n",
       "      <td>0.537689</td>\n",
       "    </tr>\n",
       "    <tr>\n",
       "      <th>0</th>\n",
       "      <td>[43.50, 49.50)</td>\n",
       "      <td>-</td>\n",
       "      <td>[ Masters,  Prof-school,  Doctorate]</td>\n",
       "      <td>-</td>\n",
       "      <td>[ Tech-support,  Protective-serv,  Prof-specia...</td>\n",
       "      <td>-</td>\n",
       "      <td>-</td>\n",
       "      <td>[39.50, 41.50)</td>\n",
       "      <td>0.503416</td>\n",
       "    </tr>\n",
       "  </tbody>\n",
       "</table>\n",
       "</div>"
      ],
      "text/plain": [
       "              age workclass                             education  \\\n",
       "0  [37.50, 40.50)         -                          [ Bachelors]   \n",
       "0  [40.50, 43.50)         -                          [ Bachelors]   \n",
       "0  [43.50, 49.50)         -  [ Masters,  Prof-school,  Doctorate]   \n",
       "\n",
       "                              marital-status  \\\n",
       "0  [ Married-AF-spouse,  Married-civ-spouse]   \n",
       "0  [ Married-AF-spouse,  Married-civ-spouse]   \n",
       "0                                          -   \n",
       "\n",
       "                                          occupation race sex  hours-per-week  \\\n",
       "0              [ ?,  Armed-Forces,  Farming-fishing]    -   -               -   \n",
       "0                                                  -    -   -  [34.50, 39.50)   \n",
       "0  [ Tech-support,  Protective-serv,  Prof-specia...    -   -  [39.50, 41.50)   \n",
       "\n",
       "    outcome  \n",
       "0  0.508597  \n",
       "0  0.537689  \n",
       "0  0.503416  "
      ]
     },
     "execution_count": 23,
     "metadata": {},
     "output_type": "execute_result"
    }
   ],
   "source": [
    "cf.generate(query=query, y=1, outcome_type=\"binary\", n_cf=3, max_changes=4,\n",
    "            hard_constraints=[\"diversity_features\"], time_limit=10\n",
    "           ).display(show_only_changes=True, show_outcome=True)"
   ]
  },
  {
   "cell_type": "markdown",
   "metadata": {},
   "source": [
    "The generated counterfactuals change the following features:\n",
    "\n",
    "- age | education | occupation | hours-per-week\n",
    "- age | education | marital-status | hours-per-week\n",
    "- age | education | marital-status | occupation"
   ]
  },
  {
   "cell_type": "code",
   "execution_count": 24,
   "metadata": {},
   "outputs": [
    {
     "name": "stdout",
     "output_type": "stream",
     "text": [
      "optbinning (Version 0.19.0)\n",
      "Copyright (c) 2019-2024 Guillermo Navas-Palencia, Apache License 2.0\n",
      "\n",
      "  Status  : FEASIBLE                        \n",
      "\n",
      "  Solver statistics\n",
      "    Type                                 mip\n",
      "    Number of variables                 1041\n",
      "    Number of constraints                450\n",
      "    Objective value                  43.7051\n",
      "    Best objective bound             38.2977\n",
      "\n",
      "  Objectives\n",
      "    proximity                        14.0688\n",
      "    closeness                        29.6363\n",
      "\n",
      "  Timing\n",
      "    Total time                         10.34 sec\n",
      "    Fit                                 0.13 sec   (  1.29%)\n",
      "    Solver                             10.19 sec   ( 98.54%)\n",
      "    Post-processing                     0.02 sec   (  0.17%)\n",
      "\n"
     ]
    }
   ],
   "source": [
    "cf.information()"
   ]
  },
  {
   "cell_type": "markdown",
   "metadata": {},
   "source": [
    "The reported status is only feasible, not optimal. When generating multiple counterfactual adding several constraints, the time required to prove optimality might be in the order of 10 - 120s, so one needs to increase ``time_limit``. However, good feasible solutions are generally achieved within a few seconds. Adding extra 10 seconds to ``time_limit``, the proximity and closeness objective values are reduced by 0.4% and 0.8%, respectively."
   ]
  },
  {
   "cell_type": "code",
   "execution_count": 25,
   "metadata": {},
   "outputs": [
    {
     "data": {
      "text/html": [
       "<div>\n",
       "<style scoped>\n",
       "    .dataframe tbody tr th:only-of-type {\n",
       "        vertical-align: middle;\n",
       "    }\n",
       "\n",
       "    .dataframe tbody tr th {\n",
       "        vertical-align: top;\n",
       "    }\n",
       "\n",
       "    .dataframe thead th {\n",
       "        text-align: right;\n",
       "    }\n",
       "</style>\n",
       "<table border=\"1\" class=\"dataframe\">\n",
       "  <thead>\n",
       "    <tr style=\"text-align: right;\">\n",
       "      <th></th>\n",
       "      <th>age</th>\n",
       "      <th>workclass</th>\n",
       "      <th>education</th>\n",
       "      <th>marital-status</th>\n",
       "      <th>occupation</th>\n",
       "      <th>race</th>\n",
       "      <th>sex</th>\n",
       "      <th>hours-per-week</th>\n",
       "      <th>outcome</th>\n",
       "    </tr>\n",
       "  </thead>\n",
       "  <tbody>\n",
       "    <tr>\n",
       "      <th>0</th>\n",
       "      <td>[37.50, 40.50)</td>\n",
       "      <td>-</td>\n",
       "      <td>[ Bachelors]</td>\n",
       "      <td>[ Married-AF-spouse,  Married-civ-spouse]</td>\n",
       "      <td>[ ?,  Armed-Forces,  Farming-fishing]</td>\n",
       "      <td>-</td>\n",
       "      <td>-</td>\n",
       "      <td>-</td>\n",
       "      <td>0.508597</td>\n",
       "    </tr>\n",
       "    <tr>\n",
       "      <th>0</th>\n",
       "      <td>[40.50, 43.50)</td>\n",
       "      <td>-</td>\n",
       "      <td>[ Bachelors]</td>\n",
       "      <td>[ Married-AF-spouse,  Married-civ-spouse]</td>\n",
       "      <td>-</td>\n",
       "      <td>-</td>\n",
       "      <td>-</td>\n",
       "      <td>[34.50, 39.50)</td>\n",
       "      <td>0.537689</td>\n",
       "    </tr>\n",
       "    <tr>\n",
       "      <th>0</th>\n",
       "      <td>[43.50, 49.50)</td>\n",
       "      <td>-</td>\n",
       "      <td>[ Masters,  Prof-school,  Doctorate]</td>\n",
       "      <td>-</td>\n",
       "      <td>[ Tech-support,  Protective-serv,  Prof-specia...</td>\n",
       "      <td>-</td>\n",
       "      <td>-</td>\n",
       "      <td>[39.50, 41.50)</td>\n",
       "      <td>0.503416</td>\n",
       "    </tr>\n",
       "  </tbody>\n",
       "</table>\n",
       "</div>"
      ],
      "text/plain": [
       "              age workclass                             education  \\\n",
       "0  [37.50, 40.50)         -                          [ Bachelors]   \n",
       "0  [40.50, 43.50)         -                          [ Bachelors]   \n",
       "0  [43.50, 49.50)         -  [ Masters,  Prof-school,  Doctorate]   \n",
       "\n",
       "                              marital-status  \\\n",
       "0  [ Married-AF-spouse,  Married-civ-spouse]   \n",
       "0  [ Married-AF-spouse,  Married-civ-spouse]   \n",
       "0                                          -   \n",
       "\n",
       "                                          occupation race sex  hours-per-week  \\\n",
       "0              [ ?,  Armed-Forces,  Farming-fishing]    -   -               -   \n",
       "0                                                  -    -   -  [34.50, 39.50)   \n",
       "0  [ Tech-support,  Protective-serv,  Prof-specia...    -   -  [39.50, 41.50)   \n",
       "\n",
       "    outcome  \n",
       "0  0.508597  \n",
       "0  0.537689  \n",
       "0  0.503416  "
      ]
     },
     "execution_count": 25,
     "metadata": {},
     "output_type": "execute_result"
    }
   ],
   "source": [
    "cf.generate(query=query, y=1, outcome_type=\"binary\", n_cf=3, max_changes=4,\n",
    "            hard_constraints=[\"diversity_features\"], time_limit=20\n",
    "           ).display(show_only_changes=True, show_outcome=True)"
   ]
  },
  {
   "cell_type": "code",
   "execution_count": 26,
   "metadata": {},
   "outputs": [
    {
     "name": "stdout",
     "output_type": "stream",
     "text": [
      "optbinning (Version 0.19.0)\n",
      "Copyright (c) 2019-2024 Guillermo Navas-Palencia, Apache License 2.0\n",
      "\n",
      "  Status  : OPTIMAL                         \n",
      "\n",
      "  Solver statistics\n",
      "    Type                                 mip\n",
      "    Number of variables                 1041\n",
      "    Number of constraints                450\n",
      "    Objective value                  43.7051\n",
      "    Best objective bound             43.7051\n",
      "\n",
      "  Objectives\n",
      "    proximity                        14.0688\n",
      "    closeness                        29.6363\n",
      "\n",
      "  Timing\n",
      "    Total time                         17.37 sec\n",
      "    Fit                                 0.13 sec   (  0.77%)\n",
      "    Solver                             17.22 sec   ( 99.08%)\n",
      "    Post-processing                     0.03 sec   (  0.15%)\n",
      "\n"
     ]
    }
   ],
   "source": [
    "cf.information()"
   ]
  },
  {
   "cell_type": "markdown",
   "metadata": {},
   "source": [
    "The previous conterfactuals, although showing diversity regarding features to change, some feature values appear several times. To guarantee unique combinations of feature changes and feature values, we add the hard constraint \"diversity_values\"."
   ]
  },
  {
   "cell_type": "code",
   "execution_count": 27,
   "metadata": {},
   "outputs": [
    {
     "data": {
      "text/html": [
       "<div>\n",
       "<style scoped>\n",
       "    .dataframe tbody tr th:only-of-type {\n",
       "        vertical-align: middle;\n",
       "    }\n",
       "\n",
       "    .dataframe tbody tr th {\n",
       "        vertical-align: top;\n",
       "    }\n",
       "\n",
       "    .dataframe thead th {\n",
       "        text-align: right;\n",
       "    }\n",
       "</style>\n",
       "<table border=\"1\" class=\"dataframe\">\n",
       "  <thead>\n",
       "    <tr style=\"text-align: right;\">\n",
       "      <th></th>\n",
       "      <th>age</th>\n",
       "      <th>workclass</th>\n",
       "      <th>education</th>\n",
       "      <th>marital-status</th>\n",
       "      <th>occupation</th>\n",
       "      <th>race</th>\n",
       "      <th>sex</th>\n",
       "      <th>hours-per-week</th>\n",
       "      <th>outcome</th>\n",
       "    </tr>\n",
       "  </thead>\n",
       "  <tbody>\n",
       "    <tr>\n",
       "      <th>0</th>\n",
       "      <td>[43.50, 49.50)</td>\n",
       "      <td>-</td>\n",
       "      <td>[ Bachelors]</td>\n",
       "      <td>-</td>\n",
       "      <td>[ Exec-managerial]</td>\n",
       "      <td>-</td>\n",
       "      <td>-</td>\n",
       "      <td>[49.50, 55.50)</td>\n",
       "      <td>0.518267</td>\n",
       "    </tr>\n",
       "    <tr>\n",
       "      <th>0</th>\n",
       "      <td>[49.50, 54.50)</td>\n",
       "      <td>-</td>\n",
       "      <td>[ Masters,  Prof-school,  Doctorate]</td>\n",
       "      <td>[ Married-spouse-absent,  Widowed,  Divorced]</td>\n",
       "      <td>[ Tech-support,  Protective-serv,  Prof-specia...</td>\n",
       "      <td>-</td>\n",
       "      <td>-</td>\n",
       "      <td>-</td>\n",
       "      <td>0.510208</td>\n",
       "    </tr>\n",
       "    <tr>\n",
       "      <th>0</th>\n",
       "      <td>[40.50, 43.50)</td>\n",
       "      <td>-</td>\n",
       "      <td>[ Assoc-acdm,  Assoc-voc]</td>\n",
       "      <td>[ Married-AF-spouse,  Married-civ-spouse]</td>\n",
       "      <td>-</td>\n",
       "      <td>-</td>\n",
       "      <td>-</td>\n",
       "      <td>[41.50, 49.50)</td>\n",
       "      <td>0.529430</td>\n",
       "    </tr>\n",
       "  </tbody>\n",
       "</table>\n",
       "</div>"
      ],
      "text/plain": [
       "              age workclass                             education  \\\n",
       "0  [43.50, 49.50)         -                          [ Bachelors]   \n",
       "0  [49.50, 54.50)         -  [ Masters,  Prof-school,  Doctorate]   \n",
       "0  [40.50, 43.50)         -             [ Assoc-acdm,  Assoc-voc]   \n",
       "\n",
       "                                  marital-status  \\\n",
       "0                                              -   \n",
       "0  [ Married-spouse-absent,  Widowed,  Divorced]   \n",
       "0      [ Married-AF-spouse,  Married-civ-spouse]   \n",
       "\n",
       "                                          occupation race sex  hours-per-week  \\\n",
       "0                                 [ Exec-managerial]    -   -  [49.50, 55.50)   \n",
       "0  [ Tech-support,  Protective-serv,  Prof-specia...    -   -               -   \n",
       "0                                                  -    -   -  [41.50, 49.50)   \n",
       "\n",
       "    outcome  \n",
       "0  0.518267  \n",
       "0  0.510208  \n",
       "0  0.529430  "
      ]
     },
     "execution_count": 27,
     "metadata": {},
     "output_type": "execute_result"
    }
   ],
   "source": [
    "cf.generate(query=query, y=1, outcome_type=\"binary\", n_cf=3, max_changes=4,\n",
    "            hard_constraints=[\"diversity_features\", \"diversity_values\"], time_limit=15\n",
    "           ).display(show_only_changes=True, show_outcome=True)"
   ]
  },
  {
   "cell_type": "code",
   "execution_count": 28,
   "metadata": {},
   "outputs": [
    {
     "name": "stdout",
     "output_type": "stream",
     "text": [
      "optbinning (Version 0.19.0)\n",
      "Copyright (c) 2019-2024 Guillermo Navas-Palencia, Apache License 2.0\n",
      "\n",
      "  Status  : FEASIBLE                        \n",
      "\n",
      "  Solver statistics\n",
      "    Type                                 mip\n",
      "    Number of variables                 1065\n",
      "    Number of constraints                450\n",
      "    Objective value                  47.7067\n",
      "    Best objective bound             39.9925\n",
      "\n",
      "  Objectives\n",
      "    proximity                        16.0514\n",
      "    closeness                        31.6553\n",
      "\n",
      "  Timing\n",
      "    Total time                         15.44 sec\n",
      "    Fit                                 0.13 sec   (  0.87%)\n",
      "    Solver                             15.28 sec   ( 98.98%)\n",
      "    Post-processing                     0.02 sec   (  0.15%)\n",
      "\n"
     ]
    }
   ],
   "source": [
    "cf.information()"
   ]
  },
  {
   "cell_type": "markdown",
   "metadata": {},
   "source": [
    "Adding this extra constraint, the objective values slightly increase."
   ]
  },
  {
   "cell_type": "markdown",
   "metadata": {},
   "source": [
    "#### Generating counterfactual explanations - probability outcome"
   ]
  },
  {
   "cell_type": "markdown",
   "metadata": {},
   "source": [
    "In some situations, having an outcome = 1 with a probability outcome > 0.5 might not be sufficient. For example, an algorithm might require a probability of 0.7 for acceptance."
   ]
  },
  {
   "cell_type": "code",
   "execution_count": 29,
   "metadata": {},
   "outputs": [],
   "source": [
    "df_query = pd.DataFrame([query],columns=query.keys())"
   ]
  },
  {
   "cell_type": "code",
   "execution_count": 30,
   "metadata": {},
   "outputs": [
    {
     "data": {
      "text/plain": [
       "array([[9.99831890e-01, 1.68109773e-04]])"
      ]
     },
     "execution_count": 30,
     "metadata": {},
     "output_type": "execute_result"
    }
   ],
   "source": [
    "scorecard.predict_proba(df_query)"
   ]
  },
  {
   "cell_type": "markdown",
   "metadata": {},
   "source": [
    "Initially, the probability of the query is close to 0. When ``outcome_type=\"probability\"``, at least an additional constraint must be provided. The supported constraints are:\n",
    "\n",
    "- soft constraints: \"diff_outcome\".\n",
    "- hard constraints: \"min_outcome\" and \"max_outcome\".\n",
    "\n",
    "In this first try, we aim to obtain a counterfactual with an outcome probability as close as possible to 0.7. The weighted approach is used, assigning unit weights to all objectives."
   ]
  },
  {
   "cell_type": "code",
   "execution_count": 31,
   "metadata": {},
   "outputs": [
    {
     "data": {
      "text/html": [
       "<div>\n",
       "<style scoped>\n",
       "    .dataframe tbody tr th:only-of-type {\n",
       "        vertical-align: middle;\n",
       "    }\n",
       "\n",
       "    .dataframe tbody tr th {\n",
       "        vertical-align: top;\n",
       "    }\n",
       "\n",
       "    .dataframe thead th {\n",
       "        text-align: right;\n",
       "    }\n",
       "</style>\n",
       "<table border=\"1\" class=\"dataframe\">\n",
       "  <thead>\n",
       "    <tr style=\"text-align: right;\">\n",
       "      <th></th>\n",
       "      <th>age</th>\n",
       "      <th>workclass</th>\n",
       "      <th>education</th>\n",
       "      <th>marital-status</th>\n",
       "      <th>occupation</th>\n",
       "      <th>race</th>\n",
       "      <th>sex</th>\n",
       "      <th>hours-per-week</th>\n",
       "      <th>outcome</th>\n",
       "    </tr>\n",
       "  </thead>\n",
       "  <tbody>\n",
       "    <tr>\n",
       "      <th>0</th>\n",
       "      <td>[23.50, 25.50)</td>\n",
       "      <td>-</td>\n",
       "      <td>[ HS-grad]</td>\n",
       "      <td>-</td>\n",
       "      <td>[ ?,  Armed-Forces,  Farming-fishing]</td>\n",
       "      <td>-</td>\n",
       "      <td>-</td>\n",
       "      <td>-</td>\n",
       "      <td>0.007168</td>\n",
       "    </tr>\n",
       "    <tr>\n",
       "      <th>0</th>\n",
       "      <td>[23.50, 25.50)</td>\n",
       "      <td>[ Private]</td>\n",
       "      <td>[ HS-grad]</td>\n",
       "      <td>-</td>\n",
       "      <td>[ ?,  Armed-Forces,  Farming-fishing]</td>\n",
       "      <td>-</td>\n",
       "      <td>-</td>\n",
       "      <td>-</td>\n",
       "      <td>0.007168</td>\n",
       "    </tr>\n",
       "  </tbody>\n",
       "</table>\n",
       "</div>"
      ],
      "text/plain": [
       "              age   workclass   education marital-status  \\\n",
       "0  [23.50, 25.50)           -  [ HS-grad]              -   \n",
       "0  [23.50, 25.50)  [ Private]  [ HS-grad]              -   \n",
       "\n",
       "                              occupation race sex hours-per-week   outcome  \n",
       "0  [ ?,  Armed-Forces,  Farming-fishing]    -   -              -  0.007168  \n",
       "0  [ ?,  Armed-Forces,  Farming-fishing]    -   -              -  0.007168  "
      ]
     },
     "execution_count": 31,
     "metadata": {},
     "output_type": "execute_result"
    }
   ],
   "source": [
    "cf.generate(query=df_query, y=0.7, outcome_type=\"probability\", n_cf=2, max_changes=4,\n",
    "            hard_constraints=[\"diversity_features\"],\n",
    "            soft_constraints={\"diff_outcome\": 1},\n",
    "            ).display(show_only_changes=True, show_outcome=True)"
   ]
  },
  {
   "cell_type": "markdown",
   "metadata": {},
   "source": [
    "A weight=1 is not large enough given the rest of the objective values. A workaround might be to increase the corresponding weight."
   ]
  },
  {
   "cell_type": "code",
   "execution_count": 32,
   "metadata": {},
   "outputs": [
    {
     "data": {
      "text/html": [
       "<div>\n",
       "<style scoped>\n",
       "    .dataframe tbody tr th:only-of-type {\n",
       "        vertical-align: middle;\n",
       "    }\n",
       "\n",
       "    .dataframe tbody tr th {\n",
       "        vertical-align: top;\n",
       "    }\n",
       "\n",
       "    .dataframe thead th {\n",
       "        text-align: right;\n",
       "    }\n",
       "</style>\n",
       "<table border=\"1\" class=\"dataframe\">\n",
       "  <thead>\n",
       "    <tr style=\"text-align: right;\">\n",
       "      <th></th>\n",
       "      <th>age</th>\n",
       "      <th>workclass</th>\n",
       "      <th>education</th>\n",
       "      <th>marital-status</th>\n",
       "      <th>occupation</th>\n",
       "      <th>race</th>\n",
       "      <th>sex</th>\n",
       "      <th>hours-per-week</th>\n",
       "      <th>outcome</th>\n",
       "    </tr>\n",
       "  </thead>\n",
       "  <tbody>\n",
       "    <tr>\n",
       "      <th>0</th>\n",
       "      <td>[40.50, 43.50)</td>\n",
       "      <td>-</td>\n",
       "      <td>[ Masters,  Prof-school,  Doctorate]</td>\n",
       "      <td>[ Married-AF-spouse,  Married-civ-spouse]</td>\n",
       "      <td>-</td>\n",
       "      <td>-</td>\n",
       "      <td>-</td>\n",
       "      <td>[34.50, 39.50)</td>\n",
       "      <td>0.697510</td>\n",
       "    </tr>\n",
       "    <tr>\n",
       "      <th>0</th>\n",
       "      <td>[43.50, 49.50)</td>\n",
       "      <td>-</td>\n",
       "      <td>[ Masters,  Prof-school,  Doctorate]</td>\n",
       "      <td>[ Married-AF-spouse,  Married-civ-spouse]</td>\n",
       "      <td>[ ?,  Armed-Forces,  Farming-fishing]</td>\n",
       "      <td>-</td>\n",
       "      <td>-</td>\n",
       "      <td>-</td>\n",
       "      <td>0.702461</td>\n",
       "    </tr>\n",
       "  </tbody>\n",
       "</table>\n",
       "</div>"
      ],
      "text/plain": [
       "              age workclass                             education  \\\n",
       "0  [40.50, 43.50)         -  [ Masters,  Prof-school,  Doctorate]   \n",
       "0  [43.50, 49.50)         -  [ Masters,  Prof-school,  Doctorate]   \n",
       "\n",
       "                              marital-status  \\\n",
       "0  [ Married-AF-spouse,  Married-civ-spouse]   \n",
       "0  [ Married-AF-spouse,  Married-civ-spouse]   \n",
       "\n",
       "                              occupation race sex  hours-per-week   outcome  \n",
       "0                                      -    -   -  [34.50, 39.50)  0.697510  \n",
       "0  [ ?,  Armed-Forces,  Farming-fishing]    -   -               -  0.702461  "
      ]
     },
     "execution_count": 32,
     "metadata": {},
     "output_type": "execute_result"
    }
   ],
   "source": [
    "cf.generate(query=df_query, y=0.7, outcome_type=\"probability\", n_cf=2, max_changes=4,\n",
    "            hard_constraints=[\"diversity_features\"],\n",
    "            soft_constraints={\"diff_outcome\": 100}\n",
    "           ).display(show_only_changes=True, show_outcome=True)"
   ]
  },
  {
   "cell_type": "code",
   "execution_count": 33,
   "metadata": {},
   "outputs": [
    {
     "name": "stdout",
     "output_type": "stream",
     "text": [
      "optbinning (Version 0.19.0)\n",
      "Copyright (c) 2019-2024 Guillermo Navas-Palencia, Apache License 2.0\n",
      "\n",
      "  Status  : OPTIMAL                         \n",
      "\n",
      "  Solver statistics\n",
      "    Type                                 mip\n",
      "    Number of variables                  521\n",
      "    Number of constraints                311\n",
      "    Objective value                  32.4569\n",
      "    Best objective bound             32.4569\n",
      "\n",
      "  Objectives\n",
      "    proximity                         9.1380\n",
      "    closeness                        22.6536\n",
      "    diff_outcome                      0.0067\n",
      "\n",
      "  Timing\n",
      "    Total time                          2.35 sec\n",
      "    Fit                                 0.13 sec   (  5.70%)\n",
      "    Solver                              2.20 sec   ( 93.57%)\n",
      "    Post-processing                     0.02 sec   (  0.78%)\n",
      "\n"
     ]
    }
   ],
   "source": [
    "cf.information()"
   ]
  },
  {
   "cell_type": "markdown",
   "metadata": {},
   "source": [
    "We might, however, want to guarantee a minimum probability outcome of 0.7. To do so, we add the hard constraint \"min_outcome\"."
   ]
  },
  {
   "cell_type": "code",
   "execution_count": 34,
   "metadata": {},
   "outputs": [
    {
     "data": {
      "text/html": [
       "<div>\n",
       "<style scoped>\n",
       "    .dataframe tbody tr th:only-of-type {\n",
       "        vertical-align: middle;\n",
       "    }\n",
       "\n",
       "    .dataframe tbody tr th {\n",
       "        vertical-align: top;\n",
       "    }\n",
       "\n",
       "    .dataframe thead th {\n",
       "        text-align: right;\n",
       "    }\n",
       "</style>\n",
       "<table border=\"1\" class=\"dataframe\">\n",
       "  <thead>\n",
       "    <tr style=\"text-align: right;\">\n",
       "      <th></th>\n",
       "      <th>age</th>\n",
       "      <th>workclass</th>\n",
       "      <th>education</th>\n",
       "      <th>marital-status</th>\n",
       "      <th>occupation</th>\n",
       "      <th>race</th>\n",
       "      <th>sex</th>\n",
       "      <th>hours-per-week</th>\n",
       "      <th>outcome</th>\n",
       "    </tr>\n",
       "  </thead>\n",
       "  <tbody>\n",
       "    <tr>\n",
       "      <th>0</th>\n",
       "      <td>[49.50, 54.50)</td>\n",
       "      <td>-</td>\n",
       "      <td>[ Masters,  Prof-school,  Doctorate]</td>\n",
       "      <td>[ Married-AF-spouse,  Married-civ-spouse]</td>\n",
       "      <td>-</td>\n",
       "      <td>-</td>\n",
       "      <td>-</td>\n",
       "      <td>[34.50, 39.50)</td>\n",
       "      <td>0.733405</td>\n",
       "    </tr>\n",
       "    <tr>\n",
       "      <th>0</th>\n",
       "      <td>[49.50, 54.50)</td>\n",
       "      <td>-</td>\n",
       "      <td>[ Masters,  Prof-school,  Doctorate]</td>\n",
       "      <td>[ Married-AF-spouse,  Married-civ-spouse]</td>\n",
       "      <td>[ ?,  Armed-Forces,  Farming-fishing]</td>\n",
       "      <td>-</td>\n",
       "      <td>-</td>\n",
       "      <td>-</td>\n",
       "      <td>0.715094</td>\n",
       "    </tr>\n",
       "  </tbody>\n",
       "</table>\n",
       "</div>"
      ],
      "text/plain": [
       "              age workclass                             education  \\\n",
       "0  [49.50, 54.50)         -  [ Masters,  Prof-school,  Doctorate]   \n",
       "0  [49.50, 54.50)         -  [ Masters,  Prof-school,  Doctorate]   \n",
       "\n",
       "                              marital-status  \\\n",
       "0  [ Married-AF-spouse,  Married-civ-spouse]   \n",
       "0  [ Married-AF-spouse,  Married-civ-spouse]   \n",
       "\n",
       "                              occupation race sex  hours-per-week   outcome  \n",
       "0                                      -    -   -  [34.50, 39.50)  0.733405  \n",
       "0  [ ?,  Armed-Forces,  Farming-fishing]    -   -               -  0.715094  "
      ]
     },
     "execution_count": 34,
     "metadata": {},
     "output_type": "execute_result"
    }
   ],
   "source": [
    "cf.generate(query=df_query, y=0.7, outcome_type=\"probability\", n_cf=2, max_changes=4,\n",
    "            hard_constraints=[\"diversity_features\", \"min_outcome\"]\n",
    "           ).display(show_only_changes=True, show_outcome=True)"
   ]
  },
  {
   "cell_type": "code",
   "execution_count": 35,
   "metadata": {},
   "outputs": [
    {
     "name": "stdout",
     "output_type": "stream",
     "text": [
      "optbinning (Version 0.19.0)\n",
      "Copyright (c) 2019-2024 Guillermo Navas-Palencia, Apache License 2.0\n",
      "\n",
      "  Status  : OPTIMAL                         \n",
      "\n",
      "  Solver statistics\n",
      "    Type                                 mip\n",
      "    Number of variables                  521\n",
      "    Number of constraints                311\n",
      "    Objective value                  31.7672\n",
      "    Best objective bound             31.7672\n",
      "\n",
      "  Objectives\n",
      "    proximity                         9.2342\n",
      "    closeness                        22.5330\n",
      "\n",
      "  Timing\n",
      "    Total time                          1.87 sec\n",
      "    Fit                                 0.13 sec   (  7.17%)\n",
      "    Solver                              1.72 sec   ( 92.16%)\n",
      "    Post-processing                     0.01 sec   (  0.72%)\n",
      "\n"
     ]
    }
   ],
   "source": [
    "cf.information()"
   ]
  },
  {
   "cell_type": "markdown",
   "metadata": {},
   "source": [
    "Moreover, it is possible to combine the previous constraints with diversity constraints."
   ]
  },
  {
   "cell_type": "code",
   "execution_count": 36,
   "metadata": {},
   "outputs": [
    {
     "data": {
      "text/html": [
       "<div>\n",
       "<style scoped>\n",
       "    .dataframe tbody tr th:only-of-type {\n",
       "        vertical-align: middle;\n",
       "    }\n",
       "\n",
       "    .dataframe tbody tr th {\n",
       "        vertical-align: top;\n",
       "    }\n",
       "\n",
       "    .dataframe thead th {\n",
       "        text-align: right;\n",
       "    }\n",
       "</style>\n",
       "<table border=\"1\" class=\"dataframe\">\n",
       "  <thead>\n",
       "    <tr style=\"text-align: right;\">\n",
       "      <th></th>\n",
       "      <th>age</th>\n",
       "      <th>workclass</th>\n",
       "      <th>education</th>\n",
       "      <th>marital-status</th>\n",
       "      <th>occupation</th>\n",
       "      <th>race</th>\n",
       "      <th>sex</th>\n",
       "      <th>hours-per-week</th>\n",
       "      <th>outcome</th>\n",
       "    </tr>\n",
       "  </thead>\n",
       "  <tbody>\n",
       "    <tr>\n",
       "      <th>0</th>\n",
       "      <td>[49.50, 54.50)</td>\n",
       "      <td>-</td>\n",
       "      <td>[ Bachelors]</td>\n",
       "      <td>[ Married-AF-spouse,  Married-civ-spouse]</td>\n",
       "      <td>-</td>\n",
       "      <td>-</td>\n",
       "      <td>-</td>\n",
       "      <td>[55.50, inf)</td>\n",
       "      <td>0.735013</td>\n",
       "    </tr>\n",
       "    <tr>\n",
       "      <th>0</th>\n",
       "      <td>[43.50, 49.50)</td>\n",
       "      <td>-</td>\n",
       "      <td>[ Masters,  Prof-school,  Doctorate]</td>\n",
       "      <td>[ Married-AF-spouse,  Married-civ-spouse]</td>\n",
       "      <td>[ Machine-op-inspct]</td>\n",
       "      <td>-</td>\n",
       "      <td>-</td>\n",
       "      <td>-</td>\n",
       "      <td>0.719537</td>\n",
       "    </tr>\n",
       "  </tbody>\n",
       "</table>\n",
       "</div>"
      ],
      "text/plain": [
       "              age workclass                             education  \\\n",
       "0  [49.50, 54.50)         -                          [ Bachelors]   \n",
       "0  [43.50, 49.50)         -  [ Masters,  Prof-school,  Doctorate]   \n",
       "\n",
       "                              marital-status            occupation race sex  \\\n",
       "0  [ Married-AF-spouse,  Married-civ-spouse]                     -    -   -   \n",
       "0  [ Married-AF-spouse,  Married-civ-spouse]  [ Machine-op-inspct]    -   -   \n",
       "\n",
       "  hours-per-week   outcome  \n",
       "0   [55.50, inf)  0.735013  \n",
       "0              -  0.719537  "
      ]
     },
     "execution_count": 36,
     "metadata": {},
     "output_type": "execute_result"
    }
   ],
   "source": [
    "cf.generate(query=df_query, y=0.7, outcome_type=\"probability\", n_cf=2,\n",
    "            max_changes=4, method=\"hierarchical\",\n",
    "            objectives={\"proximity\": 2, \"closeness\": 1},\n",
    "            hard_constraints=[\"min_outcome\"],\n",
    "            soft_constraints={\"diversity_features\": 2, \"diversity_values\": 1}\n",
    "           ).display(show_only_changes=True, show_outcome=True)"
   ]
  },
  {
   "cell_type": "code",
   "execution_count": 37,
   "metadata": {},
   "outputs": [
    {
     "name": "stdout",
     "output_type": "stream",
     "text": [
      "optbinning (Version 0.19.0)\n",
      "Copyright (c) 2019-2024 Guillermo Navas-Palencia, Apache License 2.0\n",
      "\n",
      "  Status  : OPTIMAL                         \n",
      "\n",
      "  Solver statistics\n",
      "    Type                                 mip\n",
      "    Number of variables                  526\n",
      "    Number of constraints                317\n",
      "    Objective value                  -6.0000\n",
      "    Best objective bound             -6.0000\n",
      "\n",
      "  Objectives\n",
      "    proximity                         9.9758\n",
      "    diversity_features                2.0000\n",
      "    closeness                        23.2287\n",
      "    diversity_values                  6.0000\n",
      "\n",
      "  Timing\n",
      "    Total time                          5.59 sec\n",
      "    Fit                                 0.13 sec   (  2.39%)\n",
      "    Solver                              5.45 sec   ( 97.37%)\n",
      "    Post-processing                     0.01 sec   (  0.24%)\n",
      "\n"
     ]
    }
   ],
   "source": [
    "cf.information()"
   ]
  },
  {
   "cell_type": "markdown",
   "metadata": {},
   "source": [
    "#### Special and missing bins"
   ]
  },
  {
   "cell_type": "markdown",
   "metadata": {},
   "source": [
    "The scorecard models might have bins for special and missing values. The parameter ``special_missing`` permits including these bins as feasible solutions for the generation of counterfactual explanations."
   ]
  },
  {
   "cell_type": "code",
   "execution_count": 38,
   "metadata": {},
   "outputs": [],
   "source": [
    "cf = Counterfactual(scorecard=scorecard, special_missing=True)"
   ]
  },
  {
   "cell_type": "code",
   "execution_count": 39,
   "metadata": {},
   "outputs": [
    {
     "data": {
      "text/plain": [
       "Counterfactual(scorecard=Scorecard(binning_process=BinningProcess(variable_names=['age',\n",
       "                                                                                  'workclass',\n",
       "                                                                                  'education',\n",
       "                                                                                  'marital-status',\n",
       "                                                                                  'occupation',\n",
       "                                                                                  'race',\n",
       "                                                                                  'sex',\n",
       "                                                                                  'hours-per-week']),\n",
       "                                   estimator=LogisticRegression(class_weight='balanced'),\n",
       "                                   scaling_method='min_max',\n",
       "                                   scaling_method_params={'max': 850,\n",
       "                                                          'min': 300}),\n",
       "               special_missing=True)"
      ]
     },
     "execution_count": 39,
     "metadata": {},
     "output_type": "execute_result"
    }
   ],
   "source": [
    "cf.fit(X)"
   ]
  },
  {
   "cell_type": "code",
   "execution_count": 40,
   "metadata": {},
   "outputs": [
    {
     "data": {
      "text/html": [
       "<div>\n",
       "<style scoped>\n",
       "    .dataframe tbody tr th:only-of-type {\n",
       "        vertical-align: middle;\n",
       "    }\n",
       "\n",
       "    .dataframe tbody tr th {\n",
       "        vertical-align: top;\n",
       "    }\n",
       "\n",
       "    .dataframe thead th {\n",
       "        text-align: right;\n",
       "    }\n",
       "</style>\n",
       "<table border=\"1\" class=\"dataframe\">\n",
       "  <thead>\n",
       "    <tr style=\"text-align: right;\">\n",
       "      <th></th>\n",
       "      <th>age</th>\n",
       "      <th>workclass</th>\n",
       "      <th>education</th>\n",
       "      <th>marital-status</th>\n",
       "      <th>occupation</th>\n",
       "      <th>race</th>\n",
       "      <th>sex</th>\n",
       "      <th>hours-per-week</th>\n",
       "    </tr>\n",
       "  </thead>\n",
       "  <tbody>\n",
       "    <tr>\n",
       "      <th>0</th>\n",
       "      <td>[49.50, 54.50)</td>\n",
       "      <td>-</td>\n",
       "      <td>[ Assoc-acdm,  Assoc-voc]</td>\n",
       "      <td>[ Married-AF-spouse,  Married-civ-spouse]</td>\n",
       "      <td>-</td>\n",
       "      <td>-</td>\n",
       "      <td>-</td>\n",
       "      <td>Special</td>\n",
       "    </tr>\n",
       "  </tbody>\n",
       "</table>\n",
       "</div>"
      ],
      "text/plain": [
       "              age workclass                  education  \\\n",
       "0  [49.50, 54.50)         -  [ Assoc-acdm,  Assoc-voc]   \n",
       "\n",
       "                              marital-status occupation race sex  \\\n",
       "0  [ Married-AF-spouse,  Married-civ-spouse]          -    -   -   \n",
       "\n",
       "  hours-per-week  \n",
       "0        Special  "
      ]
     },
     "execution_count": 40,
     "metadata": {},
     "output_type": "execute_result"
    }
   ],
   "source": [
    "cf.generate(query=query, y=1, outcome_type=\"binary\", n_cf=1, max_changes=4\n",
    "           ).display(show_only_changes=True)"
   ]
  }
 ],
 "metadata": {
  "kernelspec": {
   "display_name": "Python 3",
   "language": "python",
   "name": "python3"
  },
  "language_info": {
   "codemirror_mode": {
    "name": "ipython",
    "version": 3
   },
   "file_extension": ".py",
   "mimetype": "text/x-python",
   "name": "python",
   "nbconvert_exporter": "python",
   "pygments_lexer": "ipython3",
   "version": "3.7.4"
  }
 },
 "nbformat": 4,
 "nbformat_minor": 2
}
