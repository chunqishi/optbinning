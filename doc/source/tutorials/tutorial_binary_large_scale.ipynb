{
 "cells": [
  {
   "cell_type": "markdown",
   "metadata": {},
   "source": [
    "# Tutorial: optimal binning with binary target - large scale"
   ]
  },
  {
   "cell_type": "markdown",
   "metadata": {},
   "source": [
    "Continuing with the previous tutorial, version 0.4.0 introduced four new ``monotonic_trend``  options: \"auto_heuristic\", \"auto_asc_desc\", \"peak_heuristic\" and \"valley_heuristic\". These new heuristic options are devised to produce a remarkable speedup for large size instances, at the expense of not guaranteeing optimal solutions (although the optimal solution is found in the majority of cases)."
   ]
  },
  {
   "cell_type": "markdown",
   "metadata": {},
   "source": [
    "Let's start by loading the training data."
   ]
  },
  {
   "cell_type": "code",
   "execution_count": 1,
   "metadata": {},
   "outputs": [],
   "source": [
    "import pandas as pd"
   ]
  },
  {
   "cell_type": "code",
   "execution_count": 2,
   "metadata": {},
   "outputs": [],
   "source": [
    "df = pd.read_csv(\"data/kaggle/HomeCreditDefaultRisk/application_train.csv\", engine='c')"
   ]
  },
  {
   "cell_type": "markdown",
   "metadata": {},
   "source": [
    "We choose the same variable to discretize and the binary target."
   ]
  },
  {
   "cell_type": "code",
   "execution_count": 3,
   "metadata": {},
   "outputs": [],
   "source": [
    "variable = \"REGION_POPULATION_RELATIVE\"\n",
    "x = df[variable].values\n",
    "y = df.TARGET.values"
   ]
  },
  {
   "cell_type": "code",
   "execution_count": 4,
   "metadata": {},
   "outputs": [],
   "source": [
    "from optbinning import OptimalBinning"
   ]
  },
  {
   "cell_type": "markdown",
   "metadata": {},
   "source": [
    "We use the same options to generate a granular binning, and fit the optimal binning with ``monotonic_trend=\"auto\"``."
   ]
  },
  {
   "cell_type": "code",
   "execution_count": 5,
   "metadata": {},
   "outputs": [],
   "source": [
    "optb = OptimalBinning(name=variable, dtype=\"numerical\", solver=\"cp\",\n",
    "                      monotonic_trend=\"auto\", max_n_prebins=100,\n",
    "                      min_prebin_size=0.001, time_limit=200)"
   ]
  },
  {
   "cell_type": "code",
   "execution_count": 6,
   "metadata": {},
   "outputs": [
    {
     "data": {
      "text/plain": [
       "OptimalBinning(max_n_prebins=100, min_prebin_size=0.001,\n",
       "               name='REGION_POPULATION_RELATIVE', time_limit=200)"
      ]
     },
     "execution_count": 6,
     "metadata": {},
     "output_type": "execute_result"
    }
   ],
   "source": [
    "optb.fit(x, y)"
   ]
  },
  {
   "cell_type": "code",
   "execution_count": 7,
   "metadata": {},
   "outputs": [
    {
     "data": {
      "text/plain": [
       "'OPTIMAL'"
      ]
     },
     "execution_count": 7,
     "metadata": {},
     "output_type": "execute_result"
    }
   ],
   "source": [
    "optb.status"
   ]
  },
  {
   "cell_type": "code",
   "execution_count": 8,
   "metadata": {},
   "outputs": [
    {
     "name": "stdout",
     "output_type": "stream",
     "text": [
      "optbinning (Version 0.19.0)\n",
      "Copyright (c) 2019-2024 Guillermo Navas-Palencia, Apache License 2.0\n",
      "\n",
      "  Name    : REGION_POPULATION_RELATIVE      \n",
      "  Status  : OPTIMAL                         \n",
      "\n",
      "  Pre-binning statistics\n",
      "    Number of pre-bins                    77\n",
      "    Number of refinements                  0\n",
      "\n",
      "  Solver statistics\n",
      "    Type                                  cp\n",
      "    Number of booleans                  3148\n",
      "    Number of branches                131879\n",
      "    Number of conflicts                34480\n",
      "    Objective value                    37758\n",
      "    Best objective bound               37758\n",
      "\n",
      "  Timing\n",
      "    Total time                        145.75 sec\n",
      "    Pre-processing                      0.02 sec   (  0.02%)\n",
      "    Pre-binning                         0.47 sec   (  0.32%)\n",
      "    Solver                            145.25 sec   ( 99.66%)\n",
      "      model generation                 25.35 sec   ( 17.45%)\n",
      "      optimizer                       119.90 sec   ( 82.55%)\n",
      "    Post-processing                     0.00 sec   (  0.00%)\n",
      "\n"
     ]
    }
   ],
   "source": [
    "optb.information(print_level=1)"
   ]
  },
  {
   "cell_type": "code",
   "execution_count": 9,
   "metadata": {},
   "outputs": [
    {
     "name": "stdout",
     "output_type": "stream",
     "text": [
      "---------------------------------------------\n",
      "OptimalBinning: Binary Binning Table Analysis\n",
      "---------------------------------------------\n",
      "\n",
      "  General metrics\n",
      "\n",
      "    Gini index               0.08180326\n",
      "    IV (Jeffrey)             0.03776231\n",
      "    JS (Jensen-Shannon)      0.00465074\n",
      "    Hellinger                0.00468508\n",
      "    Triangular               0.01833822\n",
      "    KS                       0.06087208\n",
      "    HHI                      0.23425608\n",
      "    HHI (normalized)         0.16464300\n",
      "    Cramer's V               0.05102627\n",
      "    Quality score            0.06257516\n",
      "\n",
      "  Monotonic trend                  peak\n",
      "\n",
      "  Significance tests\n",
      "\n",
      "    Bin A  Bin B  t-statistic      p-value      P[A > B]     P[B > A]\n",
      "        0      1     1.445262 2.292897e-01  1.013041e-01 8.986959e-01\n",
      "        1      2   158.939080 1.929529e-36 1.179082e-218 1.000000e+00\n",
      "        2      3   131.200666 2.238000e-30  1.000000e+00 1.110223e-16\n",
      "        3      4     0.878638 3.485750e-01  8.240457e-01 1.759543e-01\n",
      "        4      5    14.925402 1.118468e-04  9.999989e-01 1.123668e-06\n",
      "        5      6     3.969732 4.632513e-02  9.768847e-01 2.311530e-02\n",
      "        6      7    40.662233 1.809509e-10  1.000000e+00 3.330669e-16\n",
      "        7      8    29.296187 6.211781e-08  1.000000e+00 4.795264e-11\n",
      "        8      9    10.992632 9.147483e-04  9.997649e-01 2.351244e-04\n",
      "\n"
     ]
    }
   ],
   "source": [
    "binning_table = optb.binning_table\n",
    "binning_table.build()\n",
    "binning_table.analysis()"
   ]
  },
  {
   "cell_type": "code",
   "execution_count": 10,
   "metadata": {},
   "outputs": [
    {
     "data": {
      "image/png": "[encoded data removed]",
      "text/plain": [
       "<Figure size 432x288 with 2 Axes>"
      ]
     },
     "metadata": {
      "needs_background": "light"
     },
     "output_type": "display_data"
    }
   ],
   "source": [
    "binning_table.plot(metric=\"event_rate\")"
   ]
  },
  {
   "cell_type": "markdown",
   "metadata": {},
   "source": [
    "This is a large combinatorial problem, and it took roughly 150 seconds... but we can try the ``monotonic_trend=\"auto_heuristic\"`` to accelerate the solution process"
   ]
  },
  {
   "cell_type": "code",
   "execution_count": 11,
   "metadata": {},
   "outputs": [],
   "source": [
    "optb_auto = OptimalBinning(name=variable, dtype=\"numerical\", solver=\"cp\",\n",
    "                           monotonic_trend=\"auto_heuristic\", max_n_prebins=100,\n",
    "                           min_prebin_size=0.001, time_limit=200)"
   ]
  },
  {
   "cell_type": "code",
   "execution_count": 12,
   "metadata": {},
   "outputs": [
    {
     "data": {
      "text/plain": [
       "OptimalBinning(max_n_prebins=100, min_prebin_size=0.001,\n",
       "               monotonic_trend='auto_heuristic',\n",
       "               name='REGION_POPULATION_RELATIVE', time_limit=200)"
      ]
     },
     "execution_count": 12,
     "metadata": {},
     "output_type": "execute_result"
    }
   ],
   "source": [
    "optb_auto.fit(x, y)"
   ]
  },
  {
   "cell_type": "code",
   "execution_count": 13,
   "metadata": {},
   "outputs": [
    {
     "data": {
      "text/plain": [
       "'OPTIMAL'"
      ]
     },
     "execution_count": 13,
     "metadata": {},
     "output_type": "execute_result"
    }
   ],
   "source": [
    "optb_auto.status"
   ]
  },
  {
   "cell_type": "code",
   "execution_count": 14,
   "metadata": {},
   "outputs": [
    {
     "name": "stdout",
     "output_type": "stream",
     "text": [
      "optbinning (Version 0.19.0)\n",
      "Copyright (c) 2019-2024 Guillermo Navas-Palencia, Apache License 2.0\n",
      "\n",
      "  Name    : REGION_POPULATION_RELATIVE      \n",
      "  Status  : OPTIMAL                         \n",
      "\n",
      "  Pre-binning statistics\n",
      "    Number of pre-bins                    77\n",
      "    Number of refinements                  0\n",
      "\n",
      "  Solver statistics\n",
      "    Type                                  cp\n",
      "    Number of booleans                   424\n",
      "    Number of branches                   872\n",
      "    Number of conflicts                    8\n",
      "    Objective value                    37758\n",
      "    Best objective bound               37758\n",
      "\n",
      "  Timing\n",
      "    Total time                          9.79 sec\n",
      "    Pre-processing                      0.00 sec   (  0.04%)\n",
      "    Pre-binning                         0.46 sec   (  4.69%)\n",
      "    Solver                              9.32 sec   ( 95.22%)\n",
      "      model generation                  8.63 sec   ( 92.60%)\n",
      "      optimizer                         0.69 sec   (  7.40%)\n",
      "    Post-processing                     0.00 sec   (  0.01%)\n",
      "\n"
     ]
    }
   ],
   "source": [
    "optb_auto.information(print_level=1)"
   ]
  },
  {
   "cell_type": "code",
   "execution_count": 15,
   "metadata": {},
   "outputs": [
    {
     "name": "stdout",
     "output_type": "stream",
     "text": [
      "---------------------------------------------\n",
      "OptimalBinning: Binary Binning Table Analysis\n",
      "---------------------------------------------\n",
      "\n",
      "  General metrics\n",
      "\n",
      "    Gini index               0.08180326\n",
      "    IV (Jeffrey)             0.03776231\n",
      "    JS (Jensen-Shannon)      0.00465074\n",
      "    Hellinger                0.00468508\n",
      "    Triangular               0.01833822\n",
      "    KS                       0.06087208\n",
      "    HHI                      0.23425608\n",
      "    HHI (normalized)         0.16464300\n",
      "    Cramer's V               0.05102627\n",
      "    Quality score            0.06257516\n",
      "\n",
      "  Monotonic trend                  peak\n",
      "\n",
      "  Significance tests\n",
      "\n",
      "    Bin A  Bin B  t-statistic      p-value      P[A > B]     P[B > A]\n",
      "        0      1     1.445262 2.292897e-01  1.013041e-01 8.986959e-01\n",
      "        1      2   158.939080 1.929529e-36 1.179082e-218 1.000000e+00\n",
      "        2      3   131.200666 2.238000e-30  1.000000e+00 1.110223e-16\n",
      "        3      4     0.878638 3.485750e-01  8.240457e-01 1.759543e-01\n",
      "        4      5    14.925402 1.118468e-04  9.999989e-01 1.123668e-06\n",
      "        5      6     3.969732 4.632513e-02  9.768847e-01 2.311530e-02\n",
      "        6      7    40.662233 1.809509e-10  1.000000e+00 3.330669e-16\n",
      "        7      8    29.296187 6.211781e-08  1.000000e+00 4.795264e-11\n",
      "        8      9    10.992632 9.147483e-04  9.997649e-01 2.351244e-04\n",
      "\n"
     ]
    }
   ],
   "source": [
    "binning_table = optb_auto.binning_table\n",
    "binning_table.build()\n",
    "binning_table.analysis()"
   ]
  },
  {
   "cell_type": "code",
   "execution_count": 16,
   "metadata": {
    "scrolled": true
   },
   "outputs": [
    {
     "data": {
      "image/png": "[encoded data removed]",
      "text/plain": [
       "<Figure size 432x288 with 2 Axes>"
      ]
     },
     "metadata": {
      "needs_background": "light"
     },
     "output_type": "display_data"
    }
   ],
   "source": [
    "binning_table.plot(metric=\"event_rate\")"
   ]
  },
  {
   "cell_type": "markdown",
   "metadata": {},
   "source": [
    "For this example, we found the optimal solution with an overall **16x** speedup, where optimization time is reduced by **99%!!**"
   ]
  }
 ],
 "metadata": {
  "kernelspec": {
   "display_name": "Python 3",
   "language": "python",
   "name": "python3"
  },
  "language_info": {
   "codemirror_mode": {
    "name": "ipython",
    "version": 3
   },
   "file_extension": ".py",
   "mimetype": "text/x-python",
   "name": "python",
   "nbconvert_exporter": "python",
   "pygments_lexer": "ipython3",
   "version": "3.7.4"
  }
 },
 "nbformat": 4,
 "nbformat_minor": 2
}
