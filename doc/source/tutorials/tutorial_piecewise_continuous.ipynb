{
 "cells": [
  {
   "cell_type": "markdown",
   "metadata": {},
   "source": [
    "# Tutorial: optimal piecewise binning with continuous target"
   ]
  },
  {
   "cell_type": "markdown",
   "metadata": {},
   "source": [
    "## Basic"
   ]
  },
  {
   "cell_type": "markdown",
   "metadata": {},
   "source": [
    "To get us started, let's load a well-known dataset from the UCI repository and transform the data into a ``pandas.DataFrame``."
   ]
  },
  {
   "cell_type": "code",
   "execution_count": 1,
   "metadata": {},
   "outputs": [],
   "source": [
    "import pandas as pd\n",
    "from tests.datasets import load_boston"
   ]
  },
  {
   "cell_type": "code",
   "execution_count": 2,
   "metadata": {},
   "outputs": [],
   "source": [
    "data = load_boston()\n",
    "df = pd.DataFrame(data.data, columns=data.feature_names)"
   ]
  },
  {
   "cell_type": "markdown",
   "metadata": {},
   "source": [
    "We choose a variable to discretize and the continuous target."
   ]
  },
  {
   "cell_type": "code",
   "execution_count": 3,
   "metadata": {},
   "outputs": [],
   "source": [
    "variable = \"LSTAT\"\n",
    "x = df[variable].values\n",
    "y = data.target"
   ]
  },
  {
   "cell_type": "markdown",
   "metadata": {},
   "source": [
    "Import and instantiate an ``ContinuousOptimalPWBinning`` object class and we pass the variable name. The ``ContinuousOptimalPWBinning`` can **ONLY** handle numerical variables. This differs from the ``ContinuousOptimalBinning`` object class."
   ]
  },
  {
   "cell_type": "code",
   "execution_count": 4,
   "metadata": {},
   "outputs": [],
   "source": [
    "from optbinning import ContinuousOptimalPWBinning"
   ]
  },
  {
   "cell_type": "code",
   "execution_count": 5,
   "metadata": {},
   "outputs": [],
   "source": [
    "optb = ContinuousOptimalPWBinning(name=variable)"
   ]
  },
  {
   "cell_type": "markdown",
   "metadata": {},
   "source": [
    "We fit the optimal binning object with arrays ``x`` and ``y``."
   ]
  },
  {
   "cell_type": "code",
   "execution_count": 6,
   "metadata": {},
   "outputs": [
    {
     "data": {
      "text/plain": [
       "ContinuousOptimalPWBinning(name='LSTAT')"
      ]
     },
     "execution_count": 6,
     "metadata": {},
     "output_type": "execute_result"
    }
   ],
   "source": [
    "optb.fit(x, y)"
   ]
  },
  {
   "cell_type": "markdown",
   "metadata": {},
   "source": [
    "You can check if an optimal solution has been found via the ``status`` attribute:"
   ]
  },
  {
   "cell_type": "code",
   "execution_count": 7,
   "metadata": {},
   "outputs": [
    {
     "data": {
      "text/plain": [
       "'OPTIMAL'"
      ]
     },
     "execution_count": 7,
     "metadata": {},
     "output_type": "execute_result"
    }
   ],
   "source": [
    "optb.status"
   ]
  },
  {
   "cell_type": "markdown",
   "metadata": {},
   "source": [
    "You can also retrieve the optimal split points via the ``splits`` attribute:"
   ]
  },
  {
   "cell_type": "code",
   "execution_count": 8,
   "metadata": {},
   "outputs": [
    {
     "data": {
      "text/plain": [
       "array([ 4.6500001 ,  5.49499989,  6.86500001,  9.7249999 , 13.0999999 ,\n",
       "       14.4000001 , 17.23999977, 19.89999962, 23.31500053])"
      ]
     },
     "execution_count": 8,
     "metadata": {},
     "output_type": "execute_result"
    }
   ],
   "source": [
    "optb.splits"
   ]
  },
  {
   "cell_type": "markdown",
   "metadata": {},
   "source": [
    "#### The binning table"
   ]
  },
  {
   "cell_type": "markdown",
   "metadata": {},
   "source": [
    "The optimal binning algorithms return a binning table; a binning table displays the binned data and several metrics for each bin. Class ``ContinuousOptimalPWBinning`` returns an object ``PWContinuousBinningTable`` via the ``binning_table`` attribute."
   ]
  },
  {
   "cell_type": "code",
   "execution_count": 9,
   "metadata": {},
   "outputs": [],
   "source": [
    "binning_table = optb.binning_table"
   ]
  },
  {
   "cell_type": "code",
   "execution_count": 10,
   "metadata": {},
   "outputs": [
    {
     "data": {
      "text/plain": [
       "optbinning.binning.piecewise.binning_statistics.PWContinuousBinningTable"
      ]
     },
     "execution_count": 10,
     "metadata": {},
     "output_type": "execute_result"
    }
   ],
   "source": [
    "type(binning_table)"
   ]
  },
  {
   "cell_type": "markdown",
   "metadata": {},
   "source": [
    "The `binning_table` is instantiated, but not built. Therefore, the first step is to call the method `build`, which returns a ``pandas.DataFrame``."
   ]
  },
  {
   "cell_type": "code",
   "execution_count": 11,
   "metadata": {},
   "outputs": [
    {
     "data": {
      "text/html": [
       "<div>\n",
       "<style scoped>\n",
       "    .dataframe tbody tr th:only-of-type {\n",
       "        vertical-align: middle;\n",
       "    }\n",
       "\n",
       "    .dataframe tbody tr th {\n",
       "        vertical-align: top;\n",
       "    }\n",
       "\n",
       "    .dataframe thead th {\n",
       "        text-align: right;\n",
       "    }\n",
       "</style>\n",
       "<table border=\"1\" class=\"dataframe\">\n",
       "  <thead>\n",
       "    <tr style=\"text-align: right;\">\n",
       "      <th></th>\n",
       "      <th>Bin</th>\n",
       "      <th>Count</th>\n",
       "      <th>Count (%)</th>\n",
       "      <th>Sum</th>\n",
       "      <th>Std</th>\n",
       "      <th>Min</th>\n",
       "      <th>Max</th>\n",
       "      <th>Zeros count</th>\n",
       "      <th>c0</th>\n",
       "      <th>c1</th>\n",
       "    </tr>\n",
       "  </thead>\n",
       "  <tbody>\n",
       "    <tr>\n",
       "      <th>0</th>\n",
       "      <td>(-inf, 4.65)</td>\n",
       "      <td>50.0</td>\n",
       "      <td>0.098814</td>\n",
       "      <td>1985.9</td>\n",
       "      <td>8.198651</td>\n",
       "      <td>22.8</td>\n",
       "      <td>50.0</td>\n",
       "      <td>0</td>\n",
       "      <td>56.744157</td>\n",
       "      <td>-4.821782</td>\n",
       "    </tr>\n",
       "    <tr>\n",
       "      <th>1</th>\n",
       "      <td>[4.65, 5.49)</td>\n",
       "      <td>28.0</td>\n",
       "      <td>0.055336</td>\n",
       "      <td>853.2</td>\n",
       "      <td>6.123541</td>\n",
       "      <td>21.9</td>\n",
       "      <td>50.0</td>\n",
       "      <td>0</td>\n",
       "      <td>74.661294</td>\n",
       "      <td>-8.674929</td>\n",
       "    </tr>\n",
       "    <tr>\n",
       "      <th>2</th>\n",
       "      <td>[5.49, 6.87)</td>\n",
       "      <td>45.0</td>\n",
       "      <td>0.088933</td>\n",
       "      <td>1188.6</td>\n",
       "      <td>5.136259</td>\n",
       "      <td>20.6</td>\n",
       "      <td>48.8</td>\n",
       "      <td>0</td>\n",
       "      <td>26.992559</td>\n",
       "      <td>-0.000000</td>\n",
       "    </tr>\n",
       "    <tr>\n",
       "      <th>3</th>\n",
       "      <td>[6.87, 9.72)</td>\n",
       "      <td>89.0</td>\n",
       "      <td>0.175889</td>\n",
       "      <td>2274.9</td>\n",
       "      <td>6.845250</td>\n",
       "      <td>11.9</td>\n",
       "      <td>50.0</td>\n",
       "      <td>0</td>\n",
       "      <td>36.396429</td>\n",
       "      <td>-1.369828</td>\n",
       "    </tr>\n",
       "    <tr>\n",
       "      <th>4</th>\n",
       "      <td>[9.72, 13.10)</td>\n",
       "      <td>84.0</td>\n",
       "      <td>0.166008</td>\n",
       "      <td>1755.4</td>\n",
       "      <td>2.949979</td>\n",
       "      <td>14.5</td>\n",
       "      <td>31.0</td>\n",
       "      <td>0</td>\n",
       "      <td>31.699081</td>\n",
       "      <td>-0.886810</td>\n",
       "    </tr>\n",
       "    <tr>\n",
       "      <th>5</th>\n",
       "      <td>[13.10, 14.40)</td>\n",
       "      <td>32.0</td>\n",
       "      <td>0.063241</td>\n",
       "      <td>667.4</td>\n",
       "      <td>2.632482</td>\n",
       "      <td>15.0</td>\n",
       "      <td>29.6</td>\n",
       "      <td>0</td>\n",
       "      <td>27.030856</td>\n",
       "      <td>-0.530457</td>\n",
       "    </tr>\n",
       "    <tr>\n",
       "      <th>6</th>\n",
       "      <td>[14.40, 17.24)</td>\n",
       "      <td>60.0</td>\n",
       "      <td>0.118577</td>\n",
       "      <td>1037.5</td>\n",
       "      <td>3.588003</td>\n",
       "      <td>10.2</td>\n",
       "      <td>30.7</td>\n",
       "      <td>0</td>\n",
       "      <td>35.230331</td>\n",
       "      <td>-1.099865</td>\n",
       "    </tr>\n",
       "    <tr>\n",
       "      <th>7</th>\n",
       "      <td>[17.24, 19.90)</td>\n",
       "      <td>43.0</td>\n",
       "      <td>0.084980</td>\n",
       "      <td>714.3</td>\n",
       "      <td>4.032554</td>\n",
       "      <td>8.3</td>\n",
       "      <td>27.5</td>\n",
       "      <td>0</td>\n",
       "      <td>23.261993</td>\n",
       "      <td>-0.405646</td>\n",
       "    </tr>\n",
       "    <tr>\n",
       "      <th>8</th>\n",
       "      <td>[19.90, 23.32)</td>\n",
       "      <td>28.0</td>\n",
       "      <td>0.055336</td>\n",
       "      <td>368.4</td>\n",
       "      <td>3.912839</td>\n",
       "      <td>5.0</td>\n",
       "      <td>21.7</td>\n",
       "      <td>0</td>\n",
       "      <td>33.251552</td>\n",
       "      <td>-0.907634</td>\n",
       "    </tr>\n",
       "    <tr>\n",
       "      <th>9</th>\n",
       "      <td>[23.32, inf)</td>\n",
       "      <td>47.0</td>\n",
       "      <td>0.092885</td>\n",
       "      <td>556.0</td>\n",
       "      <td>4.006586</td>\n",
       "      <td>5.0</td>\n",
       "      <td>23.7</td>\n",
       "      <td>0</td>\n",
       "      <td>13.222398</td>\n",
       "      <td>-0.048567</td>\n",
       "    </tr>\n",
       "    <tr>\n",
       "      <th>10</th>\n",
       "      <td>Special</td>\n",
       "      <td>0.0</td>\n",
       "      <td>0.000000</td>\n",
       "      <td>0.0</td>\n",
       "      <td>None</td>\n",
       "      <td>None</td>\n",
       "      <td>None</td>\n",
       "      <td>0</td>\n",
       "      <td>0.000000</td>\n",
       "      <td>0.000000</td>\n",
       "    </tr>\n",
       "    <tr>\n",
       "      <th>11</th>\n",
       "      <td>Missing</td>\n",
       "      <td>0.0</td>\n",
       "      <td>0.000000</td>\n",
       "      <td>0.0</td>\n",
       "      <td>None</td>\n",
       "      <td>None</td>\n",
       "      <td>None</td>\n",
       "      <td>0</td>\n",
       "      <td>0.000000</td>\n",
       "      <td>0.000000</td>\n",
       "    </tr>\n",
       "    <tr>\n",
       "      <th>Totals</th>\n",
       "      <td></td>\n",
       "      <td>506.0</td>\n",
       "      <td>1.000000</td>\n",
       "      <td>11401.6</td>\n",
       "      <td></td>\n",
       "      <td>5.0</td>\n",
       "      <td>50.0</td>\n",
       "      <td>0</td>\n",
       "      <td>-</td>\n",
       "      <td>-</td>\n",
       "    </tr>\n",
       "  </tbody>\n",
       "</table>\n",
       "</div>"
      ],
      "text/plain": [
       "                   Bin  Count  Count (%)      Sum       Std   Min   Max  \\\n",
       "0         (-inf, 4.65)   50.0   0.098814   1985.9  8.198651  22.8  50.0   \n",
       "1         [4.65, 5.49)   28.0   0.055336    853.2  6.123541  21.9  50.0   \n",
       "2         [5.49, 6.87)   45.0   0.088933   1188.6  5.136259  20.6  48.8   \n",
       "3         [6.87, 9.72)   89.0   0.175889   2274.9  6.845250  11.9  50.0   \n",
       "4        [9.72, 13.10)   84.0   0.166008   1755.4  2.949979  14.5  31.0   \n",
       "5       [13.10, 14.40)   32.0   0.063241    667.4  2.632482  15.0  29.6   \n",
       "6       [14.40, 17.24)   60.0   0.118577   1037.5  3.588003  10.2  30.7   \n",
       "7       [17.24, 19.90)   43.0   0.084980    714.3  4.032554   8.3  27.5   \n",
       "8       [19.90, 23.32)   28.0   0.055336    368.4  3.912839   5.0  21.7   \n",
       "9         [23.32, inf)   47.0   0.092885    556.0  4.006586   5.0  23.7   \n",
       "10             Special    0.0   0.000000      0.0      None  None  None   \n",
       "11             Missing    0.0   0.000000      0.0      None  None  None   \n",
       "Totals                  506.0   1.000000  11401.6             5.0  50.0   \n",
       "\n",
       "        Zeros count         c0        c1  \n",
       "0                 0  56.744157 -4.821782  \n",
       "1                 0  74.661294 -8.674929  \n",
       "2                 0  26.992559 -0.000000  \n",
       "3                 0  36.396429 -1.369828  \n",
       "4                 0  31.699081 -0.886810  \n",
       "5                 0  27.030856 -0.530457  \n",
       "6                 0  35.230331 -1.099865  \n",
       "7                 0  23.261993 -0.405646  \n",
       "8                 0  33.251552 -0.907634  \n",
       "9                 0  13.222398 -0.048567  \n",
       "10                0   0.000000  0.000000  \n",
       "11                0   0.000000  0.000000  \n",
       "Totals            0          -         -  "
      ]
     },
     "execution_count": 11,
     "metadata": {},
     "output_type": "execute_result"
    }
   ],
   "source": [
    "binning_table.build()"
   ]
  },
  {
   "cell_type": "markdown",
   "metadata": {},
   "source": [
    "Let's describe the columns of this binning table:\n",
    "\n",
    "- Bin: the intervals delimited by the optimal split points.\n",
    "- Count: the number of records for each bin.\n",
    "- Count (%): the percentage of records for each bin.\n",
    "- Sum: the target sum for each bin.\n",
    "- Std: the target std for each bin.\n",
    "- Min: the target min value for each bin.\n",
    "- Max: the target max value for each bin.\n",
    "- Zeros count: the number of zeros for each bin.\n",
    "- $c_0$: the first coefficient of the prediction polynomial.\n",
    "- $c_1$: the second coefficient of the prediction polynomial.\n",
    "\n",
    "The  for bin $i$ is defined as $P_i = c_0 + c_1 x_i$, where $x_i \\in \\text{Bin}_{i}$. In general,\n",
    "\\begin{equation}\n",
    "P_i = \\sum_{j=0}^d c_j x_i^j,\n",
    "\\end{equation}\n",
    "where $d$ is the degree of the event rate polynomial.\n",
    "\n",
    "The last row shows the total number of records, sum and mean."
   ]
  },
  {
   "cell_type": "markdown",
   "metadata": {},
   "source": [
    "You can use the method ``plot`` to visualize the histogram and mean curve."
   ]
  },
  {
   "cell_type": "code",
   "execution_count": 12,
   "metadata": {},
   "outputs": [
    {
     "data": {
      "image/png": "[encoded data removed]",
      "text/plain": [
       "<Figure size 432x288 with 2 Axes>"
      ]
     },
     "metadata": {
      "needs_background": "light"
     },
     "output_type": "display_data"
    }
   ],
   "source": [
    "binning_table.plot()"
   ]
  },
  {
   "cell_type": "markdown",
   "metadata": {},
   "source": [
    "##### Mean transformation"
   ]
  },
  {
   "cell_type": "markdown",
   "metadata": {},
   "source": [
    "Now that we have checked the binned data, we can transform our original data into mean values."
   ]
  },
  {
   "cell_type": "code",
   "execution_count": 13,
   "metadata": {},
   "outputs": [],
   "source": [
    "x_transform_mean = optb.transform(x)"
   ]
  },
  {
   "cell_type": "markdown",
   "metadata": {},
   "source": [
    "## Advanced"
   ]
  },
  {
   "cell_type": "markdown",
   "metadata": {},
   "source": [
    "Many of the advanced options have been covered in the previous tutorials with a binary target. **Check it out!** In this section, we focus on the mean monotonicity trend and the mean difference between bins."
   ]
  },
  {
   "cell_type": "markdown",
   "metadata": {},
   "source": [
    "#### Binning table statistical analysis"
   ]
  },
  {
   "cell_type": "markdown",
   "metadata": {},
   "source": [
    "The ``analysis`` method performs a statistical analysis of the binning table, computing the Information Value (IV) and Herfindahl-Hirschman Index (HHI). Additionally, several statistical significance tests between consecutive bins of the contingency table are performed using the Student's t-test. The piecewise binning also includes several performance metrics for regression problems."
   ]
  },
  {
   "cell_type": "code",
   "execution_count": 14,
   "metadata": {},
   "outputs": [
    {
     "name": "stdout",
     "output_type": "stream",
     "text": [
      "-------------------------------------------------\n",
      "OptimalBinning: Continuous Binning Table Analysis\n",
      "-------------------------------------------------\n",
      "\n",
      "  General metrics\n",
      "\n",
      "    Mean absolute error              3.67892091\n",
      "    Mean squared error              26.06425104\n",
      "    Median absolute error            2.71794576\n",
      "    Explained variance               0.69125340\n",
      "    R^2                              0.69125340\n",
      "    MPE                             -0.05221127\n",
      "    MAPE                             0.17785599\n",
      "    SMAPE                            0.08395478\n",
      "    MdAPE                            0.13052555\n",
      "    SMdAPE                           0.06542912\n",
      "    HHI                              0.11620241\n",
      "    HHI (normalized)                 0.03585717\n",
      "    Quality score                    0.01671264\n",
      "\n",
      "  Significance tests\n",
      "\n",
      "    Bin A  Bin B  t-statistic      p-value\n",
      "        0      1     5.644492 3.313748e-07\n",
      "        1      2     2.924528 5.175586e-03\n",
      "        2      3     0.808313 4.206096e-01\n",
      "        3      4     5.874488 3.816654e-08\n",
      "        4      5     0.073112 9.419504e-01\n",
      "        5      6     5.428848 5.770714e-07\n",
      "        6      7     0.883289 3.796030e-01\n",
      "        7      8     3.591859 6.692488e-04\n",
      "        8      9     1.408305 1.643801e-01\n",
      "\n"
     ]
    }
   ],
   "source": [
    "binning_table.analysis()"
   ]
  },
  {
   "cell_type": "code",
   "execution_count": 15,
   "metadata": {},
   "outputs": [
    {
     "name": "stdout",
     "output_type": "stream",
     "text": [
      "-------------------------------------------------\n",
      "OptimalBinning: Continuous Binning Table Analysis\n",
      "-------------------------------------------------\n",
      "\n",
      "  General metrics\n",
      "\n",
      "    Mean absolute error              3.67892091\n",
      "    Mean squared error              26.06425104\n",
      "    Median absolute error            2.71794576\n",
      "    Explained variance               0.69125340\n",
      "    R^2                              0.69125340\n",
      "    MPE                             -0.05221127\n",
      "    MAPE                             0.17785599\n",
      "    SMAPE                            0.08395478\n",
      "    MdAPE                            0.13052555\n",
      "    SMdAPE                           0.06542912\n",
      "    HHI                              0.11620241\n",
      "    HHI (normalized)                 0.03585717\n",
      "    Quality score                    0.01671264\n",
      "\n",
      "  Significance tests\n",
      "\n",
      "    Bin A  Bin B  t-statistic      p-value\n",
      "        0      1     5.644492 3.313748e-07\n",
      "        1      2     2.924528 5.175586e-03\n",
      "        2      3     0.808313 4.206096e-01\n",
      "        3      4     5.874488 3.816654e-08\n",
      "        4      5     0.073112 9.419504e-01\n",
      "        5      6     5.428848 5.770714e-07\n",
      "        6      7     0.883289 3.796030e-01\n",
      "        7      8     3.591859 6.692488e-04\n",
      "        8      9     1.408305 1.643801e-01\n",
      "\n"
     ]
    }
   ],
   "source": [
    "binning_table.analysis()"
   ]
  },
  {
   "cell_type": "markdown",
   "metadata": {},
   "source": [
    "#### Mean monotonicity"
   ]
  },
  {
   "cell_type": "markdown",
   "metadata": {},
   "source": [
    "The monotonic_trend option permits forcing a monotonic trend to the mean curve. The default setting “auto” should be the preferred option, however, some business constraints might require to impose different trends. The default setting “auto” chooses the monotonic trend most likely to minimize the L1-norm from the options “ascending”, “descending”, “peak” and “valley” using a machine-learning-based classifier."
   ]
  },
  {
   "cell_type": "code",
   "execution_count": 16,
   "metadata": {},
   "outputs": [],
   "source": [
    "variable = \"INDUS\"\n",
    "x = df[variable].values\n",
    "y = data.target"
   ]
  },
  {
   "cell_type": "code",
   "execution_count": 17,
   "metadata": {},
   "outputs": [
    {
     "data": {
      "text/plain": [
       "ContinuousOptimalPWBinning(name='INDUS')"
      ]
     },
     "execution_count": 17,
     "metadata": {},
     "output_type": "execute_result"
    }
   ],
   "source": [
    "optb = ContinuousOptimalPWBinning(name=variable, monotonic_trend=\"auto\")\n",
    "optb.fit(x, y)"
   ]
  },
  {
   "cell_type": "code",
   "execution_count": 18,
   "metadata": {},
   "outputs": [
    {
     "data": {
      "text/html": [
       "<div>\n",
       "<style scoped>\n",
       "    .dataframe tbody tr th:only-of-type {\n",
       "        vertical-align: middle;\n",
       "    }\n",
       "\n",
       "    .dataframe tbody tr th {\n",
       "        vertical-align: top;\n",
       "    }\n",
       "\n",
       "    .dataframe thead th {\n",
       "        text-align: right;\n",
       "    }\n",
       "</style>\n",
       "<table border=\"1\" class=\"dataframe\">\n",
       "  <thead>\n",
       "    <tr style=\"text-align: right;\">\n",
       "      <th></th>\n",
       "      <th>Bin</th>\n",
       "      <th>Count</th>\n",
       "      <th>Count (%)</th>\n",
       "      <th>Sum</th>\n",
       "      <th>Std</th>\n",
       "      <th>Min</th>\n",
       "      <th>Max</th>\n",
       "      <th>Zeros count</th>\n",
       "      <th>c0</th>\n",
       "      <th>c1</th>\n",
       "    </tr>\n",
       "  </thead>\n",
       "  <tbody>\n",
       "    <tr>\n",
       "      <th>0</th>\n",
       "      <td>(-inf, 3.35)</td>\n",
       "      <td>63.0</td>\n",
       "      <td>0.124506</td>\n",
       "      <td>1994.0</td>\n",
       "      <td>8.569841</td>\n",
       "      <td>16.5</td>\n",
       "      <td>50.0</td>\n",
       "      <td>0</td>\n",
       "      <td>31.494243</td>\n",
       "      <td>0.000000</td>\n",
       "    </tr>\n",
       "    <tr>\n",
       "      <th>1</th>\n",
       "      <td>[3.35, 5.04)</td>\n",
       "      <td>57.0</td>\n",
       "      <td>0.112648</td>\n",
       "      <td>1615.2</td>\n",
       "      <td>8.072710</td>\n",
       "      <td>17.2</td>\n",
       "      <td>50.0</td>\n",
       "      <td>0</td>\n",
       "      <td>44.441955</td>\n",
       "      <td>-3.864989</td>\n",
       "    </tr>\n",
       "    <tr>\n",
       "      <th>2</th>\n",
       "      <td>[5.04, 6.66)</td>\n",
       "      <td>66.0</td>\n",
       "      <td>0.130435</td>\n",
       "      <td>1723.7</td>\n",
       "      <td>7.879078</td>\n",
       "      <td>16.0</td>\n",
       "      <td>50.0</td>\n",
       "      <td>0</td>\n",
       "      <td>24.962412</td>\n",
       "      <td>0.000000</td>\n",
       "    </tr>\n",
       "    <tr>\n",
       "      <th>3</th>\n",
       "      <td>[6.66, 9.12)</td>\n",
       "      <td>64.0</td>\n",
       "      <td>0.126482</td>\n",
       "      <td>1292.0</td>\n",
       "      <td>4.614126</td>\n",
       "      <td>12.7</td>\n",
       "      <td>35.2</td>\n",
       "      <td>0</td>\n",
       "      <td>39.414039</td>\n",
       "      <td>-2.169914</td>\n",
       "    </tr>\n",
       "    <tr>\n",
       "      <th>4</th>\n",
       "      <td>[9.12, 10.30)</td>\n",
       "      <td>29.0</td>\n",
       "      <td>0.057312</td>\n",
       "      <td>584.1</td>\n",
       "      <td>2.252281</td>\n",
       "      <td>16.1</td>\n",
       "      <td>24.5</td>\n",
       "      <td>0</td>\n",
       "      <td>19.613573</td>\n",
       "      <td>0.000000</td>\n",
       "    </tr>\n",
       "    <tr>\n",
       "      <th>5</th>\n",
       "      <td>[10.30, 20.73)</td>\n",
       "      <td>200.0</td>\n",
       "      <td>0.395257</td>\n",
       "      <td>3736.2</td>\n",
       "      <td>8.959305</td>\n",
       "      <td>5.0</td>\n",
       "      <td>50.0</td>\n",
       "      <td>0</td>\n",
       "      <td>21.429532</td>\n",
       "      <td>-0.176307</td>\n",
       "    </tr>\n",
       "    <tr>\n",
       "      <th>6</th>\n",
       "      <td>[20.73, inf)</td>\n",
       "      <td>27.0</td>\n",
       "      <td>0.053360</td>\n",
       "      <td>456.4</td>\n",
       "      <td>3.690878</td>\n",
       "      <td>7.0</td>\n",
       "      <td>23.0</td>\n",
       "      <td>0</td>\n",
       "      <td>23.933551</td>\n",
       "      <td>-0.297070</td>\n",
       "    </tr>\n",
       "    <tr>\n",
       "      <th>7</th>\n",
       "      <td>Special</td>\n",
       "      <td>0.0</td>\n",
       "      <td>0.000000</td>\n",
       "      <td>0.0</td>\n",
       "      <td>None</td>\n",
       "      <td>None</td>\n",
       "      <td>None</td>\n",
       "      <td>0</td>\n",
       "      <td>0.000000</td>\n",
       "      <td>0.000000</td>\n",
       "    </tr>\n",
       "    <tr>\n",
       "      <th>8</th>\n",
       "      <td>Missing</td>\n",
       "      <td>0.0</td>\n",
       "      <td>0.000000</td>\n",
       "      <td>0.0</td>\n",
       "      <td>None</td>\n",
       "      <td>None</td>\n",
       "      <td>None</td>\n",
       "      <td>0</td>\n",
       "      <td>0.000000</td>\n",
       "      <td>0.000000</td>\n",
       "    </tr>\n",
       "    <tr>\n",
       "      <th>Totals</th>\n",
       "      <td></td>\n",
       "      <td>506.0</td>\n",
       "      <td>1.000000</td>\n",
       "      <td>11401.6</td>\n",
       "      <td></td>\n",
       "      <td>5.0</td>\n",
       "      <td>50.0</td>\n",
       "      <td>0</td>\n",
       "      <td>-</td>\n",
       "      <td>-</td>\n",
       "    </tr>\n",
       "  </tbody>\n",
       "</table>\n",
       "</div>"
      ],
      "text/plain": [
       "                   Bin  Count  Count (%)      Sum       Std   Min   Max  \\\n",
       "0         (-inf, 3.35)   63.0   0.124506   1994.0  8.569841  16.5  50.0   \n",
       "1         [3.35, 5.04)   57.0   0.112648   1615.2  8.072710  17.2  50.0   \n",
       "2         [5.04, 6.66)   66.0   0.130435   1723.7  7.879078  16.0  50.0   \n",
       "3         [6.66, 9.12)   64.0   0.126482   1292.0  4.614126  12.7  35.2   \n",
       "4        [9.12, 10.30)   29.0   0.057312    584.1  2.252281  16.1  24.5   \n",
       "5       [10.30, 20.73)  200.0   0.395257   3736.2  8.959305   5.0  50.0   \n",
       "6         [20.73, inf)   27.0   0.053360    456.4  3.690878   7.0  23.0   \n",
       "7              Special    0.0   0.000000      0.0      None  None  None   \n",
       "8              Missing    0.0   0.000000      0.0      None  None  None   \n",
       "Totals                  506.0   1.000000  11401.6             5.0  50.0   \n",
       "\n",
       "        Zeros count         c0        c1  \n",
       "0                 0  31.494243  0.000000  \n",
       "1                 0  44.441955 -3.864989  \n",
       "2                 0  24.962412  0.000000  \n",
       "3                 0  39.414039 -2.169914  \n",
       "4                 0  19.613573  0.000000  \n",
       "5                 0  21.429532 -0.176307  \n",
       "6                 0  23.933551 -0.297070  \n",
       "7                 0   0.000000  0.000000  \n",
       "8                 0   0.000000  0.000000  \n",
       "Totals            0          -         -  "
      ]
     },
     "execution_count": 18,
     "metadata": {},
     "output_type": "execute_result"
    }
   ],
   "source": [
    "binning_table = optb.binning_table\n",
    "binning_table.build()"
   ]
  },
  {
   "cell_type": "code",
   "execution_count": 19,
   "metadata": {},
   "outputs": [
    {
     "data": {
      "image/png": "[encoded data removed]",
      "text/plain": [
       "<Figure size 432x288 with 2 Axes>"
      ]
     },
     "metadata": {
      "needs_background": "light"
     },
     "output_type": "display_data"
    }
   ],
   "source": [
    "binning_table.plot()"
   ]
  },
  {
   "cell_type": "code",
   "execution_count": 20,
   "metadata": {},
   "outputs": [
    {
     "name": "stdout",
     "output_type": "stream",
     "text": [
      "-------------------------------------------------\n",
      "OptimalBinning: Continuous Binning Table Analysis\n",
      "-------------------------------------------------\n",
      "\n",
      "  General metrics\n",
      "\n",
      "    Mean absolute error              5.44142744\n",
      "    Mean squared error              59.78870565\n",
      "    Median absolute error            4.13838129\n",
      "    Explained variance               0.29176712\n",
      "    R^2                              0.29176712\n",
      "    MPE                             -0.12274348\n",
      "    MAPE                             0.28239036\n",
      "    SMAPE                            0.12302499\n",
      "    MdAPE                            0.19474014\n",
      "    SMdAPE                           0.09639011\n",
      "    HHI                              0.22356231\n",
      "    HHI (normalized)                 0.12650760\n",
      "    Quality score                    0.03355055\n",
      "\n",
      "  Significance tests\n",
      "\n",
      "    Bin A  Bin B  t-statistic      p-value\n",
      "        0      1     2.180865 3.118080e-02\n",
      "        1      2     1.537968 1.267445e-01\n",
      "        2      3     5.254539 7.781110e-07\n",
      "        3      4     0.064736 9.485275e-01\n",
      "        4      5     1.923770 5.601023e-02\n",
      "        5      6     1.867339 6.563949e-02\n",
      "\n"
     ]
    }
   ],
   "source": [
    "binning_table.analysis()"
   ]
  },
  {
   "cell_type": "markdown",
   "metadata": {},
   "source": [
    "A smoother curve, keeping the valley monotonicity, can be achieved by using ``monotonic_trend=\"convex\"``."
   ]
  },
  {
   "cell_type": "code",
   "execution_count": 21,
   "metadata": {},
   "outputs": [
    {
     "data": {
      "text/plain": [
       "ContinuousOptimalPWBinning(monotonic_trend='convex', name='INDUS')"
      ]
     },
     "execution_count": 21,
     "metadata": {},
     "output_type": "execute_result"
    }
   ],
   "source": [
    "optb = ContinuousOptimalPWBinning(name=variable, monotonic_trend=\"convex\")\n",
    "optb.fit(x, y)"
   ]
  },
  {
   "cell_type": "code",
   "execution_count": 22,
   "metadata": {},
   "outputs": [
    {
     "data": {
      "text/html": [
       "<div>\n",
       "<style scoped>\n",
       "    .dataframe tbody tr th:only-of-type {\n",
       "        vertical-align: middle;\n",
       "    }\n",
       "\n",
       "    .dataframe tbody tr th {\n",
       "        vertical-align: top;\n",
       "    }\n",
       "\n",
       "    .dataframe thead th {\n",
       "        text-align: right;\n",
       "    }\n",
       "</style>\n",
       "<table border=\"1\" class=\"dataframe\">\n",
       "  <thead>\n",
       "    <tr style=\"text-align: right;\">\n",
       "      <th></th>\n",
       "      <th>Bin</th>\n",
       "      <th>Count</th>\n",
       "      <th>Count (%)</th>\n",
       "      <th>Sum</th>\n",
       "      <th>Std</th>\n",
       "      <th>Min</th>\n",
       "      <th>Max</th>\n",
       "      <th>Zeros count</th>\n",
       "      <th>c0</th>\n",
       "      <th>c1</th>\n",
       "    </tr>\n",
       "  </thead>\n",
       "  <tbody>\n",
       "    <tr>\n",
       "      <th>0</th>\n",
       "      <td>(-inf, 3.35)</td>\n",
       "      <td>63.0</td>\n",
       "      <td>0.124506</td>\n",
       "      <td>1994.0</td>\n",
       "      <td>8.569841</td>\n",
       "      <td>16.5</td>\n",
       "      <td>50.0</td>\n",
       "      <td>0</td>\n",
       "      <td>35.353511</td>\n",
       "      <td>-1.753581</td>\n",
       "    </tr>\n",
       "    <tr>\n",
       "      <th>1</th>\n",
       "      <td>[3.35, 5.04)</td>\n",
       "      <td>57.0</td>\n",
       "      <td>0.112648</td>\n",
       "      <td>1615.2</td>\n",
       "      <td>8.072710</td>\n",
       "      <td>17.2</td>\n",
       "      <td>50.0</td>\n",
       "      <td>0</td>\n",
       "      <td>35.353511</td>\n",
       "      <td>-1.753581</td>\n",
       "    </tr>\n",
       "    <tr>\n",
       "      <th>2</th>\n",
       "      <td>[5.04, 6.66)</td>\n",
       "      <td>66.0</td>\n",
       "      <td>0.130435</td>\n",
       "      <td>1723.7</td>\n",
       "      <td>7.879078</td>\n",
       "      <td>16.0</td>\n",
       "      <td>50.0</td>\n",
       "      <td>0</td>\n",
       "      <td>34.324955</td>\n",
       "      <td>-1.549503</td>\n",
       "    </tr>\n",
       "    <tr>\n",
       "      <th>3</th>\n",
       "      <td>[6.66, 9.12)</td>\n",
       "      <td>64.0</td>\n",
       "      <td>0.126482</td>\n",
       "      <td>1292.0</td>\n",
       "      <td>4.614126</td>\n",
       "      <td>12.7</td>\n",
       "      <td>35.2</td>\n",
       "      <td>0</td>\n",
       "      <td>34.324955</td>\n",
       "      <td>-1.549503</td>\n",
       "    </tr>\n",
       "    <tr>\n",
       "      <th>4</th>\n",
       "      <td>[9.12, 10.30)</td>\n",
       "      <td>29.0</td>\n",
       "      <td>0.057312</td>\n",
       "      <td>584.1</td>\n",
       "      <td>2.252281</td>\n",
       "      <td>16.1</td>\n",
       "      <td>24.5</td>\n",
       "      <td>0</td>\n",
       "      <td>22.168554</td>\n",
       "      <td>-0.217294</td>\n",
       "    </tr>\n",
       "    <tr>\n",
       "      <th>5</th>\n",
       "      <td>[10.30, 20.73)</td>\n",
       "      <td>200.0</td>\n",
       "      <td>0.395257</td>\n",
       "      <td>3736.2</td>\n",
       "      <td>8.959305</td>\n",
       "      <td>5.0</td>\n",
       "      <td>50.0</td>\n",
       "      <td>0</td>\n",
       "      <td>22.168554</td>\n",
       "      <td>-0.217294</td>\n",
       "    </tr>\n",
       "    <tr>\n",
       "      <th>6</th>\n",
       "      <td>[20.73, inf)</td>\n",
       "      <td>27.0</td>\n",
       "      <td>0.053360</td>\n",
       "      <td>456.4</td>\n",
       "      <td>3.690878</td>\n",
       "      <td>7.0</td>\n",
       "      <td>23.0</td>\n",
       "      <td>0</td>\n",
       "      <td>22.168554</td>\n",
       "      <td>-0.217294</td>\n",
       "    </tr>\n",
       "    <tr>\n",
       "      <th>7</th>\n",
       "      <td>Special</td>\n",
       "      <td>0.0</td>\n",
       "      <td>0.000000</td>\n",
       "      <td>0.0</td>\n",
       "      <td>None</td>\n",
       "      <td>None</td>\n",
       "      <td>None</td>\n",
       "      <td>0</td>\n",
       "      <td>0.000000</td>\n",
       "      <td>0.000000</td>\n",
       "    </tr>\n",
       "    <tr>\n",
       "      <th>8</th>\n",
       "      <td>Missing</td>\n",
       "      <td>0.0</td>\n",
       "      <td>0.000000</td>\n",
       "      <td>0.0</td>\n",
       "      <td>None</td>\n",
       "      <td>None</td>\n",
       "      <td>None</td>\n",
       "      <td>0</td>\n",
       "      <td>0.000000</td>\n",
       "      <td>0.000000</td>\n",
       "    </tr>\n",
       "    <tr>\n",
       "      <th>Totals</th>\n",
       "      <td></td>\n",
       "      <td>506.0</td>\n",
       "      <td>1.000000</td>\n",
       "      <td>11401.6</td>\n",
       "      <td></td>\n",
       "      <td>5.0</td>\n",
       "      <td>50.0</td>\n",
       "      <td>0</td>\n",
       "      <td>-</td>\n",
       "      <td>-</td>\n",
       "    </tr>\n",
       "  </tbody>\n",
       "</table>\n",
       "</div>"
      ],
      "text/plain": [
       "                   Bin  Count  Count (%)      Sum       Std   Min   Max  \\\n",
       "0         (-inf, 3.35)   63.0   0.124506   1994.0  8.569841  16.5  50.0   \n",
       "1         [3.35, 5.04)   57.0   0.112648   1615.2  8.072710  17.2  50.0   \n",
       "2         [5.04, 6.66)   66.0   0.130435   1723.7  7.879078  16.0  50.0   \n",
       "3         [6.66, 9.12)   64.0   0.126482   1292.0  4.614126  12.7  35.2   \n",
       "4        [9.12, 10.30)   29.0   0.057312    584.1  2.252281  16.1  24.5   \n",
       "5       [10.30, 20.73)  200.0   0.395257   3736.2  8.959305   5.0  50.0   \n",
       "6         [20.73, inf)   27.0   0.053360    456.4  3.690878   7.0  23.0   \n",
       "7              Special    0.0   0.000000      0.0      None  None  None   \n",
       "8              Missing    0.0   0.000000      0.0      None  None  None   \n",
       "Totals                  506.0   1.000000  11401.6             5.0  50.0   \n",
       "\n",
       "        Zeros count         c0        c1  \n",
       "0                 0  35.353511 -1.753581  \n",
       "1                 0  35.353511 -1.753581  \n",
       "2                 0  34.324955 -1.549503  \n",
       "3                 0  34.324955 -1.549503  \n",
       "4                 0  22.168554 -0.217294  \n",
       "5                 0  22.168554 -0.217294  \n",
       "6                 0  22.168554 -0.217294  \n",
       "7                 0   0.000000  0.000000  \n",
       "8                 0   0.000000  0.000000  \n",
       "Totals            0          -         -  "
      ]
     },
     "execution_count": 22,
     "metadata": {},
     "output_type": "execute_result"
    }
   ],
   "source": [
    "binning_table = optb.binning_table\n",
    "binning_table.build()"
   ]
  },
  {
   "cell_type": "code",
   "execution_count": 23,
   "metadata": {},
   "outputs": [
    {
     "data": {
      "image/png": "[encoded data removed]",
      "text/plain": [
       "<Figure size 432x288 with 2 Axes>"
      ]
     },
     "metadata": {
      "needs_background": "light"
     },
     "output_type": "display_data"
    }
   ],
   "source": [
    "binning_table.plot()"
   ]
  },
  {
   "cell_type": "code",
   "execution_count": 24,
   "metadata": {},
   "outputs": [
    {
     "name": "stdout",
     "output_type": "stream",
     "text": [
      "-------------------------------------------------\n",
      "OptimalBinning: Continuous Binning Table Analysis\n",
      "-------------------------------------------------\n",
      "\n",
      "  General metrics\n",
      "\n",
      "    Mean absolute error              5.51198416\n",
      "    Mean squared error              60.76046517\n",
      "    Median absolute error            4.19400512\n",
      "    Explained variance               0.28025605\n",
      "    R^2                              0.28025605\n",
      "    MPE                             -0.12411637\n",
      "    MAPE                             0.28485622\n",
      "    SMAPE                            0.12424799\n",
      "    MdAPE                            0.19529048\n",
      "    SMdAPE                           0.09815566\n",
      "    HHI                              0.22356231\n",
      "    HHI (normalized)                 0.12650760\n",
      "    Quality score                    0.03355055\n",
      "\n",
      "  Significance tests\n",
      "\n",
      "    Bin A  Bin B  t-statistic      p-value\n",
      "        0      1     2.180865 3.118080e-02\n",
      "        1      2     1.537968 1.267445e-01\n",
      "        2      3     5.254539 7.781110e-07\n",
      "        3      4     0.064736 9.485275e-01\n",
      "        4      5     1.923770 5.601023e-02\n",
      "        5      6     1.867339 6.563949e-02\n",
      "\n"
     ]
    }
   ],
   "source": [
    "binning_table.analysis()"
   ]
  }
 ],
 "metadata": {
  "kernelspec": {
   "display_name": "Python 3",
   "language": "python",
   "name": "python3"
  },
  "language_info": {
   "codemirror_mode": {
    "name": "ipython",
    "version": 3
   },
   "file_extension": ".py",
   "mimetype": "text/x-python",
   "name": "python",
   "nbconvert_exporter": "python",
   "pygments_lexer": "ipython3",
   "version": "3.7.4"
  }
 },
 "nbformat": 4,
 "nbformat_minor": 2
}
